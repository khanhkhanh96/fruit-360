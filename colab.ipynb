{
  "nbformat": 4,
  "nbformat_minor": 0,
  "metadata": {
    "colab": {
      "name": "Untitled4.ipynb",
      "version": "0.3.2",
      "views": {},
      "default_view": {},
      "provenance": [],
      "collapsed_sections": []
    },
    "kernelspec": {
      "name": "python3",
      "display_name": "Python 3"
    },
    "accelerator": "GPU"
  },
  "cells": [
    {
      "metadata": {
        "id": "b6Sjd4PLxFU3",
        "colab_type": "code",
        "colab": {
          "autoexec": {
            "startup": false,
            "wait_interval": 0
          },
          "base_uri": "https://localhost:8080/",
          "height": 222
        },
        "outputId": "aa304900-6ad1-4071-d2cd-2ad8c85de2ff",
        "executionInfo": {
          "status": "ok",
          "timestamp": 1529549005245,
          "user_tz": -420,
          "elapsed": 12566,
          "user": {
            "displayName": "Phạm Khánh",
            "photoUrl": "https://lh3.googleusercontent.com/a/default-user=s128",
            "userId": "108013420442388490411"
          }
        }
      },
      "cell_type": "code",
      "source": [
        "!wget https://uaelxg.bn.files.1drv.com/y4mpisY5MwS0-xepR1icDqLmai7cO4J4vlqRC4TpyiWqOoB_R2Q0sXFXwUUgWVJpdhrqJNFZX78DLsfMviiQY6jU08MEYeDU_rp4u5Jsb9ZZ35eFduGKzFEFGWlsN63KCJYwaRzim4Y9wM6mJtgAIAQ3j4bCZXbkPbignxOBkzD3xRjt5Tso4QOXxdiMK5DregI/fruits-360_dataset_2018_06_03.zip\n",
        "  \n",
        " "
      ],
      "execution_count": 2,
      "outputs": [
        {
          "output_type": "stream",
          "text": [
            "--2018-06-21 02:43:06--  https://uaelxg.bn.files.1drv.com/y4mpisY5MwS0-xepR1icDqLmai7cO4J4vlqRC4TpyiWqOoB_R2Q0sXFXwUUgWVJpdhrqJNFZX78DLsfMviiQY6jU08MEYeDU_rp4u5Jsb9ZZ35eFduGKzFEFGWlsN63KCJYwaRzim4Y9wM6mJtgAIAQ3j4bCZXbkPbignxOBkzD3xRjt5Tso4QOXxdiMK5DregI/fruits-360_dataset_2018_06_03.zip\n",
            "Resolving uaelxg.bn.files.1drv.com (uaelxg.bn.files.1drv.com)... 204.79.197.213\n",
            "Connecting to uaelxg.bn.files.1drv.com (uaelxg.bn.files.1drv.com)|204.79.197.213|:443... connected.\n",
            "HTTP request sent, awaiting response... 200 OK\n",
            "Length: 211922343 (202M) [application/zip]\n",
            "Saving to: ‘fruits-360_dataset_2018_06_03.zip’\n",
            "\n",
            "fruits-360_dataset_ 100%[===================>] 202.10M  23.1MB/s    in 9.1s    \n",
            "\n",
            "2018-06-21 02:43:17 (22.1 MB/s) - ‘fruits-360_dataset_2018_06_03.zip’ saved [211922343/211922343]\n",
            "\n"
          ],
          "name": "stdout"
        }
      ]
    },
    {
      "metadata": {
        "id": "EoA4avPyxZLF",
        "colab_type": "code",
        "colab": {
          "autoexec": {
            "startup": false,
            "wait_interval": 0
          }
        }
      },
      "cell_type": "code",
      "source": [
        "import zipfile\n",
        "zip_ref = zipfile.ZipFile('fruits-360_dataset_2018_06_03.zip', 'r')\n",
        "zip_ref.extractall('data2')\n",
        "zip_ref.close()"
      ],
      "execution_count": 0,
      "outputs": []
    },
    {
      "metadata": {
        "id": "toPsKITGcSgp",
        "colab_type": "code",
        "colab": {
          "autoexec": {
            "startup": false,
            "wait_interval": 0
          },
          "base_uri": "https://localhost:8080/",
          "height": 34
        },
        "outputId": "89d2469a-da07-4353-d3b9-aaec7b821906",
        "executionInfo": {
          "status": "ok",
          "timestamp": 1529548940516,
          "user_tz": -420,
          "elapsed": 1757,
          "user": {
            "displayName": "Phạm Khánh",
            "photoUrl": "https://lh3.googleusercontent.com/a/default-user=s128",
            "userId": "108013420442388490411"
          }
        }
      },
      "cell_type": "code",
      "source": [
        "ls"
      ],
      "execution_count": 1,
      "outputs": [
        {
          "output_type": "stream",
          "text": [
            "\u001b[0m\u001b[01;34mdatalab\u001b[0m/\r\n"
          ],
          "name": "stdout"
        }
      ]
    },
    {
      "metadata": {
        "id": "80p2ZdIyxnPM",
        "colab_type": "code",
        "colab": {
          "autoexec": {
            "startup": false,
            "wait_interval": 0
          },
          "base_uri": "https://localhost:8080/",
          "height": 34
        },
        "outputId": "1f797ea9-3666-474e-f7fa-77dbb4b5a7d0",
        "executionInfo": {
          "status": "ok",
          "timestamp": 1529566520477,
          "user_tz": -420,
          "elapsed": 3229,
          "user": {
            "displayName": "Phạm Khánh",
            "photoUrl": "https://lh3.googleusercontent.com/a/default-user=s128",
            "userId": "108013420442388490411"
          }
        }
      },
      "cell_type": "code",
      "source": [
        "import numpy as np # linear algebra\n",
        "import pandas as pd # data processing, CSV file I/O (e.g. pd.read_csv)\n",
        "import tensorflow as tf\n",
        "import matplotlib.pyplot as plt\n",
        "import cv2\n",
        "import glob\n",
        "import os\n",
        "import keras\n",
        "from keras.datasets import mnist\n",
        "from keras.models import Sequential\n",
        "from keras.layers import Dense, Dropout, Flatten\n",
        "from keras.layers import Conv2D, MaxPooling2D\n",
        "from keras import backend as K"
      ],
      "execution_count": 1,
      "outputs": [
        {
          "output_type": "stream",
          "text": [
            "Using TensorFlow backend.\n"
          ],
          "name": "stderr"
        }
      ]
    },
    {
      "metadata": {
        "id": "tjzDfWJUAX7c",
        "colab_type": "code",
        "colab": {
          "autoexec": {
            "startup": false,
            "wait_interval": 0
          },
          "base_uri": "https://localhost:8080/",
          "height": 34
        },
        "outputId": "b72fe75c-06ac-4c75-c38f-0b7513239de3",
        "executionInfo": {
          "status": "ok",
          "timestamp": 1529297136067,
          "user_tz": -420,
          "elapsed": 1939,
          "user": {
            "displayName": "Phạm Khánh",
            "photoUrl": "https://lh3.googleusercontent.com/a/default-user=s128",
            "userId": "108013420442388490411"
          }
        }
      },
      "cell_type": "code",
      "source": [
        "!ls\n"
      ],
      "execution_count": 4,
      "outputs": [
        {
          "output_type": "stream",
          "text": [
            "data2  datalab\tfruits-360_dataset_2018_06_03.zip  log64  logs\r\n"
          ],
          "name": "stdout"
        }
      ]
    },
    {
      "metadata": {
        "id": "aI_1fwg3xoRe",
        "colab_type": "code",
        "colab": {
          "autoexec": {
            "startup": false,
            "wait_interval": 0
          }
        }
      },
      "cell_type": "code",
      "source": [
        "training_fruit_img = []\n",
        "training_label = []\n",
        "for dir_path in glob.glob(\"data2/fruits-360/Training/*\"):\n",
        "    img_label = dir_path.split(\"/\")[-1]\n",
        "    for image_path in glob.glob(os.path.join(dir_path,\"*.jpg\")):\n",
        "        image = cv2.imread(image_path,cv2.IMREAD_COLOR)\n",
        "        image = cv2.resize(image, (64, 64))\n",
        "        image = cv2.cvtColor(image, cv2.COLOR_RGB2BGR)\n",
        "        training_fruit_img.append(image)\n",
        "        training_label.append(img_label)\n",
        "training_fruit_img = np.array(training_fruit_img)\n",
        "training_label = np.array(training_label)\n",
        "label_to_id = {v:k for k,v in enumerate(np.unique(training_label)) }\n",
        "id_to_label = {v:k for k,v in label_to_id.items()}\n",
        "training_label_id = np.array([label_to_id[i] for i in training_label])\n",
        "validation_fruit_img=[]\n",
        "validation_label =[]\n",
        "for dir_path in glob.glob(\"data2/fruits-360/Validation/*\"):\n",
        "    img_label = dir_path.split(\"/\")[-1]\n",
        "    for image_path in glob.glob(os.path.join(dir_path,\"*.jpg\")):\n",
        "        image = cv2.imread(image_path,cv2.IMREAD_COLOR)\n",
        "        image = cv2.resize(image, (64, 64))\n",
        "        image = cv2.cvtColor(image, cv2.COLOR_RGB2BGR)\n",
        "        validation_fruit_img.append(image)\n",
        "        validation_label.append(img_label)\n",
        "validation_fruit_img = np.array(validation_fruit_img)\n",
        "validation_label = np.array(validation_label)\n",
        "validation_label_id = np.array([label_to_id[i] for i in validation_label])"
      ],
      "execution_count": 0,
      "outputs": []
    },
    {
      "metadata": {
        "id": "8lXYJrbD-5jF",
        "colab_type": "code",
        "colab": {
          "autoexec": {
            "startup": false,
            "wait_interval": 0
          },
          "base_uri": "https://localhost:8080/",
          "height": 34
        },
        "outputId": "b5bb3f26-e853-423d-efe9-ee26c982229e",
        "executionInfo": {
          "status": "ok",
          "timestamp": 1529424207767,
          "user_tz": -420,
          "elapsed": 804,
          "user": {
            "displayName": "Phạm Khánh",
            "photoUrl": "https://lh3.googleusercontent.com/a/default-user=s128",
            "userId": "108013420442388490411"
          }
        }
      },
      "cell_type": "code",
      "source": [
        "training_fruit_img.shape"
      ],
      "execution_count": 23,
      "outputs": [
        {
          "output_type": "execute_result",
          "data": {
            "text/plain": [
              "(32426, 64, 64, 3)"
            ]
          },
          "metadata": {
            "tags": []
          },
          "execution_count": 23
        }
      ]
    },
    {
      "metadata": {
        "id": "P5UkIc_mxryR",
        "colab_type": "code",
        "colab": {
          "autoexec": {
            "startup": false,
            "wait_interval": 0
          }
        }
      },
      "cell_type": "code",
      "source": [
        "x_test = validation_fruit_img.astype('float32')\n",
        "y_test = validation_label_id\n",
        "\n",
        "\n",
        "\n",
        "def cnn(batch_size = 128, num_classes = 65, epochs = 1, numfilter1 = 64,y_train = training_label_id,\n",
        "  y_test = validation_label_id, x_train = training_fruit_img.astype('float32'), x_test = validation_fruit_img.astype('float32'),kernel_size1=(3, 3),\n",
        "        numfilter2 = 64, kernel_size2=(3, 3), activation='relu', log_dir='logs', optimizer=keras.optimizers.Adadelta()):\n",
        "  \n",
        "\n",
        "  batch_size = batch_size\n",
        "  num_classes = num_classes\n",
        "  epochs = epochs\n",
        "\n",
        "  # input image dimensions\n",
        "  img_rows, img_cols = 64, 64\n",
        "  input_shape = (img_rows,img_cols,3)\n",
        "\n",
        "\n",
        "  y_train = training_label_id\n",
        "  y_test = validation_label_id\n",
        "\n",
        "  x_train = training_fruit_img.astype('float32')\n",
        "  x_test = validation_fruit_img.astype('float32')\n",
        "  x_train /= 255\n",
        "  x_test /= 255\n",
        "  print('x_train shape:', x_train.shape)\n",
        "  print(x_train.shape[0], 'train samples')\n",
        "  print(x_test.shape[0], 'test samples')\n",
        "\n",
        "  # convert class vectors to binary class matrices\n",
        "  y_train = keras.utils.to_categorical(y_train, num_classes)\n",
        "  y_test = keras.utils.to_categorical(y_test, num_classes)\n",
        "\n",
        "  model = Sequential()\n",
        "  \n",
        "  model.add(Conv2D(numfilter1, kernel_size=kernel_size1,\n",
        "                   activation=activation,\n",
        "                   input_shape=input_shape))\n",
        "  model.add(Conv2D(numfilter2, kernel_size2, activation=activation))\n",
        "  model.add(keras.layers.MaxPooling2D(pool_size=(2, 2)))\n",
        "  \n",
        "  model.add(Conv2D(numfilter1, kernel_size=kernel_size1,\n",
        "                   activation=activation,\n",
        "                   input_shape=input_shape))\n",
        "  model.add(Conv2D(numfilter2, kernel_size2, activation=activation))\n",
        "  model.add(keras.layers.MaxPooling2D(pool_size=(2, 2)))\n",
        "\n",
        "  model.add(Flatten())\n",
        "  model.add(Dense(128, activation=activation))\n",
        "  model.add(Dense(num_classes, activation='softmax'))\n",
        "\n",
        "  from keras.callbacks import TensorBoard\n",
        "\n",
        "  tensorboard = TensorBoard(log_dir='logs', histogram_freq=0,\n",
        "                          write_graph=True, write_images=False)\n",
        "  model.compile(loss=keras.losses.categorical_crossentropy,\n",
        "              optimizer=optimizer,\n",
        "              metrics=['accuracy'])\n",
        "  model.fit(x_train, y_train,\n",
        "          batch_size=batch_size,\n",
        "          epochs=epochs,\n",
        "          verbose=1,\n",
        "          validation_data=(x_test, y_test),\n",
        "          callbacks=[tensorboard])\n",
        "  score = model.evaluate(x_test, y_test, verbose=0)\n",
        "  print('Test loss:', score[0])\n",
        "  print('Test accuracy:', score[1])\n",
        "  \n",
        "  return model\n",
        "\n"
      ],
      "execution_count": 0,
      "outputs": []
    },
    {
      "metadata": {
        "id": "2uyTxYHqrkuw",
        "colab_type": "code",
        "colab": {
          "autoexec": {
            "startup": false,
            "wait_interval": 0
          },
          "base_uri": "https://localhost:8080/",
          "height": 1683
        },
        "outputId": "eccedebc-5b9b-453e-a5f0-1aa9836457c7",
        "executionInfo": {
          "status": "ok",
          "timestamp": 1529564746664,
          "user_tz": -420,
          "elapsed": 264700,
          "user": {
            "displayName": "Phạm Khánh",
            "photoUrl": "https://lh3.googleusercontent.com/a/default-user=s128",
            "userId": "108013420442388490411"
          }
        }
      },
      "cell_type": "code",
      "source": [
        "model = cnn(batch_size = 128, num_classes = 65, epochs = 10, numfilter1 = 32,y_train = training_label_id,\n",
        "  y_test = validation_label_id, x_train = training_fruit_img.astype('float32'), x_test = validation_fruit_img.astype('float32'),kernel_size1=(3, 3),\n",
        "        numfilter2 = 64, kernel_size2=(3, 3), activation='relu', log_dir='logs', optimizer=keras.optimizers.Adadelta())\n",
        "from sklearn.metrics import classification_report\n",
        "classes = np.argmax(model.predict(x_test, batch_size = 128), axis=1)\n",
        "print(classification_report(y_test, classes))"
      ],
      "execution_count": 4,
      "outputs": [
        {
          "output_type": "stream",
          "text": [
            "x_train shape: (32426, 64, 64, 3)\n",
            "32426 train samples\n",
            "10903 test samples\n",
            "Train on 32426 samples, validate on 10903 samples\n",
            "Epoch 1/10\n",
            "32426/32426 [==============================] - 26s 805us/step - loss: 1.6910 - acc: 0.5696 - val_loss: 0.5614 - val_acc: 0.8685\n",
            "Epoch 2/10\n",
            "15872/32426 [=============>................] - ETA: 11s - loss: 0.1099 - acc: 0.9705"
          ],
          "name": "stdout"
        },
        {
          "output_type": "stream",
          "text": [
            "32426/32426 [==============================] - 24s 752us/step - loss: 0.0936 - acc: 0.9752 - val_loss: 0.2608 - val_acc: 0.9233\n",
            "Epoch 3/10\n",
            "32426/32426 [==============================] - 25s 756us/step - loss: 0.0285 - acc: 0.9892 - val_loss: 0.2137 - val_acc: 0.9328\n",
            "Epoch 4/10\n",
            "11392/32426 [=========>....................] - ETA: 14s - loss: 0.1950 - acc: 0.9596"
          ],
          "name": "stdout"
        },
        {
          "output_type": "stream",
          "text": [
            "32426/32426 [==============================] - 24s 754us/step - loss: 0.0789 - acc: 0.9809 - val_loss: 0.2675 - val_acc: 0.9301\n",
            "Epoch 5/10\n",
            "32426/32426 [==============================] - 24s 753us/step - loss: 0.0368 - acc: 0.9876 - val_loss: 0.3290 - val_acc: 0.9147\n",
            "Epoch 6/10\n",
            "10368/32426 [========>.....................] - ETA: 14s - loss: 0.0455 - acc: 0.9844"
          ],
          "name": "stdout"
        },
        {
          "output_type": "stream",
          "text": [
            "32426/32426 [==============================] - 24s 754us/step - loss: 0.0360 - acc: 0.9876 - val_loss: 0.2589 - val_acc: 0.9258\n",
            "Epoch 7/10\n",
            "32426/32426 [==============================] - 25s 757us/step - loss: 0.0150 - acc: 0.9917 - val_loss: 0.2442 - val_acc: 0.9308\n",
            "Epoch 8/10\n",
            "10112/32426 [========>.....................] - ETA: 15s - loss: 0.2138 - acc: 0.9539"
          ],
          "name": "stdout"
        },
        {
          "output_type": "stream",
          "text": [
            "32426/32426 [==============================] - 24s 756us/step - loss: 0.0762 - acc: 0.9802 - val_loss: 0.2756 - val_acc: 0.9317\n",
            "Epoch 9/10\n",
            "32426/32426 [==============================] - 25s 757us/step - loss: 0.0110 - acc: 0.9931 - val_loss: 0.2875 - val_acc: 0.9336\n",
            "Epoch 10/10\n",
            "10112/32426 [========>.....................] - ETA: 15s - loss: 0.0098 - acc: 0.9922"
          ],
          "name": "stdout"
        },
        {
          "output_type": "stream",
          "text": [
            "32426/32426 [==============================] - 24s 755us/step - loss: 0.0103 - acc: 0.9927 - val_loss: 0.2890 - val_acc: 0.9373\n",
            "Test loss: 0.2889807147027679\n",
            "Test accuracy: 0.9372649729432266\n",
            "             precision    recall  f1-score   support\n",
            "\n",
            "          0       1.00      0.10      0.19       164\n",
            "          1       0.00      0.00      0.00       164\n",
            "          2       0.24      0.29      0.26       164\n",
            "          3       0.00      0.00      0.00       161\n",
            "          4       1.00      0.04      0.07       164\n",
            "          5       0.43      0.14      0.21       164\n",
            "          6       0.29      0.21      0.24       164\n",
            "          7       1.00      0.09      0.17       144\n",
            "          8       1.00      0.58      0.73       166\n",
            "          9       0.27      0.70      0.39       164\n",
            "         10       0.71      1.00      0.83       164\n",
            "         11       1.00      0.11      0.20       143\n",
            "         12       0.50      0.01      0.01       166\n",
            "         13       0.78      0.74      0.76       166\n",
            "         14       0.31      0.56      0.40       166\n",
            "         15       0.89      0.73      0.80       166\n",
            "         16       0.23      1.00      0.38       164\n",
            "         17       0.32      1.00      0.48       164\n",
            "         18       0.92      0.82      0.87       166\n",
            "         19       0.35      0.20      0.25       164\n",
            "         20       0.91      0.56      0.69       246\n",
            "         21       0.88      0.34      0.49       246\n",
            "         22       0.49      1.00      0.66       166\n",
            "         23       0.00      0.00      0.00       166\n",
            "         24       1.00      0.25      0.40       166\n",
            "         25       0.40      0.46      0.43       166\n",
            "         26       0.33      0.50      0.40       164\n",
            "         27       0.26      0.97      0.40       166\n",
            "         28       0.97      1.00      0.99       166\n",
            "         29       0.60      1.00      0.75       166\n",
            "         30       0.97      0.71      0.82       164\n",
            "         31       1.00      0.16      0.28       166\n",
            "         32       1.00      0.87      0.93       166\n",
            "         33       0.42      1.00      0.59       166\n",
            "         34       0.11      0.29      0.17       156\n",
            "         35       0.72      1.00      0.84       166\n",
            "         36       0.50      0.45      0.48       164\n",
            "         37       1.00      1.00      1.00       166\n",
            "         38       0.00      0.00      0.00       166\n",
            "         39       0.75      0.90      0.82       166\n",
            "         40       0.71      0.85      0.77       166\n",
            "         41       0.00      0.00      0.00       166\n",
            "         42       0.88      0.64      0.74       166\n",
            "         43       0.51      0.75      0.61       246\n",
            "         44       0.21      0.17      0.19       164\n",
            "         45       0.94      1.00      0.97       160\n",
            "         46       1.00      0.10      0.19       164\n",
            "         47       0.00      0.00      0.00       166\n",
            "         48       1.00      0.46      0.63       164\n",
            "         49       0.52      0.44      0.48       164\n",
            "         50       0.43      0.23      0.30       164\n",
            "         51       0.60      0.96      0.74       166\n",
            "         52       0.35      1.00      0.52       166\n",
            "         53       0.44      0.61      0.51       166\n",
            "         54       0.62      0.63      0.62       166\n",
            "         55       0.97      0.58      0.72       166\n",
            "         56       1.00      0.60      0.75       166\n",
            "         57       0.00      0.00      0.00       151\n",
            "         58       1.00      0.03      0.06       164\n",
            "         59       0.66      1.00      0.79       166\n",
            "         60       1.00      0.70      0.82       166\n",
            "         61       1.00      0.48      0.64       162\n",
            "         62       1.00      0.66      0.79       164\n",
            "         63       1.00      0.50      0.67       166\n",
            "         64       0.96      0.93      0.95       166\n",
            "\n",
            "avg / total       0.62      0.53      0.49     10903\n",
            "\n"
          ],
          "name": "stdout"
        },
        {
          "output_type": "stream",
          "text": [
            "/usr/local/lib/python3.6/dist-packages/sklearn/metrics/classification.py:1135: UndefinedMetricWarning: Precision and F-score are ill-defined and being set to 0.0 in labels with no predicted samples.\n",
            "  'precision', 'predicted', average, warn_for)\n"
          ],
          "name": "stderr"
        }
      ]
    },
    {
      "metadata": {
        "id": "sPoZvL0c7zfp",
        "colab_type": "code",
        "colab": {
          "autoexec": {
            "startup": false,
            "wait_interval": 0
          }
        }
      },
      "cell_type": "code",
      "source": [
        "\n",
        "def cnn2(batch_size = 128, num_classes = 65, epochs = 30, numfilter1 = 32,y_train = training_label_id,\n",
        "  y_test = validation_label_id, x_train = training_fruit_img.astype('float32'), x_test = validation_fruit_img.astype('float32'),kernel_size1=(3, 3),\n",
        "        numfilter2 = 64, kernel_size2=(3, 3), activation='tanh', optimizer=keras.optimizers.Adadelta(),pool_size=(2, 2) ):\n",
        "  \n",
        "  tensorboard = keras.callbacks.TensorBoard(log_dir='logrms', histogram_freq=0,\n",
        "                          write_graph=True, write_images=False)\n",
        "  batch_size = batch_size\n",
        "  num_classes = num_classes\n",
        "  epochs = epochs\n",
        "\n",
        "  # input image dimensions\n",
        "  img_rows, img_cols = 64, 64\n",
        "  input_shape = (img_rows,img_cols,3)\n",
        "\n",
        "\n",
        "  y_train = training_label_id\n",
        "  y_test = validation_label_id\n",
        "\n",
        "  x_train = training_fruit_img.astype('float32')\n",
        "  x_test = validation_fruit_img.astype('float32')\n",
        "  x_train /= 255\n",
        "  x_test /= 255\n",
        "  print('x_train shape:', x_train.shape)\n",
        "  print(x_train.shape[0], 'train samples')\n",
        "  print(x_test.shape[0], 'test samples')\n",
        "\n",
        "  # convert class vectors to binary class matrices\n",
        "  y_train = keras.utils.to_categorical(y_train, num_classes)\n",
        "  y_test = keras.utils.to_categorical(y_test, num_classes)\n",
        "\n",
        "  model = Sequential()\n",
        "  model.add(Conv2D(numfilter1, kernel_size=kernel_size1,\n",
        "                   activation=activation,\n",
        "                   input_shape=input_shape))\n",
        "  model.add(Conv2D(numfilter2, kernel_size2, activation=activation))\n",
        "  model.add(MaxPooling2D(pool_size=pool_size))\n",
        "  model.add(Dropout(0.5))\n",
        "  model.add(Conv2D(numfilter1, kernel_size=kernel_size1,\n",
        "                   activation=activation,\n",
        "                   input_shape=input_shape))\n",
        "  model.add(Conv2D(numfilter2, kernel_size2, activation=activation))\n",
        "  model.add(MaxPooling2D(pool_size=pool_size))\n",
        "  model.add(Flatten())\n",
        "  model.add(Dense(256, activation=activation))\n",
        "  model.add(Dropout(0.25))\n",
        "  model.add(Dense(num_classes, activation='softmax'))\n",
        "\n",
        "  from keras.callbacks import TensorBoard\n",
        "\n",
        "  tensorboard = TensorBoard(log_dir='logs2', histogram_freq=0,\n",
        "                          write_graph=True, write_images=False)\n",
        "  model.compile(loss=keras.losses.categorical_crossentropy,\n",
        "              optimizer=optimizer,\n",
        "              metrics=['accuracy'])\n",
        "  model.fit(x_train, y_train,\n",
        "          batch_size=batch_size,\n",
        "          epochs=epochs,\n",
        "          verbose=1,\n",
        "          validation_data=(x_test, y_test),\n",
        "          callbacks=[tensorboard])\n",
        "  score = model.evaluate(x_test, y_test, verbose=0)\n",
        "  print('Test loss:', score[0])\n",
        "  print('Test accuracy:', score[1])\n",
        "  return model"
      ],
      "execution_count": 0,
      "outputs": []
    },
    {
      "metadata": {
        "id": "t1KvzmBUZmvC",
        "colab_type": "code",
        "colab": {
          "autoexec": {
            "startup": false,
            "wait_interval": 0
          },
          "base_uri": "https://localhost:8080/",
          "height": 1045
        },
        "outputId": "6d841335-98f8-4751-a289-1110e3a2c892",
        "executionInfo": {
          "status": "ok",
          "timestamp": 1529565522929,
          "user_tz": -420,
          "elapsed": 774965,
          "user": {
            "displayName": "Phạm Khánh",
            "photoUrl": "https://lh3.googleusercontent.com/a/default-user=s128",
            "userId": "108013420442388490411"
          }
        }
      },
      "cell_type": "code",
      "source": [
        "model2 = cnn2(batch_size = 80, num_classes = 65, epochs = 27, numfilter1 = 32,y_train = training_label_id,\n",
        "  y_test = validation_label_id, x_train = training_fruit_img.astype('float32'), x_test = validation_fruit_img.astype('float32'),kernel_size1=(3, 3),\n",
        "        numfilter2 = 64, kernel_size2=(3, 3), activation='relu', optimizer = keras.optimizers.RMSprop(lr=0.0005, rho=0.9, epsilon=1e-08, decay=0.0),pool_size=(2, 2))\n",
        "\n"
      ],
      "execution_count": 6,
      "outputs": [
        {
          "output_type": "stream",
          "text": [
            "x_train shape: (32426, 64, 64, 3)\n",
            "32426 train samples\n",
            "10903 test samples\n",
            "Train on 32426 samples, validate on 10903 samples\n",
            "Epoch 1/27\n",
            "32426/32426 [==============================] - 29s 902us/step - loss: 1.1904 - acc: 0.6684 - val_loss: 0.5375 - val_acc: 0.8658\n",
            "Epoch 2/27\n",
            " 2320/32426 [=>............................] - ETA: 24s - loss: 0.2407 - acc: 0.9216"
          ],
          "name": "stdout"
        },
        {
          "output_type": "stream",
          "text": [
            "32426/32426 [==============================] - 28s 877us/step - loss: 0.1588 - acc: 0.9502 - val_loss: 0.5034 - val_acc: 0.8416\n",
            "Epoch 3/27\n",
            "23920/32426 [=====================>........] - ETA: 6s - loss: 0.0862 - acc: 0.9722"
          ],
          "name": "stdout"
        },
        {
          "output_type": "stream",
          "text": [
            "32426/32426 [==============================] - 28s 877us/step - loss: 0.0820 - acc: 0.9735 - val_loss: 0.2096 - val_acc: 0.9405\n",
            "Epoch 4/27\n",
            "31840/32426 [============================>.] - ETA: 0s - loss: 0.0526 - acc: 0.9818"
          ],
          "name": "stdout"
        },
        {
          "output_type": "stream",
          "text": [
            "32426/32426 [==============================] - 28s 879us/step - loss: 0.0526 - acc: 0.9817 - val_loss: 0.3462 - val_acc: 0.9077\n",
            "Epoch 5/27\n",
            "32426/32426 [==============================] - 28s 876us/step - loss: 0.0432 - acc: 0.9846 - val_loss: 0.1572 - val_acc: 0.9554\n",
            "Epoch 6/27\n",
            " 1600/32426 [>.............................] - ETA: 24s - loss: 0.0204 - acc: 0.9913"
          ],
          "name": "stdout"
        },
        {
          "output_type": "stream",
          "text": [
            "32426/32426 [==============================] - 28s 873us/step - loss: 0.0353 - acc: 0.9868 - val_loss: 0.1559 - val_acc: 0.9606\n",
            "Epoch 7/27\n",
            "24240/32426 [=====================>........] - ETA: 6s - loss: 0.0315 - acc: 0.9876"
          ],
          "name": "stdout"
        },
        {
          "output_type": "stream",
          "text": [
            "32426/32426 [==============================] - 28s 875us/step - loss: 0.0323 - acc: 0.9872 - val_loss: 0.1975 - val_acc: 0.9445\n",
            "Epoch 8/27\n",
            "32426/32426 [==============================] - 29s 880us/step - loss: 0.0294 - acc: 0.9884 - val_loss: 0.2415 - val_acc: 0.9381\n",
            "Epoch 9/27\n",
            "   80/32426 [..............................] - ETA: 25s - loss: 0.0266 - acc: 0.9875"
          ],
          "name": "stdout"
        },
        {
          "output_type": "stream",
          "text": [
            "32426/32426 [==============================] - 28s 874us/step - loss: 0.0250 - acc: 0.9904 - val_loss: 0.1619 - val_acc: 0.9622\n",
            "Epoch 10/27\n",
            "23520/32426 [====================>.........] - ETA: 7s - loss: 0.0239 - acc: 0.9905"
          ],
          "name": "stdout"
        },
        {
          "output_type": "stream",
          "text": [
            "32426/32426 [==============================] - 28s 874us/step - loss: 0.0242 - acc: 0.9904 - val_loss: 0.1303 - val_acc: 0.9592\n",
            "Epoch 11/27\n",
            "32240/32426 [============================>.] - ETA: 0s - loss: 0.0254 - acc: 0.9894"
          ],
          "name": "stdout"
        },
        {
          "output_type": "stream",
          "text": [
            "32426/32426 [==============================] - 28s 874us/step - loss: 0.0252 - acc: 0.9895 - val_loss: 0.2184 - val_acc: 0.9536\n",
            "Epoch 12/27\n",
            "32426/32426 [==============================] - 28s 869us/step - loss: 0.0237 - acc: 0.9895 - val_loss: 0.1551 - val_acc: 0.9635\n",
            "Epoch 13/27\n",
            " 1840/32426 [>.............................] - ETA: 24s - loss: 0.0181 - acc: 0.9946"
          ],
          "name": "stdout"
        },
        {
          "output_type": "stream",
          "text": [
            "32426/32426 [==============================] - 28s 875us/step - loss: 0.0211 - acc: 0.9907 - val_loss: 0.1745 - val_acc: 0.9580\n",
            "Epoch 14/27\n",
            "24000/32426 [=====================>........] - ETA: 6s - loss: 0.0208 - acc: 0.9905"
          ],
          "name": "stdout"
        },
        {
          "output_type": "stream",
          "text": [
            "32426/32426 [==============================] - 28s 875us/step - loss: 0.0218 - acc: 0.9903 - val_loss: 0.1663 - val_acc: 0.9665\n",
            "Epoch 15/27\n",
            "32400/32426 [============================>.] - ETA: 0s - loss: 0.0206 - acc: 0.9907"
          ],
          "name": "stdout"
        },
        {
          "output_type": "stream",
          "text": [
            "32426/32426 [==============================] - 28s 876us/step - loss: 0.0206 - acc: 0.9907 - val_loss: 0.1648 - val_acc: 0.9630\n",
            "Epoch 16/27\n",
            "32426/32426 [==============================] - 28s 874us/step - loss: 0.0194 - acc: 0.9913 - val_loss: 0.3058 - val_acc: 0.9528\n",
            "Epoch 17/27\n",
            " 1760/32426 [>.............................] - ETA: 24s - loss: 0.0389 - acc: 0.9830"
          ],
          "name": "stdout"
        },
        {
          "output_type": "stream",
          "text": [
            "32426/32426 [==============================] - 28s 875us/step - loss: 0.0229 - acc: 0.9900 - val_loss: 0.1944 - val_acc: 0.9620\n",
            "Epoch 18/27\n",
            "24000/32426 [=====================>........] - ETA: 6s - loss: 0.0225 - acc: 0.9904"
          ],
          "name": "stdout"
        },
        {
          "output_type": "stream",
          "text": [
            "32426/32426 [==============================] - 28s 878us/step - loss: 0.0220 - acc: 0.9904 - val_loss: 0.1880 - val_acc: 0.9626\n",
            "Epoch 19/27\n",
            "32240/32426 [============================>.] - ETA: 0s - loss: 0.0190 - acc: 0.9910"
          ],
          "name": "stdout"
        },
        {
          "output_type": "stream",
          "text": [
            "32426/32426 [==============================] - 29s 882us/step - loss: 0.0190 - acc: 0.9909 - val_loss: 0.1741 - val_acc: 0.9529\n",
            "Epoch 20/27\n",
            "32426/32426 [==============================] - 28s 877us/step - loss: 0.0215 - acc: 0.9901 - val_loss: 0.2574 - val_acc: 0.9574\n",
            "Epoch 21/27\n",
            " 1920/32426 [>.............................] - ETA: 24s - loss: 0.0155 - acc: 0.9911"
          ],
          "name": "stdout"
        },
        {
          "output_type": "stream",
          "text": [
            "32426/32426 [==============================] - 28s 874us/step - loss: 0.0185 - acc: 0.9918 - val_loss: 0.3211 - val_acc: 0.9464\n",
            "Epoch 22/27\n",
            "24000/32426 [=====================>........] - ETA: 6s - loss: 0.0201 - acc: 0.9903"
          ],
          "name": "stdout"
        },
        {
          "output_type": "stream",
          "text": [
            "32426/32426 [==============================] - 28s 877us/step - loss: 0.0186 - acc: 0.9911 - val_loss: 0.2521 - val_acc: 0.9615\n",
            "Epoch 23/27\n",
            "32240/32426 [============================>.] - ETA: 0s - loss: 0.0216 - acc: 0.9908"
          ],
          "name": "stdout"
        },
        {
          "output_type": "stream",
          "text": [
            "32426/32426 [==============================] - 28s 875us/step - loss: 0.0216 - acc: 0.9908 - val_loss: 0.2019 - val_acc: 0.9621\n",
            "Epoch 24/27\n",
            "32426/32426 [==============================] - 28s 874us/step - loss: 0.0238 - acc: 0.9909 - val_loss: 0.3348 - val_acc: 0.9512\n",
            "Epoch 25/27\n",
            " 1840/32426 [>.............................] - ETA: 23s - loss: 0.0221 - acc: 0.9929"
          ],
          "name": "stdout"
        },
        {
          "output_type": "stream",
          "text": [
            "32426/32426 [==============================] - 28s 876us/step - loss: 0.0188 - acc: 0.9917 - val_loss: 0.2423 - val_acc: 0.9589\n",
            "Epoch 26/27\n",
            "23920/32426 [=====================>........] - ETA: 6s - loss: 0.0220 - acc: 0.9917"
          ],
          "name": "stdout"
        },
        {
          "output_type": "stream",
          "text": [
            "32426/32426 [==============================] - 28s 875us/step - loss: 0.0202 - acc: 0.9916 - val_loss: 0.3202 - val_acc: 0.9586\n",
            "Epoch 27/27\n",
            "32426/32426 [==============================] - 28s 873us/step - loss: 0.0201 - acc: 0.9911 - val_loss: 0.2627 - val_acc: 0.9654\n"
          ],
          "name": "stdout"
        },
        {
          "output_type": "stream",
          "text": [
            "Test loss: 0.26274687034063077\n",
            "Test accuracy: 0.9654223608181235\n"
          ],
          "name": "stdout"
        }
      ]
    },
    {
      "metadata": {
        "id": "74NI95EQ8Qpk",
        "colab_type": "code",
        "colab": {
          "autoexec": {
            "startup": false,
            "wait_interval": 0
          },
          "base_uri": "https://localhost:8080/",
          "height": 1246
        },
        "outputId": "8b9fab53-fa71-4af4-d284-a0ccc1228e28",
        "executionInfo": {
          "status": "ok",
          "timestamp": 1529566272366,
          "user_tz": -420,
          "elapsed": 3421,
          "user": {
            "displayName": "Phạm Khánh",
            "photoUrl": "https://lh3.googleusercontent.com/a/default-user=s128",
            "userId": "108013420442388490411"
          }
        }
      },
      "cell_type": "code",
      "source": [
        "from sklearn.metrics import classification_report\n",
        "classes = np.argmax(model2.predict(x_test, batch_size=128), axis=1)\n",
        "print(classification_report(y_test, classes))"
      ],
      "execution_count": 12,
      "outputs": [
        {
          "output_type": "stream",
          "text": [
            "             precision    recall  f1-score   support\n",
            "\n",
            "          0       0.95      0.46      0.62       164\n",
            "          1       0.20      0.93      0.33       164\n",
            "          2       0.94      0.30      0.45       164\n",
            "          3       0.00      0.00      0.00       161\n",
            "          4       0.00      0.00      0.00       164\n",
            "          5       0.49      0.60      0.54       164\n",
            "          6       1.00      0.07      0.13       164\n",
            "          7       1.00      0.10      0.18       144\n",
            "          8       1.00      0.21      0.35       166\n",
            "          9       0.24      1.00      0.39       164\n",
            "         10       0.98      1.00      0.99       164\n",
            "         11       0.00      0.00      0.00       143\n",
            "         12       1.00      0.54      0.70       166\n",
            "         13       1.00      0.75      0.86       166\n",
            "         14       0.77      0.86      0.81       166\n",
            "         15       0.86      0.80      0.83       166\n",
            "         16       0.98      1.00      0.99       164\n",
            "         17       0.80      1.00      0.89       164\n",
            "         18       0.81      1.00      0.89       166\n",
            "         19       0.25      0.02      0.03       164\n",
            "         20       1.00      0.15      0.26       246\n",
            "         21       0.40      0.92      0.56       246\n",
            "         22       0.91      1.00      0.95       166\n",
            "         23       0.00      0.00      0.00       166\n",
            "         24       1.00      0.69      0.82       166\n",
            "         25       0.81      1.00      0.90       166\n",
            "         26       0.41      1.00      0.58       164\n",
            "         27       1.00      0.99      1.00       166\n",
            "         28       1.00      1.00      1.00       166\n",
            "         29       1.00      1.00      1.00       166\n",
            "         30       1.00      1.00      1.00       164\n",
            "         31       1.00      1.00      1.00       166\n",
            "         32       1.00      1.00      1.00       166\n",
            "         33       0.60      1.00      0.75       166\n",
            "         34       0.34      0.99      0.50       156\n",
            "         35       0.68      1.00      0.81       166\n",
            "         36       0.97      0.78      0.86       164\n",
            "         37       1.00      1.00      1.00       166\n",
            "         38       0.00      0.00      0.00       166\n",
            "         39       0.88      0.82      0.85       166\n",
            "         40       1.00      0.80      0.89       166\n",
            "         41       1.00      0.01      0.01       166\n",
            "         42       1.00      0.73      0.85       166\n",
            "         43       0.62      0.92      0.74       246\n",
            "         44       0.24      0.43      0.31       164\n",
            "         45       1.00      0.97      0.99       160\n",
            "         46       0.60      0.99      0.74       164\n",
            "         47       0.00      0.00      0.00       166\n",
            "         48       0.44      0.39      0.41       164\n",
            "         49       0.85      0.82      0.83       164\n",
            "         50       0.46      0.51      0.48       164\n",
            "         51       0.86      1.00      0.92       166\n",
            "         52       1.00      0.65      0.79       166\n",
            "         53       0.94      1.00      0.97       166\n",
            "         54       1.00      0.57      0.72       166\n",
            "         55       0.67      0.73      0.70       166\n",
            "         56       0.94      1.00      0.97       166\n",
            "         57       0.00      0.00      0.00       151\n",
            "         58       0.29      0.07      0.12       164\n",
            "         59       1.00      1.00      1.00       166\n",
            "         60       1.00      0.94      0.97       166\n",
            "         61       0.94      0.98      0.96       162\n",
            "         62       1.00      1.00      1.00       164\n",
            "         63       1.00      1.00      1.00       166\n",
            "         64       0.83      1.00      0.91       166\n",
            "\n",
            "avg / total       0.72      0.69      0.65     10903\n",
            "\n"
          ],
          "name": "stdout"
        },
        {
          "output_type": "stream",
          "text": [
            "/usr/local/lib/python3.6/dist-packages/sklearn/metrics/classification.py:1135: UndefinedMetricWarning: Precision and F-score are ill-defined and being set to 0.0 in labels with no predicted samples.\n",
            "  'precision', 'predicted', average, warn_for)\n"
          ],
          "name": "stderr"
        }
      ]
    },
    {
      "metadata": {
        "id": "W5JAcRb999e0",
        "colab_type": "code",
        "colab": {
          "autoexec": {
            "startup": false,
            "wait_interval": 0
          },
          "base_uri": "https://localhost:8080/",
          "height": 34
        },
        "outputId": "bfc50992-4c9b-49d8-c058-ce72a8dbffa4",
        "executionInfo": {
          "status": "ok",
          "timestamp": 1529565836968,
          "user_tz": -420,
          "elapsed": 743,
          "user": {
            "displayName": "Phạm Khánh",
            "photoUrl": "https://lh3.googleusercontent.com/a/default-user=s128",
            "userId": "108013420442388490411"
          }
        }
      },
      "cell_type": "code",
      "source": [
        "np.sum(y_test==classes)"
      ],
      "execution_count": 8,
      "outputs": [
        {
          "output_type": "execute_result",
          "data": {
            "text/plain": [
              "7498"
            ]
          },
          "metadata": {
            "tags": []
          },
          "execution_count": 8
        }
      ]
    },
    {
      "metadata": {
        "id": "68KjJUcizdF6",
        "colab_type": "code",
        "colab": {
          "autoexec": {
            "startup": false,
            "wait_interval": 0
          },
          "base_uri": "https://localhost:8080/",
          "height": 1045
        },
        "outputId": "242149cb-26b4-4918-84d5-aeda9c346e90",
        "executionInfo": {
          "status": "ok",
          "timestamp": 1529567392629,
          "user_tz": -420,
          "elapsed": 750199,
          "user": {
            "displayName": "Phạm Khánh",
            "photoUrl": "https://lh3.googleusercontent.com/a/default-user=s128",
            "userId": "108013420442388490411"
          }
        }
      },
      "cell_type": "code",
      "source": [
        "model3 = cnn2(batch_size = 80, num_classes = 65, epochs = 27, numfilter1 = 32,y_train = training_label_id,\n",
        "  y_test = validation_label_id, x_train = training_fruit_img.astype('float32'), x_test = validation_fruit_img.astype('float32'),kernel_size1=(3, 3),\n",
        "        numfilter2 = 64, kernel_size2=(3, 3), activation='relu', optimizer = keras.optimizers.SGD(),pool_size=(2, 2))"
      ],
      "execution_count": 6,
      "outputs": [
        {
          "output_type": "stream",
          "text": [
            "x_train shape: (32426, 64, 64, 3)\n",
            "32426 train samples\n",
            "10903 test samples\n",
            "Train on 32426 samples, validate on 10903 samples\n",
            "Epoch 1/27\n",
            "32426/32426 [==============================] - 28s 877us/step - loss: 3.3952 - acc: 0.1512 - val_loss: 2.4215 - val_acc: 0.3579\n",
            "Epoch 2/27\n",
            " 2480/32426 [=>............................] - ETA: 22s - loss: 2.1255 - acc: 0.4000"
          ],
          "name": "stdout"
        },
        {
          "output_type": "stream",
          "text": [
            "32426/32426 [==============================] - 27s 836us/step - loss: 1.3927 - acc: 0.5915 - val_loss: 1.4043 - val_acc: 0.6249\n",
            "Epoch 3/27\n",
            "24560/32426 [=====================>........] - ETA: 5s - loss: 0.6764 - acc: 0.7928"
          ],
          "name": "stdout"
        },
        {
          "output_type": "stream",
          "text": [
            "32426/32426 [==============================] - 27s 838us/step - loss: 0.6138 - acc: 0.8112 - val_loss: 1.6041 - val_acc: 0.6032\n",
            "Epoch 4/27\n",
            "32426/32426 [==============================] - 27s 838us/step - loss: 0.3207 - acc: 0.8976 - val_loss: 0.6570 - val_acc: 0.7989\n",
            "Epoch 5/27\n",
            "  240/32426 [..............................] - ETA: 24s - loss: 0.2920 - acc: 0.8958"
          ],
          "name": "stdout"
        },
        {
          "output_type": "stream",
          "text": [
            "32426/32426 [==============================] - 27s 839us/step - loss: 0.1794 - acc: 0.9419 - val_loss: 0.5948 - val_acc: 0.8459\n",
            "Epoch 6/27\n",
            "23760/32426 [====================>.........] - ETA: 6s - loss: 0.1290 - acc: 0.9579"
          ],
          "name": "stdout"
        },
        {
          "output_type": "stream",
          "text": [
            "32426/32426 [==============================] - 27s 836us/step - loss: 0.1219 - acc: 0.9600 - val_loss: 0.4855 - val_acc: 0.8761\n",
            "Epoch 7/27\n",
            "32426/32426 [==============================] - 27s 836us/step - loss: 0.0916 - acc: 0.9688 - val_loss: 0.4472 - val_acc: 0.8856\n",
            "Epoch 8/27\n",
            "   80/32426 [..............................] - ETA: 24s - loss: 0.1046 - acc: 0.9625"
          ],
          "name": "stdout"
        },
        {
          "output_type": "stream",
          "text": [
            "32426/32426 [==============================] - 27s 840us/step - loss: 0.0709 - acc: 0.9754 - val_loss: 0.3720 - val_acc: 0.9015\n",
            "Epoch 9/27\n",
            "23680/32426 [====================>.........] - ETA: 6s - loss: 0.0585 - acc: 0.9788"
          ],
          "name": "stdout"
        },
        {
          "output_type": "stream",
          "text": [
            "32426/32426 [==============================] - 27s 835us/step - loss: 0.0611 - acc: 0.9783 - val_loss: 0.4129 - val_acc: 0.9014\n",
            "Epoch 10/27\n",
            "32400/32426 [============================>.] - ETA: 0s - loss: 0.0527 - acc: 0.9806"
          ],
          "name": "stdout"
        },
        {
          "output_type": "stream",
          "text": [
            "32426/32426 [==============================] - 27s 836us/step - loss: 0.0527 - acc: 0.9806 - val_loss: 0.4026 - val_acc: 0.9004\n",
            "Epoch 11/27\n",
            "32426/32426 [==============================] - 27s 834us/step - loss: 0.0436 - acc: 0.9835 - val_loss: 0.3766 - val_acc: 0.9136\n",
            "Epoch 12/27\n",
            " 1920/32426 [>.............................] - ETA: 23s - loss: 0.0354 - acc: 0.9865"
          ],
          "name": "stdout"
        },
        {
          "output_type": "stream",
          "text": [
            "32426/32426 [==============================] - 27s 837us/step - loss: 0.0410 - acc: 0.9842 - val_loss: 0.3695 - val_acc: 0.9169\n",
            "Epoch 13/27\n",
            "24240/32426 [=====================>........] - ETA: 6s - loss: 0.0317 - acc: 0.9881"
          ],
          "name": "stdout"
        },
        {
          "output_type": "stream",
          "text": [
            "32426/32426 [==============================] - 27s 834us/step - loss: 0.0319 - acc: 0.9878 - val_loss: 0.3588 - val_acc: 0.9241\n",
            "Epoch 14/27\n",
            "32426/32426 [==============================] - 27s 840us/step - loss: 0.0378 - acc: 0.9862 - val_loss: 0.3522 - val_acc: 0.9183\n",
            "Epoch 15/27\n",
            "   80/32426 [..............................] - ETA: 25s - loss: 0.0498 - acc: 0.9875"
          ],
          "name": "stdout"
        },
        {
          "output_type": "stream",
          "text": [
            "32426/32426 [==============================] - 27s 838us/step - loss: 0.0287 - acc: 0.9885 - val_loss: 0.3667 - val_acc: 0.9231\n",
            "Epoch 16/27\n",
            "23520/32426 [====================>.........] - ETA: 6s - loss: 0.0270 - acc: 0.9878"
          ],
          "name": "stdout"
        },
        {
          "output_type": "stream",
          "text": [
            "32426/32426 [==============================] - 27s 835us/step - loss: 0.0272 - acc: 0.9881 - val_loss: 0.3910 - val_acc: 0.9266\n",
            "Epoch 17/27\n",
            "32400/32426 [============================>.] - ETA: 0s - loss: 0.0287 - acc: 0.9882"
          ],
          "name": "stdout"
        },
        {
          "output_type": "stream",
          "text": [
            "32426/32426 [==============================] - 27s 834us/step - loss: 0.0287 - acc: 0.9882 - val_loss: 0.3957 - val_acc: 0.9158\n",
            "Epoch 18/27\n",
            "32426/32426 [==============================] - 27s 837us/step - loss: 0.0248 - acc: 0.9888 - val_loss: 0.3243 - val_acc: 0.9342\n",
            "Epoch 19/27\n",
            " 1920/32426 [>.............................] - ETA: 22s - loss: 0.0200 - acc: 0.9880"
          ],
          "name": "stdout"
        },
        {
          "output_type": "stream",
          "text": [
            "32426/32426 [==============================] - 27s 838us/step - loss: 0.0245 - acc: 0.9892 - val_loss: 0.3578 - val_acc: 0.9251\n",
            "Epoch 20/27\n",
            "24240/32426 [=====================>........] - ETA: 6s - loss: 0.0226 - acc: 0.9899"
          ],
          "name": "stdout"
        },
        {
          "output_type": "stream",
          "text": [
            "32426/32426 [==============================] - 27s 835us/step - loss: 0.0228 - acc: 0.9896 - val_loss: 0.3882 - val_acc: 0.9170\n",
            "Epoch 21/27\n",
            "32426/32426 [==============================] - 27s 839us/step - loss: 0.0235 - acc: 0.9898 - val_loss: 0.3641 - val_acc: 0.9285\n",
            "Epoch 22/27\n",
            "   80/32426 [..............................] - ETA: 25s - loss: 0.0045 - acc: 1.0000"
          ],
          "name": "stdout"
        },
        {
          "output_type": "stream",
          "text": [
            "32426/32426 [==============================] - 27s 840us/step - loss: 0.0228 - acc: 0.9892 - val_loss: 0.3518 - val_acc: 0.9241\n",
            "Epoch 23/27\n",
            "23520/32426 [====================>.........] - ETA: 6s - loss: 0.0198 - acc: 0.9909"
          ],
          "name": "stdout"
        },
        {
          "output_type": "stream",
          "text": [
            "32426/32426 [==============================] - 27s 841us/step - loss: 0.0199 - acc: 0.9904 - val_loss: 0.3434 - val_acc: 0.9304\n",
            "Epoch 24/27\n",
            "32400/32426 [============================>.] - ETA: 0s - loss: 0.0223 - acc: 0.9896"
          ],
          "name": "stdout"
        },
        {
          "output_type": "stream",
          "text": [
            "32426/32426 [==============================] - 27s 837us/step - loss: 0.0222 - acc: 0.9896 - val_loss: 0.3295 - val_acc: 0.9296\n",
            "Epoch 25/27\n",
            "32426/32426 [==============================] - 27s 839us/step - loss: 0.0198 - acc: 0.9901 - val_loss: 0.3776 - val_acc: 0.9203\n",
            "Epoch 26/27\n",
            " 1920/32426 [>.............................] - ETA: 23s - loss: 0.0247 - acc: 0.9885"
          ],
          "name": "stdout"
        },
        {
          "output_type": "stream",
          "text": [
            "32426/32426 [==============================] - 27s 840us/step - loss: 0.0212 - acc: 0.9902 - val_loss: 0.3963 - val_acc: 0.9220\n",
            "Epoch 27/27\n",
            "24240/32426 [=====================>........] - ETA: 6s - loss: 0.0186 - acc: 0.9904"
          ],
          "name": "stdout"
        },
        {
          "output_type": "stream",
          "text": [
            "32426/32426 [==============================] - 27s 841us/step - loss: 0.0178 - acc: 0.9907 - val_loss: 0.3629 - val_acc: 0.9281\n",
            "Test loss: 0.362897037049418\n",
            "Test accuracy: 0.928093185361827\n"
          ],
          "name": "stdout"
        }
      ]
    },
    {
      "metadata": {
        "id": "cNU98HRu8vNU",
        "colab_type": "code",
        "colab": {
          "autoexec": {
            "startup": false,
            "wait_interval": 0
          },
          "base_uri": "https://localhost:8080/",
          "height": 1246
        },
        "outputId": "e6acb065-943a-437e-b0c8-ab0ebce127a9",
        "executionInfo": {
          "status": "ok",
          "timestamp": 1529567676121,
          "user_tz": -420,
          "elapsed": 3333,
          "user": {
            "displayName": "Phạm Khánh",
            "photoUrl": "https://lh3.googleusercontent.com/a/default-user=s128",
            "userId": "108013420442388490411"
          }
        }
      },
      "cell_type": "code",
      "source": [
        "from sklearn.metrics import classification_report\n",
        "classes = np.argmax(model3.predict(x_test, batch_size=128), axis=1)\n",
        "print(classification_report(y_test, classes))\n"
      ],
      "execution_count": 9,
      "outputs": [
        {
          "output_type": "stream",
          "text": [
            "             precision    recall  f1-score   support\n",
            "\n",
            "          0       0.00      0.00      0.00       164\n",
            "          1       0.03      0.09      0.05       164\n",
            "          2       0.04      0.07      0.05       164\n",
            "          3       0.00      0.00      0.00       161\n",
            "          4       0.00      0.00      0.00       164\n",
            "          5       0.00      0.00      0.00       164\n",
            "          6       0.00      0.00      0.00       164\n",
            "          7       0.00      0.00      0.00       144\n",
            "          8       1.00      0.03      0.06       166\n",
            "          9       0.33      0.46      0.38       164\n",
            "         10       0.00      0.00      0.00       164\n",
            "         11       1.00      0.02      0.04       143\n",
            "         12       0.00      0.00      0.00       166\n",
            "         13       0.25      0.26      0.26       166\n",
            "         14       0.86      0.19      0.32       166\n",
            "         15       0.17      0.51      0.26       166\n",
            "         16       0.08      1.00      0.14       164\n",
            "         17       0.07      0.40      0.12       164\n",
            "         18       0.12      0.10      0.11       166\n",
            "         19       0.60      0.62      0.61       164\n",
            "         20       0.22      0.06      0.09       246\n",
            "         21       0.29      0.43      0.35       246\n",
            "         22       1.00      0.32      0.48       166\n",
            "         23       0.97      0.23      0.37       166\n",
            "         24       1.00      0.02      0.04       166\n",
            "         25       0.57      0.36      0.44       166\n",
            "         26       0.00      0.00      0.00       164\n",
            "         27       0.00      0.00      0.00       166\n",
            "         28       0.00      0.00      0.00       166\n",
            "         29       0.22      1.00      0.36       166\n",
            "         30       0.00      0.00      0.00       164\n",
            "         31       0.00      0.00      0.00       166\n",
            "         32       1.00      0.46      0.63       166\n",
            "         33       0.66      0.49      0.56       166\n",
            "         34       0.00      0.00      0.00       156\n",
            "         35       0.33      0.95      0.49       166\n",
            "         36       0.00      0.00      0.00       164\n",
            "         37       0.69      1.00      0.82       166\n",
            "         38       0.00      0.00      0.00       166\n",
            "         39       0.22      0.24      0.23       166\n",
            "         40       0.00      0.00      0.00       166\n",
            "         41       0.00      0.00      0.00       166\n",
            "         42       0.14      0.14      0.14       166\n",
            "         43       0.45      0.33      0.38       246\n",
            "         44       0.00      0.00      0.00       164\n",
            "         45       0.00      0.00      0.00       160\n",
            "         46       0.00      0.00      0.00       164\n",
            "         47       0.00      0.00      0.00       166\n",
            "         48       0.25      0.01      0.01       164\n",
            "         49       0.00      0.00      0.00       164\n",
            "         50       0.00      0.00      0.00       164\n",
            "         51       0.48      0.42      0.45       166\n",
            "         52       0.36      0.78      0.49       166\n",
            "         53       0.04      0.03      0.03       166\n",
            "         54       0.41      0.72      0.53       166\n",
            "         55       0.00      0.00      0.00       166\n",
            "         56       0.00      0.00      0.00       166\n",
            "         57       0.00      0.00      0.00       151\n",
            "         58       0.00      0.00      0.00       164\n",
            "         59       0.04      0.10      0.06       166\n",
            "         60       0.23      0.16      0.19       166\n",
            "         61       0.00      0.00      0.00       162\n",
            "         62       1.00      0.81      0.90       164\n",
            "         63       1.00      0.07      0.13       166\n",
            "         64       0.00      0.00      0.00       166\n",
            "\n",
            "avg / total       0.25      0.20      0.17     10903\n",
            "\n"
          ],
          "name": "stdout"
        },
        {
          "output_type": "stream",
          "text": [
            "/usr/local/lib/python3.6/dist-packages/sklearn/metrics/classification.py:1135: UndefinedMetricWarning: Precision and F-score are ill-defined and being set to 0.0 in labels with no predicted samples.\n",
            "  'precision', 'predicted', average, warn_for)\n"
          ],
          "name": "stderr"
        }
      ]
    },
    {
      "metadata": {
        "id": "Au6wChhQP635",
        "colab_type": "code",
        "colab": {
          "autoexec": {
            "startup": false,
            "wait_interval": 0
          }
        }
      },
      "cell_type": "code",
      "source": [
        ""
      ],
      "execution_count": 0,
      "outputs": []
    },
    {
      "metadata": {
        "id": "1QE37Eex7d_N",
        "colab_type": "code",
        "colab": {
          "autoexec": {
            "startup": false,
            "wait_interval": 0
          },
          "base_uri": "https://localhost:8080/",
          "height": 1818
        },
        "outputId": "cc83da2d-ecf8-41bc-dea5-8455aae9fdbd",
        "executionInfo": {
          "status": "ok",
          "timestamp": 1529300069911,
          "user_tz": -420,
          "elapsed": 1119144,
          "user": {
            "displayName": "Phạm Khánh",
            "photoUrl": "https://lh3.googleusercontent.com/a/default-user=s128",
            "userId": "108013420442388490411"
          }
        }
      },
      "cell_type": "code",
      "source": [
        "\n",
        "cnn2(batch_size = 256, num_classes = 65, epochs = 50, numfilter1 = 32,\n",
        "        kernel_size1=(3, 3), numfilter2 = 64, kernel_size2=(3, 3), activation='relu', log_dir='log64')"
      ],
      "execution_count": 11,
      "outputs": [
        {
          "output_type": "stream",
          "text": [
            "x_train shape: (32426, 64, 64, 3)\n",
            "32426 train samples\n",
            "10903 test samples\n",
            "Train on 32426 samples, validate on 10903 samples\n",
            "Epoch 1/50\n",
            "32426/32426 [==============================] - 23s 710us/step - loss: 3.1577 - acc: 0.1975 - val_loss: 1.7576 - val_acc: 0.5215\n",
            "Epoch 2/50\n",
            "32426/32426 [==============================] - 22s 675us/step - loss: 1.3814 - acc: 0.6004 - val_loss: 0.8117 - val_acc: 0.7871\n",
            "Epoch 3/50\n",
            "13824/32426 [===========>..................] - ETA: 11s - loss: 0.7788 - acc: 0.7684"
          ],
          "name": "stdout"
        },
        {
          "output_type": "stream",
          "text": [
            "32426/32426 [==============================] - 22s 677us/step - loss: 0.6457 - acc: 0.8081 - val_loss: 0.5618 - val_acc: 0.8385\n",
            "Epoch 4/50\n",
            "32426/32426 [==============================] - 22s 689us/step - loss: 0.3510 - acc: 0.8959 - val_loss: 0.3707 - val_acc: 0.8892\n",
            "Epoch 5/50\n",
            "32426/32426 [==============================] - 22s 691us/step - loss: 0.2277 - acc: 0.9321 - val_loss: 0.3485 - val_acc: 0.8897\n",
            "Epoch 6/50\n",
            " 9984/32426 [========>.....................] - ETA: 13s - loss: 0.1753 - acc: 0.9493"
          ],
          "name": "stdout"
        },
        {
          "output_type": "stream",
          "text": [
            "32426/32426 [==============================] - 22s 682us/step - loss: 0.1661 - acc: 0.9506 - val_loss: 0.2608 - val_acc: 0.9147\n",
            "Epoch 7/50\n",
            "32426/32426 [==============================] - 22s 675us/step - loss: 0.1267 - acc: 0.9629 - val_loss: 0.2251 - val_acc: 0.9297\n",
            "Epoch 8/50\n",
            "32426/32426 [==============================] - 22s 694us/step - loss: 0.0980 - acc: 0.9714 - val_loss: 0.2699 - val_acc: 0.9182\n",
            "Epoch 9/50\n",
            " 9216/32426 [=======>......................] - ETA: 14s - loss: 0.0894 - acc: 0.9729"
          ],
          "name": "stdout"
        },
        {
          "output_type": "stream",
          "text": [
            "32426/32426 [==============================] - 23s 697us/step - loss: 0.0821 - acc: 0.9759 - val_loss: 0.2050 - val_acc: 0.9341\n",
            "Epoch 10/50\n",
            "32426/32426 [==============================] - 22s 684us/step - loss: 0.0637 - acc: 0.9814 - val_loss: 0.1947 - val_acc: 0.9332\n",
            "Epoch 11/50\n",
            "32426/32426 [==============================] - 22s 678us/step - loss: 0.0576 - acc: 0.9833 - val_loss: 0.1810 - val_acc: 0.9423\n",
            "Epoch 12/50\n",
            " 8960/32426 [=======>......................] - ETA: 14s - loss: 0.0541 - acc: 0.9838"
          ],
          "name": "stdout"
        },
        {
          "output_type": "stream",
          "text": [
            "32426/32426 [==============================] - 22s 679us/step - loss: 0.0538 - acc: 0.9830 - val_loss: 0.1717 - val_acc: 0.9417\n",
            "Epoch 13/50\n",
            "32426/32426 [==============================] - 22s 686us/step - loss: 0.0506 - acc: 0.9845 - val_loss: 0.1879 - val_acc: 0.9374\n",
            "Epoch 14/50\n",
            "32426/32426 [==============================] - 22s 693us/step - loss: 0.0476 - acc: 0.9846 - val_loss: 0.1782 - val_acc: 0.9388\n",
            "Epoch 15/50\n",
            " 8704/32426 [=======>......................] - ETA: 14s - loss: 0.0438 - acc: 0.9855"
          ],
          "name": "stdout"
        },
        {
          "output_type": "stream",
          "text": [
            "32426/32426 [==============================] - 22s 682us/step - loss: 0.0435 - acc: 0.9860 - val_loss: 0.1795 - val_acc: 0.9408\n",
            "Epoch 16/50\n",
            "32426/32426 [==============================] - 22s 678us/step - loss: 0.0434 - acc: 0.9859 - val_loss: 0.1923 - val_acc: 0.9352\n",
            "Epoch 17/50\n",
            "32426/32426 [==============================] - 22s 685us/step - loss: 0.0409 - acc: 0.9863 - val_loss: 0.1817 - val_acc: 0.9403\n",
            "Epoch 18/50\n",
            " 8704/32426 [=======>......................] - ETA: 14s - loss: 0.0363 - acc: 0.9898"
          ],
          "name": "stdout"
        },
        {
          "output_type": "stream",
          "text": [
            "32426/32426 [==============================] - 23s 699us/step - loss: 0.0375 - acc: 0.9880 - val_loss: 0.1783 - val_acc: 0.9415\n",
            "Epoch 19/50\n",
            "32426/32426 [==============================] - 23s 696us/step - loss: 0.0381 - acc: 0.9872 - val_loss: 0.1697 - val_acc: 0.9408\n",
            "Epoch 20/50\n",
            "32426/32426 [==============================] - 22s 687us/step - loss: 0.0347 - acc: 0.9883 - val_loss: 0.1682 - val_acc: 0.9419\n",
            "Epoch 21/50\n",
            " 8704/32426 [=======>......................] - ETA: 14s - loss: 0.0306 - acc: 0.9899"
          ],
          "name": "stdout"
        },
        {
          "output_type": "stream",
          "text": [
            "32426/32426 [==============================] - 22s 678us/step - loss: 0.0339 - acc: 0.9876 - val_loss: 0.1665 - val_acc: 0.9432\n",
            "Epoch 22/50\n",
            "32426/32426 [==============================] - 22s 678us/step - loss: 0.0314 - acc: 0.9886 - val_loss: 0.1648 - val_acc: 0.9418\n",
            "Epoch 23/50\n",
            "32426/32426 [==============================] - 22s 683us/step - loss: 0.0302 - acc: 0.9898 - val_loss: 0.1723 - val_acc: 0.9394\n",
            "Epoch 24/50\n",
            " 8704/32426 [=======>......................] - ETA: 14s - loss: 0.0301 - acc: 0.9885"
          ],
          "name": "stdout"
        },
        {
          "output_type": "stream",
          "text": [
            "32426/32426 [==============================] - 22s 693us/step - loss: 0.0304 - acc: 0.9894 - val_loss: 0.1722 - val_acc: 0.9427\n",
            "Epoch 25/50\n",
            "32426/32426 [==============================] - 22s 689us/step - loss: 0.0308 - acc: 0.9883 - val_loss: 0.1646 - val_acc: 0.9427\n",
            "Epoch 26/50\n",
            "32426/32426 [==============================] - 22s 678us/step - loss: 0.0294 - acc: 0.9893 - val_loss: 0.1700 - val_acc: 0.9461\n",
            "Epoch 27/50\n",
            " 8704/32426 [=======>......................] - ETA: 14s - loss: 0.0312 - acc: 0.9883"
          ],
          "name": "stdout"
        },
        {
          "output_type": "stream",
          "text": [
            "32426/32426 [==============================] - 22s 680us/step - loss: 0.0294 - acc: 0.9890 - val_loss: 0.1556 - val_acc: 0.9469\n",
            "Epoch 28/50\n",
            "32426/32426 [==============================] - 23s 694us/step - loss: 0.0281 - acc: 0.9891 - val_loss: 0.1648 - val_acc: 0.9442\n",
            "Epoch 29/50\n",
            "32426/32426 [==============================] - 23s 697us/step - loss: 0.0283 - acc: 0.9892 - val_loss: 0.1624 - val_acc: 0.9436\n",
            "Epoch 30/50\n",
            " 8704/32426 [=======>......................] - ETA: 14s - loss: 0.0283 - acc: 0.9898"
          ],
          "name": "stdout"
        },
        {
          "output_type": "stream",
          "text": [
            "32426/32426 [==============================] - 22s 692us/step - loss: 0.0278 - acc: 0.9894 - val_loss: 0.1573 - val_acc: 0.9467\n",
            "Epoch 31/50\n",
            "32426/32426 [==============================] - 22s 678us/step - loss: 0.0269 - acc: 0.9897 - val_loss: 0.1540 - val_acc: 0.9467\n",
            "Epoch 32/50\n",
            "32426/32426 [==============================] - 22s 678us/step - loss: 0.0253 - acc: 0.9905 - val_loss: 0.1664 - val_acc: 0.9434\n",
            "Epoch 33/50\n",
            " 8704/32426 [=======>......................] - ETA: 14s - loss: 0.0264 - acc: 0.9902"
          ],
          "name": "stdout"
        },
        {
          "output_type": "stream",
          "text": [
            "32426/32426 [==============================] - 22s 682us/step - loss: 0.0271 - acc: 0.9896 - val_loss: 0.1626 - val_acc: 0.9459\n",
            "Epoch 34/50\n",
            "32426/32426 [==============================] - 22s 689us/step - loss: 0.0259 - acc: 0.9899 - val_loss: 0.1579 - val_acc: 0.9468\n",
            "Epoch 35/50\n",
            "32426/32426 [==============================] - 22s 688us/step - loss: 0.0259 - acc: 0.9903 - val_loss: 0.1605 - val_acc: 0.9466\n",
            "Epoch 36/50\n",
            " 8704/32426 [=======>......................] - ETA: 14s - loss: 0.0263 - acc: 0.9897"
          ],
          "name": "stdout"
        },
        {
          "output_type": "stream",
          "text": [
            "32426/32426 [==============================] - 22s 681us/step - loss: 0.0260 - acc: 0.9897 - val_loss: 0.1553 - val_acc: 0.9455\n",
            "Epoch 37/50\n",
            "32426/32426 [==============================] - 22s 681us/step - loss: 0.0253 - acc: 0.9900 - val_loss: 0.1611 - val_acc: 0.9441\n",
            "Epoch 38/50\n",
            "32426/32426 [==============================] - 22s 690us/step - loss: 0.0244 - acc: 0.9903 - val_loss: 0.1541 - val_acc: 0.9463\n",
            "Epoch 39/50\n",
            " 8704/32426 [=======>......................] - ETA: 14s - loss: 0.0255 - acc: 0.9901"
          ],
          "name": "stdout"
        },
        {
          "output_type": "stream",
          "text": [
            "32426/32426 [==============================] - 23s 701us/step - loss: 0.0250 - acc: 0.9901 - val_loss: 0.1561 - val_acc: 0.9467\n",
            "Epoch 40/50\n",
            "32426/32426 [==============================] - 22s 687us/step - loss: 0.0259 - acc: 0.9897 - val_loss: 0.1554 - val_acc: 0.9463\n",
            "Epoch 41/50\n",
            "32426/32426 [==============================] - 22s 677us/step - loss: 0.0253 - acc: 0.9899 - val_loss: 0.1601 - val_acc: 0.9454\n",
            "Epoch 42/50\n",
            " 8704/32426 [=======>......................] - ETA: 14s - loss: 0.0228 - acc: 0.9906"
          ],
          "name": "stdout"
        },
        {
          "output_type": "stream",
          "text": [
            "32426/32426 [==============================] - 22s 677us/step - loss: 0.0251 - acc: 0.9895 - val_loss: 0.1550 - val_acc: 0.9469\n",
            "Epoch 43/50\n",
            "32426/32426 [==============================] - 22s 685us/step - loss: 0.0244 - acc: 0.9912 - val_loss: 0.1574 - val_acc: 0.9469\n",
            "Epoch 44/50\n",
            "32426/32426 [==============================] - 22s 685us/step - loss: 0.0245 - acc: 0.9902 - val_loss: 0.1556 - val_acc: 0.9481\n",
            "Epoch 45/50\n",
            " 8704/32426 [=======>......................] - ETA: 14s - loss: 0.0248 - acc: 0.9892"
          ],
          "name": "stdout"
        },
        {
          "output_type": "stream",
          "text": [
            "32426/32426 [==============================] - 22s 686us/step - loss: 0.0249 - acc: 0.9897 - val_loss: 0.1536 - val_acc: 0.9480\n",
            "Epoch 46/50\n",
            "32426/32426 [==============================] - 22s 676us/step - loss: 0.0234 - acc: 0.9908 - val_loss: 0.1524 - val_acc: 0.9491\n",
            "Epoch 47/50\n",
            "32426/32426 [==============================] - 22s 684us/step - loss: 0.0249 - acc: 0.9908 - val_loss: 0.1574 - val_acc: 0.9472\n",
            "Epoch 48/50\n",
            " 8704/32426 [=======>......................] - ETA: 14s - loss: 0.0226 - acc: 0.9905"
          ],
          "name": "stdout"
        },
        {
          "output_type": "stream",
          "text": [
            "32426/32426 [==============================] - 23s 695us/step - loss: 0.0243 - acc: 0.9906 - val_loss: 0.1568 - val_acc: 0.9474\n",
            "Epoch 49/50\n",
            "32426/32426 [==============================] - 22s 693us/step - loss: 0.0233 - acc: 0.9908 - val_loss: 0.1587 - val_acc: 0.9475\n",
            "Epoch 50/50\n",
            "32426/32426 [==============================] - 22s 683us/step - loss: 0.0241 - acc: 0.9900 - val_loss: 0.1548 - val_acc: 0.9477\n",
            "Test loss: 0.15476946327961885\n",
            "Test accuracy: 0.9477208107860222\n"
          ],
          "name": "stdout"
        }
      ]
    },
    {
      "metadata": {
        "id": "jYPSAyuHe8WG",
        "colab_type": "code",
        "colab": {
          "autoexec": {
            "startup": false,
            "wait_interval": 0
          },
          "base_uri": "https://localhost:8080/",
          "height": 50
        },
        "outputId": "f4fedd6a-4234-44f8-c4a7-aac567f27c32",
        "executionInfo": {
          "status": "ok",
          "timestamp": 1529496034391,
          "user_tz": -420,
          "elapsed": 2015,
          "user": {
            "displayName": "Phạm Khánh",
            "photoUrl": "https://lh3.googleusercontent.com/a/default-user=s128",
            "userId": "108013420442388490411"
          }
        }
      },
      "cell_type": "code",
      "source": [
        "!ls"
      ],
      "execution_count": 9,
      "outputs": [
        {
          "output_type": "stream",
          "text": [
            "data2\t fruits-360_dataset_2018_06_03.zip  logs   logs2.zip.zip\r\n",
            "datalab  logrms2.zip.zip\t\t    logs2\r\n"
          ],
          "name": "stdout"
        }
      ]
    },
    {
      "metadata": {
        "id": "CpesIuH5fWK0",
        "colab_type": "code",
        "colab": {
          "autoexec": {
            "startup": false,
            "wait_interval": 0
          },
          "base_uri": "https://localhost:8080/",
          "height": 34
        },
        "outputId": "16f8c833-5abf-4eef-9326-1b0b8a9da42f",
        "executionInfo": {
          "status": "ok",
          "timestamp": 1529495739065,
          "user_tz": -420,
          "elapsed": 763,
          "user": {
            "displayName": "Phạm Khánh",
            "photoUrl": "https://lh3.googleusercontent.com/a/default-user=s128",
            "userId": "108013420442388490411"
          }
        }
      },
      "cell_type": "code",
      "source": [
        "import shutil\n",
        "shutil.make_archive('logs2.zip', 'zip', 'logs2')"
      ],
      "execution_count": 7,
      "outputs": [
        {
          "output_type": "execute_result",
          "data": {
            "text/plain": [
              "'/content/logs2.zip.zip'"
            ]
          },
          "metadata": {
            "tags": []
          },
          "execution_count": 7
        }
      ]
    },
    {
      "metadata": {
        "id": "Za9GO4-Mfzx8",
        "colab_type": "code",
        "colab": {
          "autoexec": {
            "startup": false,
            "wait_interval": 0
          },
          "base_uri": "https://localhost:8080/",
          "height": 37
        },
        "outputId": "05d75137-1e68-4e23-de29-9d3e92628f79",
        "executionInfo": {
          "status": "ok",
          "timestamp": 1529495750410,
          "user_tz": -420,
          "elapsed": 2273,
          "user": {
            "displayName": "Phạm Khánh",
            "photoUrl": "https://lh3.googleusercontent.com/a/default-user=s128",
            "userId": "108013420442388490411"
          }
        }
      },
      "cell_type": "code",
      "source": [
        "from google.colab import files\n",
        "files.download('/content/logs2.zip.zip')  # from colab to browser download"
      ],
      "execution_count": 8,
      "outputs": []
    },
    {
      "metadata": {
        "id": "1W1L0hCop-td",
        "colab_type": "code",
        "colab": {
          "autoexec": {
            "startup": false,
            "wait_interval": 0
          }
        }
      },
      "cell_type": "code",
      "source": [
        "from sklearn.decomposition import PCA\n",
        "from sklearn.ensemble import RandomForestClassifier\n",
        "import numpy as np\n",
        "import pandas as pd\n",
        "pca = PCA()\n",
        "pca_result2 = pca.fit(validation_fruit_img.reshape(validation_fruit_img.shape[0],64*64*3))\n"
      ],
      "execution_count": 0,
      "outputs": []
    },
    {
      "metadata": {
        "id": "_rjiAXn8vI_u",
        "colab_type": "code",
        "colab": {
          "autoexec": {
            "startup": false,
            "wait_interval": 0
          },
          "base_uri": "https://localhost:8080/",
          "height": 34
        },
        "outputId": "22284820-c87f-4e23-cda4-577e96f60fba",
        "executionInfo": {
          "status": "ok",
          "timestamp": 1529301517709,
          "user_tz": -420,
          "elapsed": 121258,
          "user": {
            "displayName": "Phạm Khánh",
            "photoUrl": "https://lh3.googleusercontent.com/a/default-user=s128",
            "userId": "108013420442388490411"
          }
        }
      },
      "cell_type": "code",
      "source": [
        "\n",
        "rf = RandomForestClassifier(n_estimators=100)\n",
        "rf.fit(pca_result1, training_label_id)\n",
        "pred = rf.predict(pca_result2)\n",
        "\n",
        "\n",
        "from sklearn.metrics import accuracy_score\n",
        "\n",
        "print(accuracy_score(validation_label_id, pred))"
      ],
      "execution_count": 6,
      "outputs": [
        {
          "output_type": "stream",
          "text": [
            "0.5173805374667523\n"
          ],
          "name": "stdout"
        }
      ]
    },
    {
      "metadata": {
        "id": "5OW13nTE2jWH",
        "colab_type": "code",
        "colab": {
          "autoexec": {
            "startup": false,
            "wait_interval": 0
          }
        }
      },
      "cell_type": "code",
      "source": [
        ""
      ],
      "execution_count": 0,
      "outputs": []
    }
  ]
}