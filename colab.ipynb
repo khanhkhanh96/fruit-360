{
  "nbformat": 4,
  "nbformat_minor": 0,
  "metadata": {
    "colab": {
      "name": "Untitled4.ipynb",
      "version": "0.3.2",
      "views": {},
      "default_view": {},
      "provenance": [],
      "collapsed_sections": []
    },
    "kernelspec": {
      "name": "python3",
      "display_name": "Python 3"
    },
    "accelerator": "GPU"
  },
  "cells": [
    {
      "metadata": {
        "id": "b6Sjd4PLxFU3",
        "colab_type": "code",
        "colab": {
          "autoexec": {
            "startup": false,
            "wait_interval": 0
          },
          "base_uri": "https://localhost:8080/",
          "height": 222
        },
        "outputId": "b062ef68-6e0e-40b8-e57f-4d5dbd7eab00",
        "executionInfo": {
          "status": "ok",
          "timestamp": 1530797229737,
          "user_tz": -420,
          "elapsed": 25046,
          "user": {
            "displayName": "Phạm Khánh",
            "photoUrl": "https://lh3.googleusercontent.com/a/default-user=s128",
            "userId": "108013420442388490411"
          }
        }
      },
      "cell_type": "code",
      "source": [
        "!wget https://uacrmq.bn.files.1drv.com/y4m2U2GY-s4-87nkKHYBUPZTU0vUfz1QAcNXAeKHjCo3YGQJOzavBfNhvzlMpIJsNnWqjEEpIL6Px6fooytvA66v48ncK2yoa4ysRvGpJckVv8lrS7sOrsSHZV3QF6kXMtKzSc0W6ACLUelLwWE6HuWIf3FFPNvLENZOJ0NfYfrJ-_cr0cwVzDQM5hJHqGHYtXt/fruits-360_dataset.zip\n",
        "  \n",
        " "
      ],
      "execution_count": 20,
      "outputs": [
        {
          "output_type": "stream",
          "text": [
            "--2018-07-05 13:26:20--  https://uacrmq.bn.files.1drv.com/y4m2U2GY-s4-87nkKHYBUPZTU0vUfz1QAcNXAeKHjCo3YGQJOzavBfNhvzlMpIJsNnWqjEEpIL6Px6fooytvA66v48ncK2yoa4ysRvGpJckVv8lrS7sOrsSHZV3QF6kXMtKzSc0W6ACLUelLwWE6HuWIf3FFPNvLENZOJ0NfYfrJ-_cr0cwVzDQM5hJHqGHYtXt/fruits-360_dataset.zip\n",
            "Resolving uacrmq.bn.files.1drv.com (uacrmq.bn.files.1drv.com)... 204.79.197.213\n",
            "Connecting to uacrmq.bn.files.1drv.com (uacrmq.bn.files.1drv.com)|204.79.197.213|:443... connected.\n",
            "HTTP request sent, awaiting response... 200 OK\n",
            "Length: 405084507 (386M) [application/zip]\n",
            "Saving to: ‘fruits-360_dataset.zip’\n",
            "\n",
            "fruits-360_dataset. 100%[===================>] 386.32M  18.2MB/s    in 22s     \n",
            "\n",
            "2018-07-05 13:26:43 (17.7 MB/s) - ‘fruits-360_dataset.zip’ saved [405084507/405084507]\n",
            "\n"
          ],
          "name": "stdout"
        }
      ]
    },
    {
      "metadata": {
        "id": "EoA4avPyxZLF",
        "colab_type": "code",
        "colab": {
          "autoexec": {
            "startup": false,
            "wait_interval": 0
          },
          "base_uri": "https://localhost:8080/",
          "height": 37
        },
        "outputId": "c56d315c-977c-4e4a-cb02-565ee0128e7e",
        "executionInfo": {
          "status": "ok",
          "timestamp": 1530797430116,
          "user_tz": -420,
          "elapsed": 14301,
          "user": {
            "displayName": "Phạm Khánh",
            "photoUrl": "https://lh3.googleusercontent.com/a/default-user=s128",
            "userId": "108013420442388490411"
          }
        }
      },
      "cell_type": "code",
      "source": [
        "# import zipfile\n",
        "# zip_ref = zipfile.ZipFile('fruits-360_dataset.zip', 'r')\n",
        "# zip_ref.extractall('data2')\n",
        "# zip_ref.close()"
      ],
      "execution_count": 23,
      "outputs": []
    },
    {
      "metadata": {
        "id": "toPsKITGcSgp",
        "colab_type": "code",
        "colab": {
          "autoexec": {
            "startup": false,
            "wait_interval": 0
          },
          "base_uri": "https://localhost:8080/",
          "height": 151
        },
        "outputId": "b22f0aea-0d4f-48b3-f284-1a60b3cf3074",
        "executionInfo": {
          "status": "ok",
          "timestamp": 1530797515753,
          "user_tz": -420,
          "elapsed": 2161,
          "user": {
            "displayName": "Phạm Khánh",
            "photoUrl": "https://lh3.googleusercontent.com/a/default-user=s128",
            "userId": "108013420442388490411"
          }
        }
      },
      "cell_type": "code",
      "source": [
        "!ls"
      ],
      "execution_count": 27,
      "outputs": [
        {
          "output_type": "stream",
          "text": [
            "data2\t\t\t\t   weights.03-0.937.hdf5  weights.14-0.965.hdf5\r\n",
            "datalab\t\t\t\t   weights.05-0.939.hdf5  weights.17-0.968.hdf5\r\n",
            "fruits-360_dataset_2018_06_03.zip  weights.05-0.961.hdf5  weights.20-0.965.hdf5\r\n",
            "fruits-360_dataset.zip\t\t   weights.06-0.957.hdf5  weights.21-0.970.hdf5\r\n",
            "weights.01-0.898.hdf5\t\t   weights.08-0.964.hdf5  weights.30-0.971.hdf5\r\n",
            "weights.01-0.918.hdf5\t\t   weights.09-0.958.hdf5  weights.50-0.972.hdf5\r\n",
            "weights.02-0.931.hdf5\t\t   weights.10-0.962.hdf5\r\n",
            "weights.02-0.955.hdf5\t\t   weights.12-0.964.hdf5\r\n"
          ],
          "name": "stdout"
        }
      ]
    },
    {
      "metadata": {
        "id": "80p2ZdIyxnPM",
        "colab_type": "code",
        "colab": {
          "autoexec": {
            "startup": false,
            "wait_interval": 0
          },
          "base_uri": "https://localhost:8080/",
          "height": 34
        },
        "outputId": "f7407357-ab73-456f-cc3d-fc3d3de54448",
        "executionInfo": {
          "status": "ok",
          "timestamp": 1530803171798,
          "user_tz": -420,
          "elapsed": 3571,
          "user": {
            "displayName": "Phạm Khánh",
            "photoUrl": "https://lh3.googleusercontent.com/a/default-user=s128",
            "userId": "108013420442388490411"
          }
        }
      },
      "cell_type": "code",
      "source": [
        "import numpy as np # linear algebra\n",
        "import pandas as pd # data processing, CSV file I/O (e.g. pd.read_csv)\n",
        "import tensorflow as tf\n",
        "import matplotlib.pyplot as plt\n",
        "import cv2\n",
        "import glob\n",
        "import os\n",
        "import keras\n",
        "from keras.datasets import mnist\n",
        "from keras.models import Sequential\n",
        "from keras.layers import Dense, Dropout, Flatten\n",
        "from keras.layers import Conv2D, MaxPooling2D\n",
        "from keras import backend as K"
      ],
      "execution_count": 1,
      "outputs": [
        {
          "output_type": "stream",
          "text": [
            "Using TensorFlow backend.\n"
          ],
          "name": "stderr"
        }
      ]
    },
    {
      "metadata": {
        "id": "d5LLF14rqYhJ",
        "colab_type": "code",
        "colab": {
          "autoexec": {
            "startup": false,
            "wait_interval": 0
          }
        }
      },
      "cell_type": "code",
      "source": [
        "#Load dữ liệu tập train và test"
      ],
      "execution_count": 0,
      "outputs": []
    },
    {
      "metadata": {
        "id": "aI_1fwg3xoRe",
        "colab_type": "code",
        "colab": {
          "autoexec": {
            "startup": false,
            "wait_interval": 0
          },
          "base_uri": "https://localhost:8080/",
          "height": 37
        },
        "outputId": "28f80b3c-2fc4-4979-bdba-3243ddd30040",
        "executionInfo": {
          "status": "ok",
          "timestamp": 1530803213072,
          "user_tz": -420,
          "elapsed": 41163,
          "user": {
            "displayName": "Phạm Khánh",
            "photoUrl": "https://lh3.googleusercontent.com/a/default-user=s128",
            "userId": "108013420442388490411"
          }
        }
      },
      "cell_type": "code",
      "source": [
        "training_fruit_img = []\n",
        "training_label = []\n",
        "for dir_path in glob.glob(\"data2/fruits-360/Training/*\"):\n",
        "    img_label = dir_path.split(\"/\")[-1]\n",
        "    for image_path in glob.glob(os.path.join(dir_path,\"*.jpg\")):\n",
        "        image = cv2.imread(image_path,cv2.IMREAD_COLOR)\n",
        "        image = cv2.resize(image, (64, 64))\n",
        "        image = cv2.cvtColor(image, cv2.COLOR_RGB2BGR)\n",
        "        training_fruit_img.append(image)\n",
        "        training_label.append(img_label)\n",
        "training_fruit_img = np.array(training_fruit_img)\n",
        "training_label = np.array(training_label)\n",
        "label_to_id = {v:k for k,v in enumerate(np.unique(training_label)) }\n",
        "id_to_label = {v:k for k,v in label_to_id.items()}\n",
        "training_label_id = np.array([label_to_id[i] for i in training_label]) # chuyển trainlabel từ tên trái cây thành chỉ số từ 0->64\n",
        "validation_fruit_img=[]\n",
        "validation_label =[]\n",
        "for dir_path in glob.glob(\"data2/fruits-360/Test/*\"):\n",
        "    img_label = dir_path.split(\"/\")[-1]\n",
        "    for image_path in glob.glob(os.path.join(dir_path,\"*.jpg\")):\n",
        "        image = cv2.imread(image_path,cv2.IMREAD_COLOR)\n",
        "        image = cv2.resize(image, (64, 64))\n",
        "        image = cv2.cvtColor(image, cv2.COLOR_RGB2BGR)\n",
        "        validation_fruit_img.append(image)\n",
        "        validation_label.append(img_label)\n",
        "validation_fruit_img = np.array(validation_fruit_img)\n",
        "validation_label = np.array(validation_label)\n",
        "validation_label_id = np.array([label_to_id[i] for i in validation_label]) # chuyển validationlabel từ tên trái cây thành chỉ số từ 0->64"
      ],
      "execution_count": 2,
      "outputs": []
    },
    {
      "metadata": {
        "id": "jhlXmQdPpR8n",
        "colab_type": "code",
        "colab": {
          "autoexec": {
            "startup": false,
            "wait_interval": 0
          },
          "base_uri": "https://localhost:8080/",
          "height": 34
        },
        "outputId": "f05b1dd9-390a-4faf-e3cf-6a74aa4700bc",
        "executionInfo": {
          "status": "ok",
          "timestamp": 1530797614574,
          "user_tz": -420,
          "elapsed": 750,
          "user": {
            "displayName": "Phạm Khánh",
            "photoUrl": "https://lh3.googleusercontent.com/a/default-user=s128",
            "userId": "108013420442388490411"
          }
        }
      },
      "cell_type": "code",
      "source": [
        "validation_fruit_img"
      ],
      "execution_count": 30,
      "outputs": [
        {
          "output_type": "execute_result",
          "data": {
            "text/plain": [
              "array([], dtype=float64)"
            ]
          },
          "metadata": {
            "tags": []
          },
          "execution_count": 30
        }
      ]
    },
    {
      "metadata": {
        "id": "P5UkIc_mxryR",
        "colab_type": "code",
        "colab": {
          "autoexec": {
            "startup": false,
            "wait_interval": 0
          },
          "base_uri": "https://localhost:8080/",
          "height": 3162
        },
        "outputId": "aedff17b-4bd7-4375-990f-797f373353ef",
        "executionInfo": {
          "status": "ok",
          "timestamp": 1530801771622,
          "user_tz": -420,
          "elapsed": 1476890,
          "user": {
            "displayName": "Phạm Khánh",
            "photoUrl": "https://lh3.googleusercontent.com/a/default-user=s128",
            "userId": "108013420442388490411"
          }
        }
      },
      "cell_type": "code",
      "source": [
        "#tạo cnn model\n",
        "\n",
        "batch_size = 128\n",
        "num_classes = 75\n",
        "epochs = 50\n",
        "\n",
        "# input image dimensions\n",
        "img_rows, img_cols = 64, 64\n",
        "input_shape = (img_rows,img_cols,3)\n",
        "\n",
        "\n",
        "y_train = training_label_id\n",
        "y_test = validation_label_id\n",
        "\n",
        "x_train = training_fruit_img.astype('float32')\n",
        "x_test = validation_fruit_img.astype('float32')\n",
        "\n",
        "# chuyển các giá trị dữ liệu hình ảnh thành 0->1\n",
        "x_test /= 255\n",
        "x_train /= 255\n",
        "\n",
        "print('x_train shape:', x_train.shape)\n",
        "print(x_train.shape[0], 'train samples')\n",
        "print(x_test.shape[0], 'test samples')\n",
        "\n",
        "# chuyển sang onehot vector\n",
        "y_train = keras.utils.to_categorical(y_train, num_classes)\n",
        "y_test = keras.utils.to_categorical(y_test, num_classes)\n",
        "\n",
        "#tạo checkpoint để lưu lại model tại epoch có giá trị val_acc cao nhất\n",
        "checkpoint = keras.callbacks.ModelCheckpoint(filepath = \"weights.{epoch:02d}-{val_acc:.3f}.hdf5\", monitor='val_acc', verbose=0, save_best_only=True,\n",
        "                                             save_weights_only=False, mode='max', period=1)\n",
        "model = Sequential()\n",
        "\n",
        "model.add(Conv2D(32, kernel_size= (3,3),\n",
        "                 activation='relu',\n",
        "                 input_shape=input_shape))\n",
        "model.add(Conv2D(64, kernel_size = (3,3), activation='relu'))\n",
        "model.add(keras.layers.MaxPooling2D(pool_size=(2, 2)))\n",
        "\n",
        "model.add(Conv2D(32, kernel_size= (3,3),\n",
        "                 activation='relu',\n",
        "                 input_shape=input_shape))\n",
        "model.add(Conv2D(64, kernel_size = (3,3), activation='relu'))\n",
        "model.add(keras.layers.MaxPooling2D(pool_size=(2, 2)))\n",
        "\n",
        "model.add(Dropout(0.5))\n",
        "\n",
        "model.add(Flatten())\n",
        "\n",
        "model.add(Dense(256, activation='relu'))\n",
        "model.add(Dropout(0.25))\n",
        "model.add(Dense(256, activation='relu'))\n",
        "model.add(Dense(num_classes, activation='softmax'))\n",
        "\n",
        "model.compile(loss=keras.losses.categorical_crossentropy,\n",
        "            optimizer = keras.optimizers.RMSprop(lr=0.0005, rho=0.9, epsilon=1e-08, decay=0.0),\n",
        "             metrics=['accuracy'])\n",
        "model.fit(x_train, y_train,\n",
        "        batch_size=batch_size,\n",
        "        epochs=epochs,\n",
        "        verbose=1,\n",
        "        validation_data=(x_test, y_test),\n",
        "         callbacks = [checkpoint])\n",
        "score = model.evaluate(x_test, y_test, verbose=0)\n",
        "\n",
        "print('Test loss:', score[0])\n",
        "print('Test accuracy:', score[1])\n",
        "\n",
        "from sklearn.metrics import classification_report\n",
        "classes = model.predict_classes(x_test, batch_size = None)\n",
        "print(classification_report(validation_label_id, classes))\n"
      ],
      "execution_count": 4,
      "outputs": [
        {
          "output_type": "stream",
          "text": [
            "x_train shape: (37836, 64, 64, 3)\n",
            "37836 train samples\n",
            "12709 test samples\n",
            "Train on 37836 samples, validate on 12709 samples\n",
            "Epoch 1/50\n",
            "37836/37836 [==============================] - 30s 804us/step - loss: 1.4042 - acc: 0.6061 - val_loss: 0.4007 - val_acc: 0.8731\n",
            "Epoch 2/50\n",
            "12544/37836 [========>.....................] - ETA: 17s - loss: 0.2737 - acc: 0.9130"
          ],
          "name": "stdout"
        },
        {
          "output_type": "stream",
          "text": [
            "37836/37836 [==============================] - 29s 776us/step - loss: 0.2057 - acc: 0.9347 - val_loss: 0.2389 - val_acc: 0.9278\n",
            "Epoch 3/50\n",
            "37836/37836 [==============================] - 29s 775us/step - loss: 0.0969 - acc: 0.9685 - val_loss: 0.1886 - val_acc: 0.9469\n",
            "Epoch 4/50\n",
            " 6144/37836 [===>..........................] - ETA: 22s - loss: 0.0745 - acc: 0.9762"
          ],
          "name": "stdout"
        },
        {
          "output_type": "stream",
          "text": [
            "37836/37836 [==============================] - 29s 775us/step - loss: 0.0663 - acc: 0.9774 - val_loss: 0.2638 - val_acc: 0.9312\n",
            "Epoch 5/50\n",
            "37836/37836 [==============================] - 29s 776us/step - loss: 0.0456 - acc: 0.9831 - val_loss: 0.1611 - val_acc: 0.9507\n",
            "Epoch 6/50\n",
            " 4608/37836 [==>...........................] - ETA: 22s - loss: 0.0323 - acc: 0.9872"
          ],
          "name": "stdout"
        },
        {
          "output_type": "stream",
          "text": [
            "37836/37836 [==============================] - 29s 773us/step - loss: 0.0394 - acc: 0.9862 - val_loss: 0.1236 - val_acc: 0.9592\n",
            "Epoch 7/50\n",
            "37836/37836 [==============================] - 29s 772us/step - loss: 0.0339 - acc: 0.9877 - val_loss: 0.2644 - val_acc: 0.9318\n",
            "Epoch 8/50\n",
            " 4224/37836 [==>...........................] - ETA: 23s - loss: 0.0304 - acc: 0.9901"
          ],
          "name": "stdout"
        },
        {
          "output_type": "stream",
          "text": [
            "37836/37836 [==============================] - 29s 773us/step - loss: 0.0324 - acc: 0.9881 - val_loss: 0.1410 - val_acc: 0.9572\n",
            "Epoch 9/50\n",
            "37836/37836 [==============================] - 29s 773us/step - loss: 0.0294 - acc: 0.9893 - val_loss: 0.1220 - val_acc: 0.9632\n",
            "Epoch 10/50\n",
            " 4096/37836 [==>...........................] - ETA: 23s - loss: 0.0243 - acc: 0.9893"
          ],
          "name": "stdout"
        },
        {
          "output_type": "stream",
          "text": [
            "37836/37836 [==============================] - 29s 772us/step - loss: 0.0243 - acc: 0.9900 - val_loss: 0.1707 - val_acc: 0.9578\n",
            "Epoch 11/50\n",
            "37836/37836 [==============================] - 29s 773us/step - loss: 0.0224 - acc: 0.9902 - val_loss: 0.2105 - val_acc: 0.9367\n",
            "Epoch 12/50\n",
            " 3968/37836 [==>...........................] - ETA: 23s - loss: 0.0258 - acc: 0.9907"
          ],
          "name": "stdout"
        },
        {
          "output_type": "stream",
          "text": [
            "37836/37836 [==============================] - 29s 771us/step - loss: 0.0231 - acc: 0.9900 - val_loss: 0.2103 - val_acc: 0.9539\n",
            "Epoch 13/50\n",
            "37836/37836 [==============================] - 29s 772us/step - loss: 0.0236 - acc: 0.9909 - val_loss: 0.1134 - val_acc: 0.9661\n",
            "Epoch 14/50\n",
            " 3968/37836 [==>...........................] - ETA: 23s - loss: 0.0231 - acc: 0.9912"
          ],
          "name": "stdout"
        },
        {
          "output_type": "stream",
          "text": [
            "37836/37836 [==============================] - 29s 774us/step - loss: 0.0202 - acc: 0.9909 - val_loss: 0.1485 - val_acc: 0.9681\n",
            "Epoch 15/50\n",
            "37836/37836 [==============================] - 29s 777us/step - loss: 0.0180 - acc: 0.9916 - val_loss: 0.1603 - val_acc: 0.9665\n",
            "Epoch 16/50\n",
            " 3968/37836 [==>...........................] - ETA: 23s - loss: 0.0272 - acc: 0.9919"
          ],
          "name": "stdout"
        },
        {
          "output_type": "stream",
          "text": [
            "37836/37836 [==============================] - 29s 775us/step - loss: 0.0212 - acc: 0.9910 - val_loss: 0.1540 - val_acc: 0.9639\n",
            "Epoch 17/50\n",
            "37836/37836 [==============================] - 29s 776us/step - loss: 0.0175 - acc: 0.9917 - val_loss: 0.1568 - val_acc: 0.9692\n",
            "Epoch 18/50\n",
            " 3968/37836 [==>...........................] - ETA: 23s - loss: 0.0234 - acc: 0.9902"
          ],
          "name": "stdout"
        },
        {
          "output_type": "stream",
          "text": [
            "37836/37836 [==============================] - 29s 774us/step - loss: 0.0176 - acc: 0.9918 - val_loss: 0.2135 - val_acc: 0.9572\n",
            "Epoch 19/50\n",
            "37836/37836 [==============================] - 29s 775us/step - loss: 0.0168 - acc: 0.9926 - val_loss: 0.1711 - val_acc: 0.9626\n",
            "Epoch 20/50\n",
            " 3968/37836 [==>...........................] - ETA: 23s - loss: 0.0190 - acc: 0.9904"
          ],
          "name": "stdout"
        },
        {
          "output_type": "stream",
          "text": [
            "37836/37836 [==============================] - 29s 777us/step - loss: 0.0182 - acc: 0.9921 - val_loss: 0.1426 - val_acc: 0.9692\n",
            "Epoch 21/50\n",
            "37836/37836 [==============================] - 29s 775us/step - loss: 0.0197 - acc: 0.9919 - val_loss: 0.1952 - val_acc: 0.9625\n",
            "Epoch 22/50\n",
            " 3968/37836 [==>...........................] - ETA: 23s - loss: 0.0240 - acc: 0.9919"
          ],
          "name": "stdout"
        },
        {
          "output_type": "stream",
          "text": [
            "37836/37836 [==============================] - 29s 773us/step - loss: 0.0192 - acc: 0.9916 - val_loss: 0.1363 - val_acc: 0.9726\n",
            "Epoch 23/50\n",
            "37836/37836 [==============================] - 29s 775us/step - loss: 0.0169 - acc: 0.9923 - val_loss: 0.1745 - val_acc: 0.9677\n",
            "Epoch 24/50\n",
            " 3968/37836 [==>...........................] - ETA: 23s - loss: 0.0142 - acc: 0.9924"
          ],
          "name": "stdout"
        },
        {
          "output_type": "stream",
          "text": [
            "37836/37836 [==============================] - 29s 776us/step - loss: 0.0168 - acc: 0.9924 - val_loss: 0.2780 - val_acc: 0.9623\n",
            "Epoch 25/50\n",
            "37836/37836 [==============================] - 29s 772us/step - loss: 0.0174 - acc: 0.9916 - val_loss: 0.1672 - val_acc: 0.9714\n",
            "Epoch 26/50\n",
            " 3968/37836 [==>...........................] - ETA: 23s - loss: 0.0217 - acc: 0.9909"
          ],
          "name": "stdout"
        },
        {
          "output_type": "stream",
          "text": [
            "37836/37836 [==============================] - 29s 773us/step - loss: 0.0169 - acc: 0.9922 - val_loss: 0.2763 - val_acc: 0.9574\n",
            "Epoch 27/50\n",
            "37836/37836 [==============================] - 29s 774us/step - loss: 0.0186 - acc: 0.9919 - val_loss: 0.2266 - val_acc: 0.9566\n",
            "Epoch 28/50\n",
            " 3968/37836 [==>...........................] - ETA: 23s - loss: 0.0219 - acc: 0.9899"
          ],
          "name": "stdout"
        },
        {
          "output_type": "stream",
          "text": [
            "37836/37836 [==============================] - 29s 773us/step - loss: 0.0202 - acc: 0.9912 - val_loss: 0.1529 - val_acc: 0.9693\n",
            "Epoch 29/50\n",
            "37836/37836 [==============================] - 29s 772us/step - loss: 0.0178 - acc: 0.9928 - val_loss: 0.1940 - val_acc: 0.9706\n",
            "Epoch 30/50\n",
            " 3968/37836 [==>...........................] - ETA: 23s - loss: 0.0127 - acc: 0.9934"
          ],
          "name": "stdout"
        },
        {
          "output_type": "stream",
          "text": [
            "37836/37836 [==============================] - 29s 774us/step - loss: 0.0182 - acc: 0.9923 - val_loss: 0.1897 - val_acc: 0.9703\n",
            "Epoch 31/50\n",
            "37836/37836 [==============================] - 29s 775us/step - loss: 0.0183 - acc: 0.9916 - val_loss: 0.1823 - val_acc: 0.9709\n",
            "Epoch 32/50\n",
            " 3968/37836 [==>...........................] - ETA: 23s - loss: 0.0063 - acc: 0.9947"
          ],
          "name": "stdout"
        },
        {
          "output_type": "stream",
          "text": [
            "37836/37836 [==============================] - 29s 773us/step - loss: 0.0173 - acc: 0.9918 - val_loss: 0.1564 - val_acc: 0.9679\n",
            "Epoch 33/50\n",
            "37836/37836 [==============================] - 29s 774us/step - loss: 0.0158 - acc: 0.9923 - val_loss: 0.2258 - val_acc: 0.9667\n",
            "Epoch 34/50\n",
            " 3968/37836 [==>...........................] - ETA: 23s - loss: 0.0166 - acc: 0.9929"
          ],
          "name": "stdout"
        },
        {
          "output_type": "stream",
          "text": [
            "37836/37836 [==============================] - 29s 774us/step - loss: 0.0146 - acc: 0.9924 - val_loss: 0.2716 - val_acc: 0.9667\n",
            "Epoch 35/50\n",
            "37836/37836 [==============================] - 29s 774us/step - loss: 0.0176 - acc: 0.9925 - val_loss: 0.1599 - val_acc: 0.9720\n",
            "Epoch 36/50\n",
            " 3968/37836 [==>...........................] - ETA: 23s - loss: 0.0194 - acc: 0.9929"
          ],
          "name": "stdout"
        },
        {
          "output_type": "stream",
          "text": [
            "37836/37836 [==============================] - 29s 773us/step - loss: 0.0173 - acc: 0.9924 - val_loss: 0.3027 - val_acc: 0.9568\n",
            "Epoch 37/50\n",
            "37836/37836 [==============================] - 29s 773us/step - loss: 0.0184 - acc: 0.9922 - val_loss: 0.1576 - val_acc: 0.9685\n",
            "Epoch 38/50\n",
            " 3968/37836 [==>...........................] - ETA: 23s - loss: 0.0166 - acc: 0.9924"
          ],
          "name": "stdout"
        },
        {
          "output_type": "stream",
          "text": [
            "37836/37836 [==============================] - 29s 771us/step - loss: 0.0201 - acc: 0.9917 - val_loss: 0.2079 - val_acc: 0.9706\n",
            "Epoch 39/50\n",
            "37836/37836 [==============================] - 29s 773us/step - loss: 0.0171 - acc: 0.9924 - val_loss: 0.2335 - val_acc: 0.9693\n",
            "Epoch 40/50\n",
            " 3968/37836 [==>...........................] - ETA: 23s - loss: 0.0144 - acc: 0.9932"
          ],
          "name": "stdout"
        },
        {
          "output_type": "stream",
          "text": [
            "37836/37836 [==============================] - 29s 773us/step - loss: 0.0189 - acc: 0.9922 - val_loss: 0.1451 - val_acc: 0.9725\n",
            "Epoch 41/50\n",
            "37836/37836 [==============================] - 29s 771us/step - loss: 0.0171 - acc: 0.9919 - val_loss: 0.2126 - val_acc: 0.9707\n",
            "Epoch 42/50\n",
            " 3968/37836 [==>...........................] - ETA: 23s - loss: 0.0116 - acc: 0.9909"
          ],
          "name": "stdout"
        },
        {
          "output_type": "stream",
          "text": [
            "37836/37836 [==============================] - 29s 772us/step - loss: 0.0164 - acc: 0.9922 - val_loss: 0.1755 - val_acc: 0.9749\n",
            "Epoch 43/50\n",
            "37836/37836 [==============================] - 29s 771us/step - loss: 0.0201 - acc: 0.9918 - val_loss: 0.2341 - val_acc: 0.9684\n",
            "Epoch 44/50\n",
            " 3968/37836 [==>...........................] - ETA: 23s - loss: 0.0072 - acc: 0.9950"
          ],
          "name": "stdout"
        },
        {
          "output_type": "stream",
          "text": [
            "37836/37836 [==============================] - 29s 771us/step - loss: 0.0172 - acc: 0.9925 - val_loss: 0.2610 - val_acc: 0.9662\n",
            "Epoch 45/50\n",
            "37836/37836 [==============================] - 29s 770us/step - loss: 0.0175 - acc: 0.9916 - val_loss: 0.2392 - val_acc: 0.9695\n",
            "Epoch 46/50\n",
            " 3968/37836 [==>...........................] - ETA: 23s - loss: 0.0152 - acc: 0.9934"
          ],
          "name": "stdout"
        },
        {
          "output_type": "stream",
          "text": [
            "37836/37836 [==============================] - 29s 773us/step - loss: 0.0173 - acc: 0.9925 - val_loss: 0.2347 - val_acc: 0.9672\n",
            "Epoch 47/50\n",
            "37836/37836 [==============================] - 29s 772us/step - loss: 0.0179 - acc: 0.9924 - val_loss: 0.3373 - val_acc: 0.9675\n",
            "Epoch 48/50\n",
            " 3968/37836 [==>...........................] - ETA: 23s - loss: 0.0204 - acc: 0.9937"
          ],
          "name": "stdout"
        },
        {
          "output_type": "stream",
          "text": [
            "37836/37836 [==============================] - 29s 771us/step - loss: 0.0176 - acc: 0.9930 - val_loss: 0.3987 - val_acc: 0.9644\n",
            "Epoch 49/50\n",
            "37836/37836 [==============================] - 29s 771us/step - loss: 0.0186 - acc: 0.9928 - val_loss: 0.2039 - val_acc: 0.9729\n",
            "Epoch 50/50\n",
            " 3968/37836 [==>...........................] - ETA: 23s - loss: 0.0159 - acc: 0.9932"
          ],
          "name": "stdout"
        },
        {
          "output_type": "stream",
          "text": [
            "37836/37836 [==============================] - 29s 772us/step - loss: 0.0203 - acc: 0.9921 - val_loss: 0.2304 - val_acc: 0.9670\n",
            "Test loss: 0.23039191525035965\n",
            "Test accuracy: 0.967031237705563\n",
            "             precision    recall  f1-score   support\n",
            "\n",
            "          0       0.77      0.94      0.85       164\n",
            "          1       1.00      0.99      1.00       164\n",
            "          2       0.98      1.00      0.99       164\n",
            "          3       0.80      1.00      0.89       161\n",
            "          4       1.00      0.97      0.98       164\n",
            "          5       1.00      0.74      0.85       164\n",
            "          6       1.00      0.91      0.95       164\n",
            "          7       1.00      1.00      1.00       144\n",
            "          8       1.00      1.00      1.00       166\n",
            "          9       0.92      1.00      0.96       164\n",
            "         10       0.86      1.00      0.93       164\n",
            "         11       1.00      1.00      1.00       143\n",
            "         12       1.00      1.00      1.00       166\n",
            "         13       1.00      0.99      1.00       166\n",
            "         14       0.97      0.87      0.92       166\n",
            "         15       0.99      1.00      0.99       166\n",
            "         16       1.00      1.00      1.00       164\n",
            "         17       0.75      1.00      0.86       164\n",
            "         18       1.00      1.00      1.00       166\n",
            "         19       0.61      0.57      0.59       164\n",
            "         20       0.72      0.76      0.74       246\n",
            "         21       1.00      0.78      0.87       246\n",
            "         22       1.00      1.00      1.00       164\n",
            "         23       1.00      1.00      1.00       164\n",
            "         24       1.00      1.00      1.00       164\n",
            "         25       1.00      1.00      1.00       166\n",
            "         26       1.00      0.93      0.96       166\n",
            "         27       0.92      1.00      0.96       166\n",
            "         28       1.00      1.00      1.00       166\n",
            "         29       0.93      1.00      0.96       164\n",
            "         30       1.00      1.00      1.00       166\n",
            "         31       1.00      1.00      1.00       166\n",
            "         32       1.00      1.00      1.00       166\n",
            "         33       1.00      1.00      1.00       164\n",
            "         34       1.00      1.00      1.00       166\n",
            "         35       1.00      1.00      1.00       166\n",
            "         36       1.00      1.00      1.00       166\n",
            "         37       1.00      1.00      1.00       156\n",
            "         38       1.00      1.00      1.00       166\n",
            "         39       1.00      1.00      1.00       164\n",
            "         40       1.00      1.00      1.00       166\n",
            "         41       1.00      1.00      1.00       166\n",
            "         42       1.00      1.00      1.00       166\n",
            "         43       1.00      0.95      0.97       166\n",
            "         44       1.00      1.00      1.00       166\n",
            "         45       1.00      0.98      0.99       166\n",
            "         46       1.00      1.00      1.00       246\n",
            "         47       0.89      1.00      0.94       164\n",
            "         48       0.93      0.84      0.88       164\n",
            "         49       1.00      1.00      1.00       160\n",
            "         50       1.00      1.00      1.00       164\n",
            "         51       1.00      1.00      1.00       166\n",
            "         52       1.00      0.84      0.91       164\n",
            "         53       1.00      1.00      1.00       164\n",
            "         54       1.00      0.79      0.88       164\n",
            "         55       1.00      0.88      0.94       166\n",
            "         56       1.00      1.00      1.00       166\n",
            "         57       1.00      1.00      1.00       166\n",
            "         58       1.00      1.00      1.00       166\n",
            "         59       1.00      1.00      1.00       164\n",
            "         60       1.00      1.00      1.00       164\n",
            "         61       1.00      1.00      1.00       166\n",
            "         62       1.00      1.00      1.00       163\n",
            "         63       0.99      1.00      1.00       166\n",
            "         64       0.99      1.00      1.00       151\n",
            "         65       0.92      1.00      0.96       164\n",
            "         66       1.00      1.00      1.00       166\n",
            "         67       0.97      1.00      0.98       164\n",
            "         68       1.00      1.00      1.00       166\n",
            "         69       0.93      1.00      0.96       162\n",
            "         70       1.00      0.99      1.00       164\n",
            "         71       1.00      0.99      0.99       246\n",
            "         72       1.00      1.00      1.00       166\n",
            "         73       0.95      1.00      0.97       166\n",
            "         74       1.00      1.00      1.00       249\n",
            "\n",
            "avg / total       0.97      0.97      0.97     12709\n",
            "\n"
          ],
          "name": "stdout"
        }
      ]
    },
    {
      "metadata": {
        "id": "wQc3lRHSR2YH",
        "colab_type": "code",
        "colab": {
          "autoexec": {
            "startup": false,
            "wait_interval": 0
          }
        }
      },
      "cell_type": "code",
      "source": [
        "#tại epochs = 14 đạt giá trị val_acc = 0.976 cao nhất: load model tại epoch = 42:\n",
        "\n"
      ],
      "execution_count": 0,
      "outputs": []
    },
    {
      "metadata": {
        "id": "vZS0tgIcJzm5",
        "colab_type": "code",
        "colab": {
          "autoexec": {
            "startup": false,
            "wait_interval": 0
          },
          "base_uri": "https://localhost:8080/",
          "height": 386
        },
        "outputId": "64543d71-9d4b-4552-b9f2-6eaaa38dd29f",
        "executionInfo": {
          "status": "ok",
          "timestamp": 1530806555402,
          "user_tz": -420,
          "elapsed": 2235,
          "user": {
            "displayName": "Phạm Khánh",
            "photoUrl": "https://lh3.googleusercontent.com/a/default-user=s128",
            "userId": "108013420442388490411"
          }
        }
      },
      "cell_type": "code",
      "source": [
        "!ls\n",
        "\n",
        "\n"
      ],
      "execution_count": 14,
      "outputs": [
        {
          "output_type": "stream",
          "text": [
            "data2\t\t\t\t   weights.04-0.927.hdf5  weights.10-0.955.hdf5\r\n",
            "datalab\t\t\t\t   weights.04-0.970.hdf5  weights.10-0.962.hdf5\r\n",
            "fruits-360_dataset_2018_06_03.zip  weights.05-0.939.hdf5  weights.11-0.958.hdf5\r\n",
            "fruits-360_dataset.zip\t\t   weights.05-0.940.hdf5  weights.11-0.970.hdf5\r\n",
            "weights.01-0.785.hdf5\t\t   weights.05-0.951.hdf5  weights.12-0.958.hdf5\r\n",
            "weights.01-0.862.hdf5\t\t   weights.05-0.952.hdf5  weights.12-0.964.hdf5\r\n",
            "weights.01-0.873.hdf5\t\t   weights.05-0.959.hdf5  weights.13-0.966.hdf5\r\n",
            "weights.01-0.898.hdf5\t\t   weights.05-0.961.hdf5  weights.14-0.963.hdf5\r\n",
            "weights.01-0.911.hdf5\t\t   weights.05-0.970.hdf5  weights.14-0.965.hdf5\r\n",
            "weights.01-0.918.hdf5\t\t   weights.06-0.953.hdf5  weights.14-0.968.hdf5\r\n",
            "weights.01-0.937.hdf5\t\t   weights.06-0.954.hdf5  weights.17-0.966.hdf5\r\n",
            "weights.02-0.889.hdf5\t\t   weights.06-0.957.hdf5  weights.17-0.968.hdf5\r\n",
            "weights.02-0.928.hdf5\t\t   weights.06-0.959.hdf5  weights.17-0.969.hdf5\r\n",
            "weights.02-0.931.hdf5\t\t   weights.06-0.961.hdf5  weights.20-0.965.hdf5\r\n",
            "weights.02-0.936.hdf5\t\t   weights.06-0.972.hdf5  weights.21-0.966.hdf5\r\n",
            "weights.02-0.955.hdf5\t\t   weights.07-0.958.hdf5  weights.21-0.970.hdf5\r\n",
            "weights.03-0.920.hdf5\t\t   weights.08-0.964.hdf5  weights.22-0.973.hdf5\r\n",
            "weights.03-0.937.hdf5\t\t   weights.08-0.968.hdf5  weights.30-0.971.hdf5\r\n",
            "weights.03-0.941.hdf5\t\t   weights.08-0.973.hdf5  weights.42-0.975.hdf5\r\n",
            "weights.03-0.947.hdf5\t\t   weights.09-0.958.hdf5  weights.50-0.972.hdf5\r\n",
            "weights.03-0.953.hdf5\t\t   weights.09-0.963.hdf5\r\n",
            "weights.03-0.961.hdf5\t\t   weights.09-0.974.hdf5\r\n"
          ],
          "name": "stdout"
        }
      ]
    },
    {
      "metadata": {
        "id": "59bZinU2V7uh",
        "colab_type": "code",
        "colab": {
          "autoexec": {
            "startup": false,
            "wait_interval": 0
          },
          "base_uri": "https://localhost:8080/",
          "height": 17
        },
        "outputId": "5a58e34d-a0e8-4a54-c7ae-b5caf53ad472",
        "executionInfo": {
          "status": "ok",
          "timestamp": 1530797406621,
          "user_tz": -420,
          "elapsed": 3258,
          "user": {
            "displayName": "Phạm Khánh",
            "photoUrl": "https://lh3.googleusercontent.com/a/default-user=s128",
            "userId": "108013420442388490411"
          }
        }
      },
      "cell_type": "code",
      "source": [
        "!rm -r data2\n"
      ],
      "execution_count": 22,
      "outputs": []
    },
    {
      "metadata": {
        "id": "iN_UTsINoJMX",
        "colab_type": "code",
        "colab": {
          "autoexec": {
            "startup": false,
            "wait_interval": 0
          },
          "base_uri": "https://localhost:8080/",
          "height": 1361
        },
        "outputId": "5627512f-7bf5-4f3f-dea1-c33a6d388f9a",
        "executionInfo": {
          "status": "ok",
          "timestamp": 1530801860852,
          "user_tz": -420,
          "elapsed": 6141,
          "user": {
            "displayName": "Phạm Khánh",
            "photoUrl": "https://lh3.googleusercontent.com/a/default-user=s128",
            "userId": "108013420442388490411"
          }
        }
      },
      "cell_type": "code",
      "source": [
        "modelbest = keras.models.load_model('weights.42-0.975.hdf5')\n",
        "from sklearn.metrics import classification_report\n",
        "classes = modelbest.predict_classes(x_test, batch_size = None)\n",
        "print(classification_report(validation_label_id, classes))"
      ],
      "execution_count": 6,
      "outputs": [
        {
          "output_type": "stream",
          "text": [
            "             precision    recall  f1-score   support\n",
            "\n",
            "          0       0.96      0.78      0.86       164\n",
            "          1       1.00      0.93      0.97       164\n",
            "          2       0.83      1.00      0.91       164\n",
            "          3       0.77      1.00      0.87       161\n",
            "          4       1.00      0.91      0.95       164\n",
            "          5       1.00      0.92      0.96       164\n",
            "          6       1.00      1.00      1.00       164\n",
            "          7       1.00      1.00      1.00       144\n",
            "          8       1.00      1.00      1.00       166\n",
            "          9       1.00      1.00      1.00       164\n",
            "         10       1.00      1.00      1.00       164\n",
            "         11       1.00      1.00      1.00       143\n",
            "         12       0.98      1.00      0.99       166\n",
            "         13       0.99      1.00      1.00       166\n",
            "         14       0.93      0.94      0.93       166\n",
            "         15       1.00      0.99      1.00       166\n",
            "         16       1.00      1.00      1.00       164\n",
            "         17       1.00      0.99      1.00       164\n",
            "         18       1.00      1.00      1.00       166\n",
            "         19       0.59      0.52      0.55       164\n",
            "         20       0.70      0.76      0.73       246\n",
            "         21       1.00      1.00      1.00       246\n",
            "         22       1.00      1.00      1.00       164\n",
            "         23       1.00      1.00      1.00       164\n",
            "         24       1.00      1.00      1.00       164\n",
            "         25       1.00      1.00      1.00       166\n",
            "         26       1.00      0.95      0.98       166\n",
            "         27       0.99      1.00      1.00       166\n",
            "         28       0.98      1.00      0.99       166\n",
            "         29       0.93      1.00      0.96       164\n",
            "         30       1.00      1.00      1.00       166\n",
            "         31       1.00      1.00      1.00       166\n",
            "         32       1.00      1.00      1.00       166\n",
            "         33       1.00      1.00      1.00       164\n",
            "         34       1.00      1.00      1.00       166\n",
            "         35       1.00      1.00      1.00       166\n",
            "         36       1.00      1.00      1.00       166\n",
            "         37       1.00      1.00      1.00       156\n",
            "         38       1.00      0.98      0.99       166\n",
            "         39       1.00      1.00      1.00       164\n",
            "         40       1.00      1.00      1.00       166\n",
            "         41       1.00      1.00      1.00       166\n",
            "         42       1.00      1.00      1.00       166\n",
            "         43       1.00      1.00      1.00       166\n",
            "         44       1.00      1.00      1.00       166\n",
            "         45       1.00      0.86      0.92       166\n",
            "         46       1.00      1.00      1.00       246\n",
            "         47       1.00      0.98      0.99       164\n",
            "         48       0.81      0.96      0.88       164\n",
            "         49       1.00      1.00      1.00       160\n",
            "         50       0.99      1.00      1.00       164\n",
            "         51       1.00      1.00      1.00       166\n",
            "         52       1.00      1.00      1.00       164\n",
            "         53       1.00      1.00      1.00       164\n",
            "         54       1.00      0.80      0.89       164\n",
            "         55       0.96      0.93      0.94       166\n",
            "         56       1.00      1.00      1.00       166\n",
            "         57       0.99      1.00      1.00       166\n",
            "         58       0.99      1.00      1.00       166\n",
            "         59       1.00      1.00      1.00       164\n",
            "         60       1.00      1.00      1.00       164\n",
            "         61       1.00      1.00      1.00       166\n",
            "         62       1.00      1.00      1.00       163\n",
            "         63       1.00      1.00      1.00       166\n",
            "         64       0.99      1.00      1.00       151\n",
            "         65       1.00      1.00      1.00       164\n",
            "         66       1.00      1.00      1.00       166\n",
            "         67       0.99      1.00      1.00       164\n",
            "         68       1.00      1.00      1.00       166\n",
            "         69       0.94      1.00      0.97       162\n",
            "         70       1.00      1.00      1.00       164\n",
            "         71       1.00      0.99      0.99       246\n",
            "         72       1.00      1.00      1.00       166\n",
            "         73       1.00      1.00      1.00       166\n",
            "         74       1.00      1.00      1.00       249\n",
            "\n",
            "avg / total       0.98      0.97      0.97     12709\n",
            "\n"
          ],
          "name": "stdout"
        }
      ]
    },
    {
      "metadata": {
        "id": "insD6QFcpHb3",
        "colab_type": "code",
        "colab": {
          "autoexec": {
            "startup": false,
            "wait_interval": 0
          },
          "base_uri": "https://localhost:8080/",
          "height": 538
        },
        "outputId": "085b3966-cf2d-4693-b3db-b6f81cc50bc2",
        "executionInfo": {
          "status": "ok",
          "timestamp": 1530801874549,
          "user_tz": -420,
          "elapsed": 751,
          "user": {
            "displayName": "Phạm Khánh",
            "photoUrl": "https://lh3.googleusercontent.com/a/default-user=s128",
            "userId": "108013420442388490411"
          }
        }
      },
      "cell_type": "code",
      "source": [
        "modelbest.summary()"
      ],
      "execution_count": 7,
      "outputs": [
        {
          "output_type": "stream",
          "text": [
            "_________________________________________________________________\n",
            "Layer (type)                 Output Shape              Param #   \n",
            "=================================================================\n",
            "conv2d_5 (Conv2D)            (None, 62, 62, 32)        896       \n",
            "_________________________________________________________________\n",
            "conv2d_6 (Conv2D)            (None, 60, 60, 64)        18496     \n",
            "_________________________________________________________________\n",
            "max_pooling2d_3 (MaxPooling2 (None, 30, 30, 64)        0         \n",
            "_________________________________________________________________\n",
            "conv2d_7 (Conv2D)            (None, 28, 28, 32)        18464     \n",
            "_________________________________________________________________\n",
            "conv2d_8 (Conv2D)            (None, 26, 26, 64)        18496     \n",
            "_________________________________________________________________\n",
            "max_pooling2d_4 (MaxPooling2 (None, 13, 13, 64)        0         \n",
            "_________________________________________________________________\n",
            "dropout_3 (Dropout)          (None, 13, 13, 64)        0         \n",
            "_________________________________________________________________\n",
            "flatten_2 (Flatten)          (None, 10816)             0         \n",
            "_________________________________________________________________\n",
            "dense_4 (Dense)              (None, 256)               2769152   \n",
            "_________________________________________________________________\n",
            "dropout_4 (Dropout)          (None, 256)               0         \n",
            "_________________________________________________________________\n",
            "dense_5 (Dense)              (None, 256)               65792     \n",
            "_________________________________________________________________\n",
            "dense_6 (Dense)              (None, 75)                19275     \n",
            "=================================================================\n",
            "Total params: 2,910,571\n",
            "Trainable params: 2,910,571\n",
            "Non-trainable params: 0\n",
            "_________________________________________________________________\n"
          ],
          "name": "stdout"
        }
      ]
    },
    {
      "metadata": {
        "id": "RjLVFWlK6Ikz",
        "colab_type": "code",
        "colab": {
          "autoexec": {
            "startup": false,
            "wait_interval": 0
          },
          "base_uri": "https://localhost:8080/",
          "height": 17
        },
        "outputId": "97f67453-e80e-40da-ac2a-74011625e3e1",
        "executionInfo": {
          "status": "ok",
          "timestamp": 1530807424762,
          "user_tz": -420,
          "elapsed": 689,
          "user": {
            "displayName": "Phạm Khánh",
            "photoUrl": "https://lh3.googleusercontent.com/a/default-user=s128",
            "userId": "108013420442388490411"
          }
        }
      },
      "cell_type": "code",
      "source": [
        "\n"
      ],
      "execution_count": 15,
      "outputs": []
    },
    {
      "metadata": {
        "id": "_rjiAXn8vI_u",
        "colab_type": "code",
        "colab": {
          "autoexec": {
            "startup": false,
            "wait_interval": 0
          },
          "base_uri": "https://localhost:8080/",
          "height": 1210
        },
        "outputId": "61f0642e-4b68-49b7-933c-e88521480bc4",
        "executionInfo": {
          "status": "ok",
          "timestamp": 1529651292693,
          "user_tz": -420,
          "elapsed": 221129,
          "user": {
            "displayName": "Phạm Khánh",
            "photoUrl": "https://lh3.googleusercontent.com/a/default-user=s128",
            "userId": "108013420442388490411"
          }
        }
      },
      "cell_type": "code",
      "source": [
        "# sử dụng randomforest để phân loại\n",
        "\n",
        "rf = RandomForestClassifier(n_estimators=100)\n",
        "rf.fit(training_fruit_img.reshape(training_fruit_img.shape[0],64*64*3), training_label_id)\n",
        "pred = rf.predict(validation_fruit_img.reshape(validation_fruit_img.shape[0],64*64*3))\n",
        "\n",
        "\n",
        "from sklearn.metrics import classification_report\n",
        "print(classification_report(y_test, pred))\n",
        "print(np.sum(y_test==pred))"
      ],
      "execution_count": 19,
      "outputs": [
        {
          "output_type": "stream",
          "text": [
            "             precision    recall  f1-score   support\n",
            "\n",
            "          0       0.76      0.71      0.74       164\n",
            "          1       0.77      0.94      0.85       164\n",
            "          2       0.94      1.00      0.97       164\n",
            "          3       1.00      1.00      1.00       161\n",
            "          4       1.00      1.00      1.00       164\n",
            "          5       1.00      1.00      1.00       164\n",
            "          6       0.93      1.00      0.96       164\n",
            "          7       1.00      1.00      1.00       144\n",
            "          8       1.00      1.00      1.00       166\n",
            "          9       0.99      0.76      0.86       164\n",
            "         10       1.00      1.00      1.00       164\n",
            "         11       1.00      0.88      0.94       143\n",
            "         12       1.00      1.00      1.00       166\n",
            "         13       0.99      0.80      0.88       166\n",
            "         14       0.80      0.84      0.82       166\n",
            "         15       0.97      0.90      0.94       166\n",
            "         16       0.99      1.00      1.00       164\n",
            "         17       0.97      0.99      0.98       164\n",
            "         18       0.99      1.00      1.00       166\n",
            "         19       0.65      0.69      0.67       164\n",
            "         20       0.78      0.75      0.77       246\n",
            "         21       1.00      1.00      1.00       246\n",
            "         22       1.00      1.00      1.00       166\n",
            "         23       1.00      0.95      0.98       166\n",
            "         24       0.88      1.00      0.94       166\n",
            "         25       0.98      1.00      0.99       166\n",
            "         26       0.81      1.00      0.89       164\n",
            "         27       1.00      1.00      1.00       166\n",
            "         28       1.00      1.00      1.00       166\n",
            "         29       1.00      1.00      1.00       166\n",
            "         30       1.00      1.00      1.00       164\n",
            "         31       0.98      1.00      0.99       166\n",
            "         32       1.00      1.00      1.00       166\n",
            "         33       0.97      1.00      0.99       166\n",
            "         34       1.00      1.00      1.00       156\n",
            "         35       1.00      0.98      0.99       166\n",
            "         36       1.00      1.00      1.00       164\n",
            "         37       1.00      1.00      1.00       166\n",
            "         38       1.00      1.00      1.00       166\n",
            "         39       1.00      1.00      1.00       166\n",
            "         40       0.95      1.00      0.98       166\n",
            "         41       1.00      1.00      1.00       166\n",
            "         42       0.99      0.83      0.90       166\n",
            "         43       1.00      1.00      1.00       246\n",
            "         44       0.79      0.77      0.78       164\n",
            "         45       1.00      1.00      1.00       160\n",
            "         46       1.00      1.00      1.00       164\n",
            "         47       1.00      1.00      1.00       166\n",
            "         48       1.00      0.76      0.87       164\n",
            "         49       0.97      0.85      0.90       164\n",
            "         50       1.00      1.00      1.00       164\n",
            "         51       0.81      0.84      0.83       166\n",
            "         52       0.97      1.00      0.99       166\n",
            "         53       1.00      1.00      1.00       166\n",
            "         54       1.00      0.97      0.98       166\n",
            "         55       1.00      1.00      1.00       166\n",
            "         56       0.79      0.99      0.88       166\n",
            "         57       0.90      1.00      0.95       151\n",
            "         58       1.00      1.00      1.00       164\n",
            "         59       1.00      1.00      1.00       166\n",
            "         60       1.00      1.00      1.00       166\n",
            "         61       0.94      1.00      0.97       162\n",
            "         62       1.00      0.87      0.93       164\n",
            "         63       1.00      1.00      1.00       166\n",
            "         64       1.00      1.00      1.00       166\n",
            "\n",
            "avg / total       0.96      0.95      0.95     10903\n",
            "\n",
            "10406\n"
          ],
          "name": "stdout"
        }
      ]
    },
    {
      "metadata": {
        "id": "ElaYGXHRB6s5",
        "colab_type": "code",
        "colab": {
          "autoexec": {
            "startup": false,
            "wait_interval": 0
          },
          "base_uri": "https://localhost:8080/",
          "height": 17
        },
        "outputId": "ce745be5-d8e9-4b63-bee4-7aa1c5c82b27",
        "executionInfo": {
          "status": "ok",
          "timestamp": 1529741233800,
          "user_tz": -420,
          "elapsed": 726,
          "user": {
            "displayName": "Phạm Khánh",
            "photoUrl": "https://lh3.googleusercontent.com/a/default-user=s128",
            "userId": "108013420442388490411"
          }
        }
      },
      "cell_type": "code",
      "source": [
        "#model dùng randomforest cho kết quả khá giống với cnn mặc dù accurancy thấp hơn."
      ],
      "execution_count": 31,
      "outputs": []
    },
    {
      "metadata": {
        "id": "LznfoHZsaA7c",
        "colab_type": "code",
        "colab": {
          "autoexec": {
            "startup": false,
            "wait_interval": 0
          },
          "base_uri": "https://localhost:8080/",
          "height": 514
        },
        "outputId": "6be684a5-accc-47bf-b517-ccc96c64100b",
        "executionInfo": {
          "status": "error",
          "timestamp": 1530808016790,
          "user_tz": -420,
          "elapsed": 35306,
          "user": {
            "displayName": "Phạm Khánh",
            "photoUrl": "https://lh3.googleusercontent.com/a/default-user=s128",
            "userId": "108013420442388490411"
          }
        }
      },
      "cell_type": "code",
      "source": [
        "from google.colab import files\n",
        "files.download('weights.42-0.975.hdf5')  # from colab to browser download\n"
      ],
      "execution_count": 17,
      "outputs": [
        {
          "output_type": "error",
          "ename": "KeyboardInterrupt",
          "evalue": "ignored",
          "traceback": [
            "\u001b[0;31m---------------------------------------------------------------------------\u001b[0m",
            "\u001b[0;31mKeyboardInterrupt\u001b[0m                         Traceback (most recent call last)",
            "\u001b[0;32m<ipython-input-17-9c7237c6ce38>\u001b[0m in \u001b[0;36m<module>\u001b[0;34m()\u001b[0m\n\u001b[1;32m      1\u001b[0m \u001b[0;32mfrom\u001b[0m \u001b[0mgoogle\u001b[0m\u001b[0;34m.\u001b[0m\u001b[0mcolab\u001b[0m \u001b[0;32mimport\u001b[0m \u001b[0mfiles\u001b[0m\u001b[0;34m\u001b[0m\u001b[0m\n\u001b[0;32m----> 2\u001b[0;31m \u001b[0mfiles\u001b[0m\u001b[0;34m.\u001b[0m\u001b[0mdownload\u001b[0m\u001b[0;34m(\u001b[0m\u001b[0;34m'weights.42-0.975.hdf5'\u001b[0m\u001b[0;34m)\u001b[0m  \u001b[0;31m# from colab to browser download\u001b[0m\u001b[0;34m\u001b[0m\u001b[0m\n\u001b[0m",
            "\u001b[0;32m/usr/local/lib/python3.6/dist-packages/google/colab/files.py\u001b[0m in \u001b[0;36mdownload\u001b[0;34m(filename)\u001b[0m\n\u001b[1;32m    174\u001b[0m       \u001b[0;34m'port'\u001b[0m\u001b[0;34m:\u001b[0m \u001b[0mport\u001b[0m\u001b[0;34m,\u001b[0m\u001b[0;34m\u001b[0m\u001b[0m\n\u001b[1;32m    175\u001b[0m       \u001b[0;34m'path'\u001b[0m\u001b[0;34m:\u001b[0m \u001b[0mos\u001b[0m\u001b[0;34m.\u001b[0m\u001b[0mpath\u001b[0m\u001b[0;34m.\u001b[0m\u001b[0mabspath\u001b[0m\u001b[0;34m(\u001b[0m\u001b[0mfilename\u001b[0m\u001b[0;34m)\u001b[0m\u001b[0;34m,\u001b[0m\u001b[0;34m\u001b[0m\u001b[0m\n\u001b[0;32m--> 176\u001b[0;31m       \u001b[0;34m'name'\u001b[0m\u001b[0;34m:\u001b[0m \u001b[0mos\u001b[0m\u001b[0;34m.\u001b[0m\u001b[0mpath\u001b[0m\u001b[0;34m.\u001b[0m\u001b[0mbasename\u001b[0m\u001b[0;34m(\u001b[0m\u001b[0mfilename\u001b[0m\u001b[0;34m)\u001b[0m\u001b[0;34m,\u001b[0m\u001b[0;34m\u001b[0m\u001b[0m\n\u001b[0m\u001b[1;32m    177\u001b[0m   })\n",
            "\u001b[0;32m/usr/local/lib/python3.6/dist-packages/google/colab/output/_js.py\u001b[0m in \u001b[0;36meval_js\u001b[0;34m(script, ignore_result)\u001b[0m\n\u001b[1;32m     37\u001b[0m   \u001b[0;32mif\u001b[0m \u001b[0mignore_result\u001b[0m\u001b[0;34m:\u001b[0m\u001b[0;34m\u001b[0m\u001b[0m\n\u001b[1;32m     38\u001b[0m     \u001b[0;32mreturn\u001b[0m\u001b[0;34m\u001b[0m\u001b[0m\n\u001b[0;32m---> 39\u001b[0;31m   \u001b[0;32mreturn\u001b[0m \u001b[0m_message\u001b[0m\u001b[0;34m.\u001b[0m\u001b[0mread_reply_from_input\u001b[0m\u001b[0;34m(\u001b[0m\u001b[0mrequest_id\u001b[0m\u001b[0;34m)\u001b[0m\u001b[0;34m\u001b[0m\u001b[0m\n\u001b[0m\u001b[1;32m     40\u001b[0m \u001b[0;34m\u001b[0m\u001b[0m\n\u001b[1;32m     41\u001b[0m \u001b[0;34m\u001b[0m\u001b[0m\n",
            "\u001b[0;32m/usr/local/lib/python3.6/dist-packages/google/colab/_message.py\u001b[0m in \u001b[0;36mread_reply_from_input\u001b[0;34m(message_id, timeout_sec)\u001b[0m\n\u001b[1;32m     79\u001b[0m     \u001b[0mreply\u001b[0m \u001b[0;34m=\u001b[0m \u001b[0m_read_next_input_message\u001b[0m\u001b[0;34m(\u001b[0m\u001b[0;34m)\u001b[0m\u001b[0;34m\u001b[0m\u001b[0m\n\u001b[1;32m     80\u001b[0m     \u001b[0;32mif\u001b[0m \u001b[0mreply\u001b[0m \u001b[0;34m==\u001b[0m \u001b[0m_NOT_READY\u001b[0m \u001b[0;32mor\u001b[0m \u001b[0;32mnot\u001b[0m \u001b[0misinstance\u001b[0m\u001b[0;34m(\u001b[0m\u001b[0mreply\u001b[0m\u001b[0;34m,\u001b[0m \u001b[0mdict\u001b[0m\u001b[0;34m)\u001b[0m\u001b[0;34m:\u001b[0m\u001b[0;34m\u001b[0m\u001b[0m\n\u001b[0;32m---> 81\u001b[0;31m       \u001b[0mtime\u001b[0m\u001b[0;34m.\u001b[0m\u001b[0msleep\u001b[0m\u001b[0;34m(\u001b[0m\u001b[0;36m0.025\u001b[0m\u001b[0;34m)\u001b[0m\u001b[0;34m\u001b[0m\u001b[0m\n\u001b[0m\u001b[1;32m     82\u001b[0m       \u001b[0;32mcontinue\u001b[0m\u001b[0;34m\u001b[0m\u001b[0m\n\u001b[1;32m     83\u001b[0m     if (reply.get('type') == 'colab_reply' and\n",
            "\u001b[0;31mKeyboardInterrupt\u001b[0m: "
          ]
        }
      ]
    },
    {
      "metadata": {
        "id": "Hxl9924z5IVY",
        "colab_type": "code",
        "colab": {
          "autoexec": {
            "startup": false,
            "wait_interval": 0
          },
          "base_uri": "https://localhost:8080/",
          "height": 101
        },
        "outputId": "d2ed0343-3088-4536-ff7f-a2cfd97a8369",
        "executionInfo": {
          "status": "ok",
          "timestamp": 1529651315733,
          "user_tz": -420,
          "elapsed": 2226,
          "user": {
            "displayName": "Phạm Khánh",
            "photoUrl": "https://lh3.googleusercontent.com/a/default-user=s128",
            "userId": "108013420442388490411"
          }
        }
      },
      "cell_type": "code",
      "source": [
        ""
      ],
      "execution_count": 22,
      "outputs": [
        {
          "output_type": "stream",
          "text": [
            "apple.jpg\t\t\t     lemon1.jpg  thahlongtest.jpg\r\n",
            "data2\t\t\t\t     lemon.jpg\t tmp\r\n",
            "datalab\t\t\t\t     logs\t vai.jpg\r\n",
            "fruits-360_dataset_2018_06_03.zip    logs2\r\n",
            "fruits-360_dataset_2018_06_03.zip.1  logs2.zip\r\n"
          ],
          "name": "stdout"
        }
      ]
    },
    {
      "metadata": {
        "id": "5OW13nTE2jWH",
        "colab_type": "code",
        "colab": {
          "autoexec": {
            "startup": false,
            "wait_interval": 0
          },
          "base_uri": "https://localhost:8080/",
          "height": 17
        },
        "outputId": "e2ea951f-0ea7-425a-f729-1643b62688f1",
        "executionInfo": {
          "status": "ok",
          "timestamp": 1529651316504,
          "user_tz": -420,
          "elapsed": 692,
          "user": {
            "displayName": "Phạm Khánh",
            "photoUrl": "https://lh3.googleusercontent.com/a/default-user=s128",
            "userId": "108013420442388490411"
          }
        }
      },
      "cell_type": "code",
      "source": [
        ""
      ],
      "execution_count": 22,
      "outputs": []
    },
    {
      "metadata": {
        "id": "EIOYNnqX59U2",
        "colab_type": "code",
        "colab": {
          "autoexec": {
            "startup": false,
            "wait_interval": 0
          },
          "base_uri": "https://localhost:8080/",
          "height": 37
        },
        "outputId": "10ca549c-0781-4c6e-9432-7ba1abaeef3d",
        "executionInfo": {
          "status": "ok",
          "timestamp": 1529651317563,
          "user_tz": -420,
          "elapsed": 619,
          "user": {
            "displayName": "Phạm Khánh",
            "photoUrl": "https://lh3.googleusercontent.com/a/default-user=s128",
            "userId": "108013420442388490411"
          }
        }
      },
      "cell_type": "code",
      "source": [
        ""
      ],
      "execution_count": 22,
      "outputs": []
    }
  ]
}