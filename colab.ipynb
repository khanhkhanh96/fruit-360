{
  "nbformat": 4,
  "nbformat_minor": 0,
  "metadata": {
    "colab": {
      "name": "Untitled4.ipynb",
      "version": "0.3.2",
      "views": {},
      "default_view": {},
      "provenance": [],
      "collapsed_sections": []
    },
    "kernelspec": {
      "name": "python3",
      "display_name": "Python 3"
    },
    "accelerator": "GPU"
  },
  "cells": [
    {
      "metadata": {
        "id": "b6Sjd4PLxFU3",
        "colab_type": "code",
        "colab": {
          "autoexec": {
            "startup": false,
            "wait_interval": 0
          }
        }
      },
      "cell_type": "code",
      "source": [
        "#!wget https://uaelxg.bn.files.1drv.com/y4m6LXxg-7eOXxzRU9IXUnf1XlbkQRLyAfwek0ViUe4JWDue6kQfX4S1nds_8YLl11gcp2CKL7lERNOEr1J49BV-R-wmnMOikf2q32UIXPMC3R02R139tW4r0nglP6UXCwgLlyXR0cnUT4wvKSNbTTXe_HMej6e-ai89rAMZmI4-LbXdxzv7OTVyK5JFRMC5-qw/fruits-360_dataset_2018_06_03.zip"
      ],
      "execution_count": 0,
      "outputs": []
    },
    {
      "metadata": {
        "id": "EoA4avPyxZLF",
        "colab_type": "code",
        "colab": {
          "autoexec": {
            "startup": false,
            "wait_interval": 0
          }
        }
      },
      "cell_type": "code",
      "source": [
        "# import zipfile\n",
        "# zip_ref = zipfile.ZipFile('fruits-360_dataset_2018_06_03.zip', 'r')\n",
        "# zip_ref.extractall('data2')\n",
        "# zip_ref.close()"
      ],
      "execution_count": 0,
      "outputs": []
    },
    {
      "metadata": {
        "id": "toPsKITGcSgp",
        "colab_type": "code",
        "colab": {
          "autoexec": {
            "startup": false,
            "wait_interval": 0
          },
          "base_uri": "https://localhost:8080/",
          "height": 84
        },
        "outputId": "3cf77257-f038-40e7-9994-c45c9509d9fd",
        "executionInfo": {
          "status": "ok",
          "timestamp": 1529238166352,
          "user_tz": -420,
          "elapsed": 1714,
          "user": {
            "displayName": "Phạm Khánh",
            "photoUrl": "https://lh3.googleusercontent.com/a/default-user=s128",
            "userId": "108013420442388490411"
          }
        }
      },
      "cell_type": "code",
      "source": [
        "!ls"
      ],
      "execution_count": 5,
      "outputs": [
        {
          "output_type": "stream",
          "text": [
            "data2\t\t\t\t     logbatch256.zip.zip  logs4\r\n",
            "datalab\t\t\t\t     logs\t\t  logs5\r\n",
            "fruits-360_dataset_2018_06_03.zip    logs2\t\t  log.zip.zip\r\n",
            "fruits-360_dataset_2018_06_03.zip.1  logs3\r\n"
          ],
          "name": "stdout"
        }
      ]
    },
    {
      "metadata": {
        "id": "80p2ZdIyxnPM",
        "colab_type": "code",
        "colab": {
          "autoexec": {
            "startup": false,
            "wait_interval": 0
          },
          "base_uri": "https://localhost:8080/",
          "height": 34
        },
        "outputId": "2b844c5e-57f0-4e99-b05e-4d98bc81d075",
        "executionInfo": {
          "status": "ok",
          "timestamp": 1529238169660,
          "user_tz": -420,
          "elapsed": 3226,
          "user": {
            "displayName": "Phạm Khánh",
            "photoUrl": "https://lh3.googleusercontent.com/a/default-user=s128",
            "userId": "108013420442388490411"
          }
        }
      },
      "cell_type": "code",
      "source": [
        "import numpy as np # linear algebra\n",
        "import pandas as pd # data processing, CSV file I/O (e.g. pd.read_csv)\n",
        "import tensorflow as tf\n",
        "import matplotlib.pyplot as plt\n",
        "import cv2\n",
        "import glob\n",
        "import os\n",
        "import keras\n",
        "from keras.datasets import mnist\n",
        "from keras.models import Sequential\n",
        "from keras.layers import Dense, Dropout, Flatten\n",
        "from keras.layers import Conv2D, MaxPooling2D\n",
        "from keras import backend as K"
      ],
      "execution_count": 6,
      "outputs": [
        {
          "output_type": "stream",
          "text": [
            "Using TensorFlow backend.\n"
          ],
          "name": "stderr"
        }
      ]
    },
    {
      "metadata": {
        "id": "tjzDfWJUAX7c",
        "colab_type": "code",
        "colab": {
          "autoexec": {
            "startup": false,
            "wait_interval": 0
          },
          "base_uri": "https://localhost:8080/",
          "height": 84
        },
        "outputId": "38ba9fe5-e498-4916-8ba4-29ea0a4cc493",
        "executionInfo": {
          "status": "ok",
          "timestamp": 1529238171584,
          "user_tz": -420,
          "elapsed": 1870,
          "user": {
            "displayName": "Phạm Khánh",
            "photoUrl": "https://lh3.googleusercontent.com/a/default-user=s128",
            "userId": "108013420442388490411"
          }
        }
      },
      "cell_type": "code",
      "source": [
        "!ls\n"
      ],
      "execution_count": 7,
      "outputs": [
        {
          "output_type": "stream",
          "text": [
            "data2\t\t\t\t     logbatch256.zip.zip  logs4\r\n",
            "datalab\t\t\t\t     logs\t\t  logs5\r\n",
            "fruits-360_dataset_2018_06_03.zip    logs2\t\t  log.zip.zip\r\n",
            "fruits-360_dataset_2018_06_03.zip.1  logs3\r\n"
          ],
          "name": "stdout"
        }
      ]
    },
    {
      "metadata": {
        "id": "aI_1fwg3xoRe",
        "colab_type": "code",
        "colab": {
          "autoexec": {
            "startup": false,
            "wait_interval": 0
          }
        }
      },
      "cell_type": "code",
      "source": [
        "training_fruit_img = []\n",
        "training_label = []\n",
        "for dir_path in glob.glob(\"data2/fruits-360/Training/*\"):\n",
        "    img_label = dir_path.split(\"/\")[-1]\n",
        "    for image_path in glob.glob(os.path.join(dir_path,\"*.jpg\")):\n",
        "        image = cv2.imread(image_path,cv2.IMREAD_COLOR)\n",
        "        image = cv2.resize(image, (64, 64))\n",
        "        image = cv2.cvtColor(image, cv2.COLOR_RGB2BGR)\n",
        "        training_fruit_img.append(image)\n",
        "        training_label.append(img_label)\n",
        "training_fruit_img = np.array(training_fruit_img)\n",
        "training_label = np.array(training_label)\n",
        "label_to_id = {v:k for k,v in enumerate(np.unique(training_label)) }\n",
        "id_to_label = {v:k for k,v in label_to_id.items()}\n",
        "training_label_id = np.array([label_to_id[i] for i in training_label])\n",
        "validation_fruit_img=[]\n",
        "validation_label =[]\n",
        "for dir_path in glob.glob(\"data2/fruits-360/Validation/*\"):\n",
        "    img_label = dir_path.split(\"/\")[-1]\n",
        "    for image_path in glob.glob(os.path.join(dir_path,\"*.jpg\")):\n",
        "        image = cv2.imread(image_path,cv2.IMREAD_COLOR)\n",
        "        image = cv2.resize(image, (64, 64))\n",
        "        image = cv2.cvtColor(image, cv2.COLOR_RGB2BGR)\n",
        "        validation_fruit_img.append(image)\n",
        "        validation_label.append(img_label)\n",
        "validation_fruit_img = np.array(validation_fruit_img)\n",
        "validation_label = np.array(validation_label)\n",
        "validation_label_id = np.array([label_to_id[i] for i in validation_label])"
      ],
      "execution_count": 0,
      "outputs": []
    },
    {
      "metadata": {
        "id": "8lXYJrbD-5jF",
        "colab_type": "code",
        "colab": {
          "autoexec": {
            "startup": false,
            "wait_interval": 0
          },
          "base_uri": "https://localhost:8080/",
          "height": 34
        },
        "outputId": "c6f34f35-957d-4398-d880-c4d5af7e9696",
        "executionInfo": {
          "status": "ok",
          "timestamp": 1529238208103,
          "user_tz": -420,
          "elapsed": 540,
          "user": {
            "displayName": "Phạm Khánh",
            "photoUrl": "https://lh3.googleusercontent.com/a/default-user=s128",
            "userId": "108013420442388490411"
          }
        }
      },
      "cell_type": "code",
      "source": [
        "training_fruit_img.shape"
      ],
      "execution_count": 9,
      "outputs": [
        {
          "output_type": "execute_result",
          "data": {
            "text/plain": [
              "(32426, 64, 64, 3)"
            ]
          },
          "metadata": {
            "tags": []
          },
          "execution_count": 9
        }
      ]
    },
    {
      "metadata": {
        "id": "P5UkIc_mxryR",
        "colab_type": "code",
        "colab": {
          "autoexec": {
            "startup": false,
            "wait_interval": 0
          }
        }
      },
      "cell_type": "code",
      "source": [
        "def cnn(batch_size = 128, num_classes = 65, epochs = 12, numfilter1 = 32,y_train = training_label_id,\n",
        "  y_test = validation_label_id, x_train = training_fruit_img.astype('float32'), x_test = validation_fruit_img.astype('float32'),kernel_size1=(3, 3),\n",
        "        numfilter2 = 64, kernel_size2=(3, 3), activation='relu', log_dir='logs', optimizer=keras.optimizers.Adadelta() ):\n",
        "  \n",
        "\n",
        "  batch_size = batch_size\n",
        "  num_classes = num_classes\n",
        "  epochs = epochs\n",
        "\n",
        "  # input image dimensions\n",
        "  img_rows, img_cols = 64, 64\n",
        "  input_shape = (img_rows,img_cols,3)\n",
        "\n",
        "\n",
        "  y_train = training_label_id\n",
        "  y_test = validation_label_id\n",
        "\n",
        "  x_train = training_fruit_img.astype('float32')\n",
        "  x_test = validation_fruit_img.astype('float32')\n",
        "  x_train /= 255\n",
        "  x_test /= 255\n",
        "  print('x_train shape:', x_train.shape)\n",
        "  print(x_train.shape[0], 'train samples')\n",
        "  print(x_test.shape[0], 'test samples')\n",
        "\n",
        "  # convert class vectors to binary class matrices\n",
        "  y_train = keras.utils.to_categorical(y_train, num_classes)\n",
        "  y_test = keras.utils.to_categorical(y_test, num_classes)\n",
        "\n",
        "  model = Sequential()\n",
        "  model.add(Conv2D(numfilter1, kernel_size=kernel_size1,\n",
        "                   activation=activation,\n",
        "                   input_shape=input_shape))\n",
        "  model.add(Conv2D(numfilter2, kernel_size2, activation=activation))\n",
        "  model.add(MaxPooling2D(pool_size=(2, 2)))\n",
        "  model.add(Dropout(0.5))\n",
        "  model.add(Flatten())\n",
        "  model.add(Dense(128, activation=activation))\n",
        "  model.add(Dropout(0.25))\n",
        "  model.add(Dense(num_classes, activation='softmax'))\n",
        "\n",
        "  from keras.callbacks import TensorBoard\n",
        "\n",
        "  tensorboard = TensorBoard(log_dir=log_dir, histogram_freq=0,\n",
        "                          write_graph=True, write_images=False)\n",
        "  model.compile(loss=keras.losses.categorical_crossentropy,\n",
        "              optimizer=optimizer,\n",
        "              metrics=['accuracy'])\n",
        "  model.fit(x_train, y_train,\n",
        "          batch_size=batch_size,\n",
        "          epochs=epochs,\n",
        "          verbose=1,\n",
        "          validation_data=(x_test, y_test),\n",
        "          callbacks=[tensorboard])\n",
        "  score = model.evaluate(x_test, y_test, verbose=0)\n",
        "  print('Test loss:', score[0])\n",
        "  print('Test accuracy:', score[1])"
      ],
      "execution_count": 0,
      "outputs": []
    },
    {
      "metadata": {
        "id": "2uyTxYHqrkuw",
        "colab_type": "code",
        "colab": {
          "autoexec": {
            "startup": false,
            "wait_interval": 0
          },
          "base_uri": "https://localhost:8080/",
          "height": 84
        },
        "outputId": "81e5bb95-1e19-4974-d5e4-46593fc0287f",
        "executionInfo": {
          "status": "ok",
          "timestamp": 1529238212429,
          "user_tz": -420,
          "elapsed": 1768,
          "user": {
            "displayName": "Phạm Khánh",
            "photoUrl": "https://lh3.googleusercontent.com/a/default-user=s128",
            "userId": "108013420442388490411"
          }
        }
      },
      "cell_type": "code",
      "source": [
        "!ls\n"
      ],
      "execution_count": 11,
      "outputs": [
        {
          "output_type": "stream",
          "text": [
            "data2\t\t\t\t     logbatch256.zip.zip  logs4\r\n",
            "datalab\t\t\t\t     logs\t\t  logs5\r\n",
            "fruits-360_dataset_2018_06_03.zip    logs2\t\t  log.zip.zip\r\n",
            "fruits-360_dataset_2018_06_03.zip.1  logs3\r\n"
          ],
          "name": "stdout"
        }
      ]
    },
    {
      "metadata": {
        "id": "U6riDfnhrmyi",
        "colab_type": "code",
        "colab": {
          "autoexec": {
            "startup": false,
            "wait_interval": 0
          },
          "base_uri": "https://localhost:8080/",
          "height": 34
        },
        "outputId": "b5c512b9-b190-400e-a22a-c2064bb81dff",
        "executionInfo": {
          "status": "ok",
          "timestamp": 1529238214654,
          "user_tz": -420,
          "elapsed": 2192,
          "user": {
            "displayName": "Phạm Khánh",
            "photoUrl": "https://lh3.googleusercontent.com/a/default-user=s128",
            "userId": "108013420442388490411"
          }
        }
      },
      "cell_type": "code",
      "source": [
        "!rm -r logsdefault"
      ],
      "execution_count": 12,
      "outputs": [
        {
          "output_type": "stream",
          "text": [
            "rm: cannot remove 'logsdefault': No such file or directory\r\n"
          ],
          "name": "stdout"
        }
      ]
    },
    {
      "metadata": {
        "id": "ntmwlqb7A71d",
        "colab_type": "code",
        "colab": {
          "autoexec": {
            "startup": false,
            "wait_interval": 0
          },
          "base_uri": "https://localhost:8080/",
          "height": 541
        },
        "outputId": "146e1e2a-7b89-432d-89c3-d42471c4a8f9",
        "executionInfo": {
          "status": "ok",
          "timestamp": 1529238534435,
          "user_tz": -420,
          "elapsed": 319704,
          "user": {
            "displayName": "Phạm Khánh",
            "photoUrl": "https://lh3.googleusercontent.com/a/default-user=s128",
            "userId": "108013420442388490411"
          }
        }
      },
      "cell_type": "code",
      "source": [
        "cnn(batch_size = 128, num_classes = 65, epochs = 12, numfilter1 = 32,y_train = training_label_id,\n",
        "  y_test = validation_label_id, x_train = training_fruit_img.astype('float32'), x_test = validation_fruit_img.astype('float32'),kernel_size1=(3, 3),\n",
        "        numfilter2 = 64, kernel_size2=(3, 3), activation='relu', log_dir='logdefault', optimizer=keras.optimizers.Adadelta() )\n"
      ],
      "execution_count": 13,
      "outputs": [
        {
          "output_type": "stream",
          "text": [
            "x_train shape: (32426, 64, 64, 3)\n",
            "32426 train samples\n",
            "10903 test samples\n",
            "Train on 32426 samples, validate on 10903 samples\n",
            "Epoch 1/12\n",
            "32426/32426 [==============================] - 27s 828us/step - loss: 1.8120 - acc: 0.5165 - val_loss: 0.3821 - val_acc: 0.8688\n",
            "Epoch 2/12\n",
            "15872/32426 [=============>................] - ETA: 11s - loss: 0.2194 - acc: 0.9296"
          ],
          "name": "stdout"
        },
        {
          "output_type": "stream",
          "text": [
            "32426/32426 [==============================] - 25s 774us/step - loss: 0.1704 - acc: 0.9443 - val_loss: 0.2134 - val_acc: 0.9272\n",
            "Epoch 3/12\n",
            "32426/32426 [==============================] - 25s 774us/step - loss: 0.0735 - acc: 0.9747 - val_loss: 0.1532 - val_acc: 0.9485\n",
            "Epoch 4/12\n",
            "11392/32426 [=========>....................] - ETA: 14s - loss: 0.0551 - acc: 0.9793"
          ],
          "name": "stdout"
        },
        {
          "output_type": "stream",
          "text": [
            "32426/32426 [==============================] - 25s 770us/step - loss: 0.0485 - acc: 0.9818 - val_loss: 0.1999 - val_acc: 0.9368\n",
            "Epoch 5/12\n",
            "32426/32426 [==============================] - 25s 773us/step - loss: 0.0383 - acc: 0.9848 - val_loss: 0.1408 - val_acc: 0.9528\n",
            "Epoch 6/12\n",
            "10368/32426 [========>.....................] - ETA: 15s - loss: 0.0344 - acc: 0.9859"
          ],
          "name": "stdout"
        },
        {
          "output_type": "stream",
          "text": [
            "32426/32426 [==============================] - 25s 775us/step - loss: 0.0299 - acc: 0.9873 - val_loss: 0.2164 - val_acc: 0.9408\n",
            "Epoch 7/12\n",
            "32426/32426 [==============================] - 25s 772us/step - loss: 0.0280 - acc: 0.9874 - val_loss: 0.1961 - val_acc: 0.9451\n",
            "Epoch 8/12\n",
            "10112/32426 [========>.....................] - ETA: 15s - loss: 0.0221 - acc: 0.9899"
          ],
          "name": "stdout"
        },
        {
          "output_type": "stream",
          "text": [
            "32426/32426 [==============================] - 25s 772us/step - loss: 0.0247 - acc: 0.9889 - val_loss: 0.1432 - val_acc: 0.9535\n",
            "Epoch 9/12\n",
            "32426/32426 [==============================] - 25s 774us/step - loss: 0.0221 - acc: 0.9901 - val_loss: 0.1391 - val_acc: 0.9586\n",
            "Epoch 10/12\n",
            "10112/32426 [========>.....................] - ETA: 15s - loss: 0.0218 - acc: 0.9907"
          ],
          "name": "stdout"
        },
        {
          "output_type": "stream",
          "text": [
            "32426/32426 [==============================] - 25s 771us/step - loss: 0.0216 - acc: 0.9903 - val_loss: 0.2070 - val_acc: 0.9474\n",
            "Epoch 11/12\n",
            "32426/32426 [==============================] - 25s 775us/step - loss: 0.0203 - acc: 0.9898 - val_loss: 0.1681 - val_acc: 0.9599\n",
            "Epoch 12/12\n",
            " 9984/32426 [========>.....................] - ETA: 15s - loss: 0.0192 - acc: 0.9907"
          ],
          "name": "stdout"
        },
        {
          "output_type": "stream",
          "text": [
            "32426/32426 [==============================] - 25s 775us/step - loss: 0.0197 - acc: 0.9902 - val_loss: 0.1615 - val_acc: 0.9568\n",
            "Test loss: 0.16153730784703177\n",
            "Test accuracy: 0.9568008804916078\n"
          ],
          "name": "stdout"
        }
      ]
    },
    {
      "metadata": {
        "id": "XclhqPpDcVn3",
        "colab_type": "code",
        "colab": {
          "autoexec": {
            "startup": false,
            "wait_interval": 0
          },
          "base_uri": "https://localhost:8080/",
          "height": 541
        },
        "outputId": "4c82a05f-9c64-4a61-abb1-413710491229",
        "executionInfo": {
          "status": "ok",
          "timestamp": 1529239537493,
          "user_tz": -420,
          "elapsed": 304813,
          "user": {
            "displayName": "Phạm Khánh",
            "photoUrl": "https://lh3.googleusercontent.com/a/default-user=s128",
            "userId": "108013420442388490411"
          }
        }
      },
      "cell_type": "code",
      "source": [
        "cnn(batch_size = 128, num_classes = 65, epochs = 12, numfilter1 = 32,y_train = training_label_id,\n",
        "  y_test = validation_label_id, x_train = training_fruit_img.astype('float32'), x_test = validation_fruit_img.astype('float32'),kernel_size1=(5, 5),\n",
        "        numfilter2 = 64, kernel_size2=(5, 5), activation='relu', log_dir='logs', optimizer=keras.optimizers.Adadelta() )"
      ],
      "execution_count": 16,
      "outputs": [
        {
          "output_type": "stream",
          "text": [
            "x_train shape: (32426, 64, 64, 3)\n",
            "32426 train samples\n",
            "10903 test samples\n",
            "Train on 32426 samples, validate on 10903 samples\n",
            "Epoch 1/12\n",
            "32426/32426 [==============================] - 26s 794us/step - loss: 1.7482 - acc: 0.5414 - val_loss: 0.4628 - val_acc: 0.8619\n",
            "Epoch 2/12\n",
            "15872/32426 [=============>................] - ETA: 11s - loss: 0.1675 - acc: 0.9463"
          ],
          "name": "stdout"
        },
        {
          "output_type": "stream",
          "text": [
            "32426/32426 [==============================] - 25s 759us/step - loss: 0.1303 - acc: 0.9569 - val_loss: 0.2705 - val_acc: 0.9198\n",
            "Epoch 3/12\n",
            "32426/32426 [==============================] - 25s 761us/step - loss: 0.0751 - acc: 0.9742 - val_loss: 0.4265 - val_acc: 0.8802\n",
            "Epoch 4/12\n",
            "11392/32426 [=========>....................] - ETA: 14s - loss: 0.0510 - acc: 0.9790"
          ],
          "name": "stdout"
        },
        {
          "output_type": "stream",
          "text": [
            "32426/32426 [==============================] - 25s 764us/step - loss: 0.0446 - acc: 0.9827 - val_loss: 0.2558 - val_acc: 0.9295\n",
            "Epoch 5/12\n",
            "32426/32426 [==============================] - 25s 763us/step - loss: 0.0416 - acc: 0.9848 - val_loss: 0.2272 - val_acc: 0.9393\n",
            "Epoch 6/12\n",
            "10368/32426 [========>.....................] - ETA: 15s - loss: 0.0247 - acc: 0.9877"
          ],
          "name": "stdout"
        },
        {
          "output_type": "stream",
          "text": [
            "32426/32426 [==============================] - 25s 760us/step - loss: 0.0264 - acc: 0.9881 - val_loss: 0.3103 - val_acc: 0.9303\n",
            "Epoch 7/12\n",
            "32426/32426 [==============================] - 25s 761us/step - loss: 0.0234 - acc: 0.9902 - val_loss: 0.1877 - val_acc: 0.9546\n",
            "Epoch 8/12\n",
            "10112/32426 [========>.....................] - ETA: 15s - loss: 0.0293 - acc: 0.9869"
          ],
          "name": "stdout"
        },
        {
          "output_type": "stream",
          "text": [
            "32426/32426 [==============================] - 25s 762us/step - loss: 0.0271 - acc: 0.9893 - val_loss: 0.2094 - val_acc: 0.9494\n",
            "Epoch 9/12\n",
            "32426/32426 [==============================] - 25s 763us/step - loss: 0.0220 - acc: 0.9896 - val_loss: 0.2132 - val_acc: 0.9508\n",
            "Epoch 10/12\n",
            "10112/32426 [========>.....................] - ETA: 15s - loss: 0.0180 - acc: 0.9911"
          ],
          "name": "stdout"
        },
        {
          "output_type": "stream",
          "text": [
            "32426/32426 [==============================] - 25s 760us/step - loss: 0.0195 - acc: 0.9904 - val_loss: 0.2205 - val_acc: 0.9535\n",
            "Epoch 11/12\n",
            "32426/32426 [==============================] - 25s 761us/step - loss: 0.0476 - acc: 0.9865 - val_loss: 0.2285 - val_acc: 0.9515\n",
            "Epoch 12/12\n",
            " 9984/32426 [========>.....................] - ETA: 15s - loss: 0.0177 - acc: 0.9911"
          ],
          "name": "stdout"
        },
        {
          "output_type": "stream",
          "text": [
            "32426/32426 [==============================] - 25s 762us/step - loss: 0.0203 - acc: 0.9907 - val_loss: 0.3477 - val_acc: 0.9261\n",
            "Test loss: 0.34770047377510244\n",
            "Test accuracy: 0.9260753920939191\n"
          ],
          "name": "stdout"
        }
      ]
    },
    {
      "metadata": {
        "id": "L2KhdvfrJ2HQ",
        "colab_type": "code",
        "colab": {
          "autoexec": {
            "startup": false,
            "wait_interval": 0
          },
          "base_uri": "https://localhost:8080/",
          "height": 1146
        },
        "outputId": "ecbe01ba-cf84-4f01-91d7-c313094d3869",
        "executionInfo": {
          "status": "ok",
          "timestamp": 1529240352681,
          "user_tz": -420,
          "elapsed": 662753,
          "user": {
            "displayName": "Phạm Khánh",
            "photoUrl": "https://lh3.googleusercontent.com/a/default-user=s128",
            "userId": "108013420442388490411"
          }
        }
      },
      "cell_type": "code",
      "source": [
        "cnn(batch_size = 256, num_classes = 65, epochs = 30, numfilter1 = 32,\n",
        "        kernel_size1=(3, 3), numfilter2 = 64, kernel_size2=(3, 3), activation='relu', log_dir='logbatch256')"
      ],
      "execution_count": 17,
      "outputs": [
        {
          "output_type": "stream",
          "text": [
            "x_train shape: (32426, 64, 64, 3)\n",
            "32426 train samples\n",
            "10903 test samples\n",
            "Train on 32426 samples, validate on 10903 samples\n",
            "Epoch 1/30\n",
            "32426/32426 [==============================] - 23s 715us/step - loss: 3.0600 - acc: 0.2150 - val_loss: 1.7024 - val_acc: 0.4870\n",
            "Epoch 2/30\n",
            "32426/32426 [==============================] - 22s 673us/step - loss: 0.8172 - acc: 0.7478 - val_loss: 0.5998 - val_acc: 0.7957\n",
            "Epoch 3/30\n",
            "13568/32426 [===========>..................] - ETA: 11s - loss: 0.3289 - acc: 0.8964"
          ],
          "name": "stdout"
        },
        {
          "output_type": "stream",
          "text": [
            "32426/32426 [==============================] - 22s 673us/step - loss: 0.2694 - acc: 0.9137 - val_loss: 0.3874 - val_acc: 0.8766\n",
            "Epoch 4/30\n",
            "32426/32426 [==============================] - 22s 672us/step - loss: 0.1515 - acc: 0.9504 - val_loss: 0.1802 - val_acc: 0.9385\n",
            "Epoch 5/30\n",
            "32426/32426 [==============================] - 22s 673us/step - loss: 0.1090 - acc: 0.9628 - val_loss: 0.1784 - val_acc: 0.9311\n",
            "Epoch 6/30\n",
            " 9728/32426 [========>.....................] - ETA: 13s - loss: 0.0776 - acc: 0.9728"
          ],
          "name": "stdout"
        },
        {
          "output_type": "stream",
          "text": [
            "32426/32426 [==============================] - 22s 673us/step - loss: 0.0761 - acc: 0.9723 - val_loss: 0.1591 - val_acc: 0.9456\n",
            "Epoch 7/30\n",
            "32426/32426 [==============================] - 22s 675us/step - loss: 0.0648 - acc: 0.9765 - val_loss: 0.1862 - val_acc: 0.9473\n",
            "Epoch 8/30\n",
            "32426/32426 [==============================] - 22s 676us/step - loss: 0.0544 - acc: 0.9800 - val_loss: 0.1227 - val_acc: 0.9624\n",
            "Epoch 9/30\n",
            " 9216/32426 [=======>......................] - ETA: 14s - loss: 0.0521 - acc: 0.9795"
          ],
          "name": "stdout"
        },
        {
          "output_type": "stream",
          "text": [
            "32426/32426 [==============================] - 22s 675us/step - loss: 0.0474 - acc: 0.9817 - val_loss: 0.1924 - val_acc: 0.9486\n",
            "Epoch 10/30\n",
            "32426/32426 [==============================] - 22s 673us/step - loss: 0.0415 - acc: 0.9840 - val_loss: 0.1518 - val_acc: 0.9542\n",
            "Epoch 11/30\n",
            "32426/32426 [==============================] - 22s 673us/step - loss: 0.0423 - acc: 0.9828 - val_loss: 0.1642 - val_acc: 0.9501\n",
            "Epoch 12/30\n",
            " 8960/32426 [=======>......................] - ETA: 14s - loss: 0.0422 - acc: 0.9855"
          ],
          "name": "stdout"
        },
        {
          "output_type": "stream",
          "text": [
            "32426/32426 [==============================] - 22s 675us/step - loss: 0.0393 - acc: 0.9845 - val_loss: 0.1441 - val_acc: 0.9584\n",
            "Epoch 13/30\n",
            "32426/32426 [==============================] - 22s 673us/step - loss: 0.0327 - acc: 0.9862 - val_loss: 0.1638 - val_acc: 0.9489\n",
            "Epoch 14/30\n",
            "32426/32426 [==============================] - 22s 672us/step - loss: 0.0345 - acc: 0.9854 - val_loss: 0.1331 - val_acc: 0.9588\n",
            "Epoch 15/30\n",
            " 8704/32426 [=======>......................] - ETA: 14s - loss: 0.0301 - acc: 0.9874"
          ],
          "name": "stdout"
        },
        {
          "output_type": "stream",
          "text": [
            "32426/32426 [==============================] - 22s 672us/step - loss: 0.0324 - acc: 0.9858 - val_loss: 0.1508 - val_acc: 0.9543\n",
            "Epoch 16/30\n",
            "32426/32426 [==============================] - 22s 673us/step - loss: 0.0306 - acc: 0.9859 - val_loss: 0.1284 - val_acc: 0.9623\n",
            "Epoch 17/30\n",
            "32426/32426 [==============================] - 22s 672us/step - loss: 0.0297 - acc: 0.9869 - val_loss: 0.1271 - val_acc: 0.9650\n",
            "Epoch 18/30\n",
            " 8704/32426 [=======>......................] - ETA: 14s - loss: 0.0264 - acc: 0.9866"
          ],
          "name": "stdout"
        },
        {
          "output_type": "stream",
          "text": [
            "32426/32426 [==============================] - 22s 672us/step - loss: 0.0262 - acc: 0.9882 - val_loss: 0.1316 - val_acc: 0.9612\n",
            "Epoch 19/30\n",
            "32426/32426 [==============================] - 22s 674us/step - loss: 0.0262 - acc: 0.9881 - val_loss: 0.1439 - val_acc: 0.9609\n",
            "Epoch 20/30\n",
            "32426/32426 [==============================] - 22s 672us/step - loss: 0.0254 - acc: 0.9876 - val_loss: 0.1676 - val_acc: 0.9669\n",
            "Epoch 21/30\n",
            " 8704/32426 [=======>......................] - ETA: 14s - loss: 0.0292 - acc: 0.9876"
          ],
          "name": "stdout"
        },
        {
          "output_type": "stream",
          "text": [
            "32426/32426 [==============================] - 22s 673us/step - loss: 0.0256 - acc: 0.9879 - val_loss: 0.1454 - val_acc: 0.9581\n",
            "Epoch 22/30\n",
            "32426/32426 [==============================] - 22s 672us/step - loss: 0.0252 - acc: 0.9885 - val_loss: 0.1445 - val_acc: 0.9611\n",
            "Epoch 23/30\n",
            "32426/32426 [==============================] - 22s 673us/step - loss: 0.0257 - acc: 0.9877 - val_loss: 0.1470 - val_acc: 0.9654\n",
            "Epoch 24/30\n",
            " 8704/32426 [=======>......................] - ETA: 14s - loss: 0.0259 - acc: 0.9877"
          ],
          "name": "stdout"
        },
        {
          "output_type": "stream",
          "text": [
            "32426/32426 [==============================] - 22s 672us/step - loss: 0.0247 - acc: 0.9882 - val_loss: 0.1386 - val_acc: 0.9611\n",
            "Epoch 25/30\n",
            "32426/32426 [==============================] - 22s 672us/step - loss: 0.0225 - acc: 0.9897 - val_loss: 0.1211 - val_acc: 0.9698\n",
            "Epoch 26/30\n",
            "32426/32426 [==============================] - 22s 672us/step - loss: 0.0230 - acc: 0.9887 - val_loss: 0.1525 - val_acc: 0.9654\n",
            "Epoch 27/30\n",
            " 8704/32426 [=======>......................] - ETA: 14s - loss: 0.0167 - acc: 0.9916"
          ],
          "name": "stdout"
        },
        {
          "output_type": "stream",
          "text": [
            "32426/32426 [==============================] - 22s 671us/step - loss: 0.0227 - acc: 0.9891 - val_loss: 0.1501 - val_acc: 0.9681\n",
            "Epoch 28/30\n",
            "32426/32426 [==============================] - 22s 671us/step - loss: 0.0221 - acc: 0.9890 - val_loss: 0.1757 - val_acc: 0.9606\n",
            "Epoch 29/30\n",
            "32426/32426 [==============================] - 22s 672us/step - loss: 0.0223 - acc: 0.9893 - val_loss: 0.1379 - val_acc: 0.9716\n",
            "Epoch 30/30\n",
            " 8704/32426 [=======>......................] - ETA: 14s - loss: 0.0200 - acc: 0.9898"
          ],
          "name": "stdout"
        },
        {
          "output_type": "stream",
          "text": [
            "32426/32426 [==============================] - 22s 672us/step - loss: 0.0217 - acc: 0.9891 - val_loss: 0.2352 - val_acc: 0.9465\n",
            "Test loss: 0.23515295318411505\n",
            "Test accuracy: 0.9465284784004403\n"
          ],
          "name": "stdout"
        }
      ]
    },
    {
      "metadata": {
        "id": "nbA_v4BQO-iP",
        "colab_type": "code",
        "colab": {
          "autoexec": {
            "startup": false,
            "wait_interval": 0
          },
          "base_uri": "https://localhost:8080/",
          "height": 1146
        },
        "outputId": "de9589da-f819-493d-b2c4-fdcc44f24484",
        "executionInfo": {
          "status": "ok",
          "timestamp": 1529241092055,
          "user_tz": -420,
          "elapsed": 628121,
          "user": {
            "displayName": "Phạm Khánh",
            "photoUrl": "https://lh3.googleusercontent.com/a/default-user=s128",
            "userId": "108013420442388490411"
          }
        }
      },
      "cell_type": "code",
      "source": [
        "cnn(batch_size = 256, num_classes = 65, epochs = 30, numfilter1 = 32,\n",
        "        kernel_size1=(5, 5), numfilter2 = 64, kernel_size2=(3, 3), activation='relu', log_dir='log53')"
      ],
      "execution_count": 18,
      "outputs": [
        {
          "output_type": "stream",
          "text": [
            "x_train shape: (32426, 64, 64, 3)\n",
            "32426 train samples\n",
            "10903 test samples\n",
            "Train on 32426 samples, validate on 10903 samples\n",
            "Epoch 1/30\n",
            "32426/32426 [==============================] - 22s 681us/step - loss: 2.6165 - acc: 0.3228 - val_loss: 0.7965 - val_acc: 0.7755\n",
            "Epoch 2/30\n",
            "32426/32426 [==============================] - 21s 637us/step - loss: 0.4506 - acc: 0.8595 - val_loss: 0.3113 - val_acc: 0.8920\n",
            "Epoch 3/30\n",
            "13568/32426 [===========>..................] - ETA: 10s - loss: 0.2275 - acc: 0.9278"
          ],
          "name": "stdout"
        },
        {
          "output_type": "stream",
          "text": [
            "32426/32426 [==============================] - 21s 636us/step - loss: 0.1606 - acc: 0.9468 - val_loss: 0.2483 - val_acc: 0.9228\n",
            "Epoch 4/30\n",
            "32426/32426 [==============================] - 21s 638us/step - loss: 0.1021 - acc: 0.9653 - val_loss: 0.2225 - val_acc: 0.9338\n",
            "Epoch 5/30\n",
            "32426/32426 [==============================] - 21s 637us/step - loss: 0.0622 - acc: 0.9779 - val_loss: 0.1515 - val_acc: 0.9486\n",
            "Epoch 6/30\n",
            " 9728/32426 [========>.....................] - ETA: 12s - loss: 0.0450 - acc: 0.9833"
          ],
          "name": "stdout"
        },
        {
          "output_type": "stream",
          "text": [
            "32426/32426 [==============================] - 21s 637us/step - loss: 0.1753 - acc: 0.9573 - val_loss: 0.1630 - val_acc: 0.9504\n",
            "Epoch 7/30\n",
            "32426/32426 [==============================] - 21s 637us/step - loss: 0.0387 - acc: 0.9856 - val_loss: 0.1581 - val_acc: 0.9518\n",
            "Epoch 8/30\n",
            "32426/32426 [==============================] - 21s 635us/step - loss: 0.0407 - acc: 0.9839 - val_loss: 0.2096 - val_acc: 0.9360\n",
            "Epoch 9/30\n",
            " 9216/32426 [=======>......................] - ETA: 13s - loss: 0.1823 - acc: 0.9531"
          ],
          "name": "stdout"
        },
        {
          "output_type": "stream",
          "text": [
            "32426/32426 [==============================] - 21s 636us/step - loss: 0.0716 - acc: 0.9783 - val_loss: 0.1777 - val_acc: 0.9527\n",
            "Epoch 10/30\n",
            "32426/32426 [==============================] - 21s 636us/step - loss: 0.0285 - acc: 0.9871 - val_loss: 0.4723 - val_acc: 0.8835\n",
            "Epoch 11/30\n",
            "32426/32426 [==============================] - 21s 636us/step - loss: 0.0781 - acc: 0.9754 - val_loss: 0.1322 - val_acc: 0.9576\n",
            "Epoch 12/30\n",
            " 8960/32426 [=======>......................] - ETA: 13s - loss: 0.0262 - acc: 0.9867"
          ],
          "name": "stdout"
        },
        {
          "output_type": "stream",
          "text": [
            "32426/32426 [==============================] - 21s 636us/step - loss: 0.0263 - acc: 0.9879 - val_loss: 0.1847 - val_acc: 0.9495\n",
            "Epoch 13/30\n",
            "32426/32426 [==============================] - 21s 638us/step - loss: 0.0230 - acc: 0.9886 - val_loss: 0.1760 - val_acc: 0.9529\n",
            "Epoch 14/30\n",
            "32426/32426 [==============================] - 21s 636us/step - loss: 0.0238 - acc: 0.9896 - val_loss: 0.2094 - val_acc: 0.9494\n",
            "Epoch 15/30\n",
            " 8704/32426 [=======>......................] - ETA: 13s - loss: 0.0221 - acc: 0.9897"
          ],
          "name": "stdout"
        },
        {
          "output_type": "stream",
          "text": [
            "32426/32426 [==============================] - 21s 637us/step - loss: 0.0205 - acc: 0.9903 - val_loss: 0.1587 - val_acc: 0.9566\n",
            "Epoch 16/30\n",
            "32426/32426 [==============================] - 21s 637us/step - loss: 0.0266 - acc: 0.9888 - val_loss: 0.1789 - val_acc: 0.9554\n",
            "Epoch 17/30\n",
            "32426/32426 [==============================] - 21s 637us/step - loss: 0.0212 - acc: 0.9898 - val_loss: 0.1792 - val_acc: 0.9540\n",
            "Epoch 18/30\n",
            " 8704/32426 [=======>......................] - ETA: 13s - loss: 0.0189 - acc: 0.9909"
          ],
          "name": "stdout"
        },
        {
          "output_type": "stream",
          "text": [
            "32426/32426 [==============================] - 21s 638us/step - loss: 0.0196 - acc: 0.9907 - val_loss: 0.1753 - val_acc: 0.9512\n",
            "Epoch 19/30\n",
            "32426/32426 [==============================] - 21s 638us/step - loss: 0.0172 - acc: 0.9911 - val_loss: 0.1784 - val_acc: 0.9516\n",
            "Epoch 20/30\n",
            "32426/32426 [==============================] - 21s 637us/step - loss: 0.0176 - acc: 0.9906 - val_loss: 0.2122 - val_acc: 0.9505\n",
            "Epoch 21/30\n",
            " 8704/32426 [=======>......................] - ETA: 13s - loss: 0.0156 - acc: 0.9913"
          ],
          "name": "stdout"
        },
        {
          "output_type": "stream",
          "text": [
            "32426/32426 [==============================] - 21s 636us/step - loss: 0.0182 - acc: 0.9904 - val_loss: 0.1734 - val_acc: 0.9575\n",
            "Epoch 22/30\n",
            "32426/32426 [==============================] - 21s 638us/step - loss: 0.0187 - acc: 0.9896 - val_loss: 0.2500 - val_acc: 0.9423\n",
            "Epoch 23/30\n",
            "32426/32426 [==============================] - 21s 637us/step - loss: 0.0165 - acc: 0.9908 - val_loss: 0.2095 - val_acc: 0.9539\n",
            "Epoch 24/30\n",
            " 8704/32426 [=======>......................] - ETA: 13s - loss: 0.0184 - acc: 0.9913"
          ],
          "name": "stdout"
        },
        {
          "output_type": "stream",
          "text": [
            "32426/32426 [==============================] - 21s 637us/step - loss: 0.0180 - acc: 0.9903 - val_loss: 0.1757 - val_acc: 0.9614\n",
            "Epoch 25/30\n",
            "32426/32426 [==============================] - 21s 637us/step - loss: 0.0172 - acc: 0.9903 - val_loss: 0.1682 - val_acc: 0.9561\n",
            "Epoch 26/30\n",
            "32426/32426 [==============================] - 21s 636us/step - loss: 0.0155 - acc: 0.9912 - val_loss: 0.1748 - val_acc: 0.9574\n",
            "Epoch 27/30\n",
            " 8704/32426 [=======>......................] - ETA: 13s - loss: 0.0153 - acc: 0.9921"
          ],
          "name": "stdout"
        },
        {
          "output_type": "stream",
          "text": [
            "32426/32426 [==============================] - 21s 637us/step - loss: 0.0162 - acc: 0.9911 - val_loss: 0.1801 - val_acc: 0.9509\n",
            "Epoch 28/30\n",
            "32426/32426 [==============================] - 21s 638us/step - loss: 0.0167 - acc: 0.9908 - val_loss: 0.1752 - val_acc: 0.9580\n",
            "Epoch 29/30\n",
            "32426/32426 [==============================] - 21s 637us/step - loss: 0.0154 - acc: 0.9918 - val_loss: 0.1968 - val_acc: 0.9525\n",
            "Epoch 30/30\n",
            " 8704/32426 [=======>......................] - ETA: 13s - loss: 0.0148 - acc: 0.9910"
          ],
          "name": "stdout"
        },
        {
          "output_type": "stream",
          "text": [
            "32426/32426 [==============================] - 21s 636us/step - loss: 0.2149 - acc: 0.9598 - val_loss: 0.2105 - val_acc: 0.9452\n",
            "Test loss: 0.2105261381798417\n",
            "Test accuracy: 0.9452444281390443\n"
          ],
          "name": "stdout"
        }
      ]
    },
    {
      "metadata": {
        "id": "HjzD97wVSGMV",
        "colab_type": "code",
        "colab": {
          "autoexec": {
            "startup": false,
            "wait_interval": 0
          },
          "base_uri": "https://localhost:8080/",
          "height": 1146
        },
        "outputId": "c59c6d27-7209-4b8c-cf12-a23236ab3498",
        "executionInfo": {
          "status": "ok",
          "timestamp": 1529241865231,
          "user_tz": -420,
          "elapsed": 689053,
          "user": {
            "displayName": "Phạm Khánh",
            "photoUrl": "https://lh3.googleusercontent.com/a/default-user=s128",
            "userId": "108013420442388490411"
          }
        }
      },
      "cell_type": "code",
      "source": [
        "cnn(batch_size = 256, num_classes = 65, epochs = 30, numfilter1 = 32,\n",
        "        kernel_size1=(3, 3), numfilter2 = 64, kernel_size2=(5, 5), activation='relu', log_dir='log35')"
      ],
      "execution_count": 19,
      "outputs": [
        {
          "output_type": "stream",
          "text": [
            "x_train shape: (32426, 64, 64, 3)\n",
            "32426 train samples\n",
            "10903 test samples\n",
            "Train on 32426 samples, validate on 10903 samples\n",
            "Epoch 1/30\n",
            "32426/32426 [==============================] - 25s 765us/step - loss: 2.3708 - acc: 0.3881 - val_loss: 0.8564 - val_acc: 0.7515\n",
            "Epoch 2/30\n",
            "32426/32426 [==============================] - 23s 701us/step - loss: 0.2853 - acc: 0.9113 - val_loss: 0.4194 - val_acc: 0.8787\n",
            "Epoch 3/30\n",
            "13568/32426 [===========>..................] - ETA: 11s - loss: 0.1110 - acc: 0.9646"
          ],
          "name": "stdout"
        },
        {
          "output_type": "stream",
          "text": [
            "32426/32426 [==============================] - 23s 702us/step - loss: 0.0885 - acc: 0.9712 - val_loss: 0.2370 - val_acc: 0.9208\n",
            "Epoch 4/30\n",
            "32426/32426 [==============================] - 23s 701us/step - loss: 0.0620 - acc: 0.9787 - val_loss: 0.1939 - val_acc: 0.9323\n",
            "Epoch 5/30\n",
            "32426/32426 [==============================] - 23s 699us/step - loss: 0.0338 - acc: 0.9875 - val_loss: 0.1848 - val_acc: 0.9361\n",
            "Epoch 6/30\n",
            " 9728/32426 [========>.....................] - ETA: 14s - loss: 0.0279 - acc: 0.9876"
          ],
          "name": "stdout"
        },
        {
          "output_type": "stream",
          "text": [
            "32426/32426 [==============================] - 23s 698us/step - loss: 0.0300 - acc: 0.9873 - val_loss: 0.1806 - val_acc: 0.9435\n",
            "Epoch 7/30\n",
            "32426/32426 [==============================] - 23s 699us/step - loss: 0.0256 - acc: 0.9894 - val_loss: 0.1914 - val_acc: 0.9427\n",
            "Epoch 8/30\n",
            "32426/32426 [==============================] - 23s 698us/step - loss: 0.0253 - acc: 0.9891 - val_loss: 0.1908 - val_acc: 0.9491\n",
            "Epoch 9/30\n",
            " 9216/32426 [=======>......................] - ETA: 14s - loss: 0.0182 - acc: 0.9903"
          ],
          "name": "stdout"
        },
        {
          "output_type": "stream",
          "text": [
            "32426/32426 [==============================] - 23s 698us/step - loss: 0.0205 - acc: 0.9899 - val_loss: 0.1656 - val_acc: 0.9514\n",
            "Epoch 10/30\n",
            "32426/32426 [==============================] - 23s 698us/step - loss: 0.0199 - acc: 0.9904 - val_loss: 0.2555 - val_acc: 0.9331\n",
            "Epoch 11/30\n",
            "32426/32426 [==============================] - 23s 699us/step - loss: 0.0170 - acc: 0.9912 - val_loss: 0.1761 - val_acc: 0.9504\n",
            "Epoch 12/30\n",
            " 8960/32426 [=======>......................] - ETA: 14s - loss: 0.0214 - acc: 0.9900"
          ],
          "name": "stdout"
        },
        {
          "output_type": "stream",
          "text": [
            "32426/32426 [==============================] - 23s 699us/step - loss: 0.0186 - acc: 0.9908 - val_loss: 0.2124 - val_acc: 0.9449\n",
            "Epoch 13/30\n",
            "32426/32426 [==============================] - 23s 699us/step - loss: 0.0162 - acc: 0.9914 - val_loss: 0.2306 - val_acc: 0.9430\n",
            "Epoch 14/30\n",
            "32426/32426 [==============================] - 23s 697us/step - loss: 0.0169 - acc: 0.9912 - val_loss: 0.2105 - val_acc: 0.9401\n",
            "Epoch 15/30\n",
            " 8704/32426 [=======>......................] - ETA: 14s - loss: 0.0304 - acc: 0.9868"
          ],
          "name": "stdout"
        },
        {
          "output_type": "stream",
          "text": [
            "32426/32426 [==============================] - 23s 698us/step - loss: 0.0191 - acc: 0.9904 - val_loss: 0.1738 - val_acc: 0.9507\n",
            "Epoch 16/30\n",
            "32426/32426 [==============================] - 23s 698us/step - loss: 0.0144 - acc: 0.9921 - val_loss: 0.2110 - val_acc: 0.9424\n",
            "Epoch 17/30\n",
            "32426/32426 [==============================] - 23s 696us/step - loss: 0.1062 - acc: 0.9756 - val_loss: 0.1566 - val_acc: 0.9508\n",
            "Epoch 18/30\n",
            " 8704/32426 [=======>......................] - ETA: 14s - loss: 0.0152 - acc: 0.9918"
          ],
          "name": "stdout"
        },
        {
          "output_type": "stream",
          "text": [
            "32426/32426 [==============================] - 23s 698us/step - loss: 0.0165 - acc: 0.9914 - val_loss: 0.1971 - val_acc: 0.9487\n",
            "Epoch 19/30\n",
            "32426/32426 [==============================] - 23s 698us/step - loss: 0.0142 - acc: 0.9919 - val_loss: 0.1784 - val_acc: 0.9550\n",
            "Epoch 20/30\n",
            "32426/32426 [==============================] - 23s 698us/step - loss: 0.0165 - acc: 0.9912 - val_loss: 0.1859 - val_acc: 0.9532\n",
            "Epoch 21/30\n",
            " 8704/32426 [=======>......................] - ETA: 14s - loss: 0.0126 - acc: 0.9933"
          ],
          "name": "stdout"
        },
        {
          "output_type": "stream",
          "text": [
            "32426/32426 [==============================] - 23s 698us/step - loss: 0.0137 - acc: 0.9926 - val_loss: 0.1849 - val_acc: 0.9487\n",
            "Epoch 22/30\n",
            "32426/32426 [==============================] - 23s 699us/step - loss: 0.0164 - acc: 0.9913 - val_loss: 0.2329 - val_acc: 0.9489\n",
            "Epoch 23/30\n",
            "32426/32426 [==============================] - 23s 698us/step - loss: 0.0139 - acc: 0.9925 - val_loss: 0.1710 - val_acc: 0.9607\n",
            "Epoch 24/30\n",
            " 8704/32426 [=======>......................] - ETA: 14s - loss: 0.0134 - acc: 0.9930"
          ],
          "name": "stdout"
        },
        {
          "output_type": "stream",
          "text": [
            "32426/32426 [==============================] - 23s 700us/step - loss: 0.0147 - acc: 0.9920 - val_loss: 0.1866 - val_acc: 0.9558\n",
            "Epoch 25/30\n",
            "32426/32426 [==============================] - 23s 700us/step - loss: 0.0124 - acc: 0.9927 - val_loss: 0.1811 - val_acc: 0.9564\n",
            "Epoch 26/30\n",
            "32426/32426 [==============================] - 23s 699us/step - loss: 0.0133 - acc: 0.9920 - val_loss: 0.1735 - val_acc: 0.9567\n",
            "Epoch 27/30\n",
            " 8704/32426 [=======>......................] - ETA: 14s - loss: 0.0131 - acc: 0.9918"
          ],
          "name": "stdout"
        },
        {
          "output_type": "stream",
          "text": [
            "32426/32426 [==============================] - 23s 699us/step - loss: 0.0131 - acc: 0.9921 - val_loss: 0.2946 - val_acc: 0.9336\n",
            "Epoch 28/30\n",
            "32426/32426 [==============================] - 23s 697us/step - loss: 0.0124 - acc: 0.9923 - val_loss: 0.1954 - val_acc: 0.9518\n",
            "Epoch 29/30\n",
            "32426/32426 [==============================] - 23s 698us/step - loss: 0.0132 - acc: 0.9924 - val_loss: 0.2416 - val_acc: 0.9481\n",
            "Epoch 30/30\n",
            " 8704/32426 [=======>......................] - ETA: 14s - loss: 0.0146 - acc: 0.9910"
          ],
          "name": "stdout"
        },
        {
          "output_type": "stream",
          "text": [
            "32426/32426 [==============================] - 23s 698us/step - loss: 0.0129 - acc: 0.9919 - val_loss: 0.2164 - val_acc: 0.9536\n",
            "Test loss: 0.21640918854984553\n",
            "Test accuracy: 0.953590754838118\n"
          ],
          "name": "stdout"
        }
      ]
    },
    {
      "metadata": {
        "id": "sPoZvL0c7zfp",
        "colab_type": "code",
        "colab": {
          "autoexec": {
            "startup": false,
            "wait_interval": 0
          },
          "base_uri": "https://localhost:8080/",
          "height": 1146
        },
        "outputId": "c7d74acb-964c-4996-b7a4-c8b678e5f772",
        "executionInfo": {
          "status": "ok",
          "timestamp": 1529243101573,
          "user_tz": -420,
          "elapsed": 923146,
          "user": {
            "displayName": "Phạm Khánh",
            "photoUrl": "https://lh3.googleusercontent.com/a/default-user=s128",
            "userId": "108013420442388490411"
          }
        }
      },
      "cell_type": "code",
      "source": [
        "cnn(batch_size = 256, num_classes = 65, epochs = 30, numfilter1 = 64,\n",
        "        kernel_size1=(3, 3), numfilter2 = 64, kernel_size2=(5, 5), activation='relu', log_dir='log64')"
      ],
      "execution_count": 20,
      "outputs": [
        {
          "output_type": "stream",
          "text": [
            "x_train shape: (32426, 64, 64, 3)\n",
            "32426 train samples\n",
            "10903 test samples\n",
            "Train on 32426 samples, validate on 10903 samples\n",
            "Epoch 1/30\n",
            "32426/32426 [==============================] - 34s 1ms/step - loss: 2.4371 - acc: 0.3768 - val_loss: 0.7221 - val_acc: 0.7933\n",
            "Epoch 2/30\n",
            "32426/32426 [==============================] - 30s 937us/step - loss: 0.2717 - acc: 0.9171 - val_loss: 0.3301 - val_acc: 0.8983\n",
            "Epoch 3/30\n",
            "13568/32426 [===========>..................] - ETA: 15s - loss: 0.0833 - acc: 0.9712"
          ],
          "name": "stdout"
        },
        {
          "output_type": "stream",
          "text": [
            "32426/32426 [==============================] - 30s 940us/step - loss: 0.1238 - acc: 0.9617 - val_loss: 0.1922 - val_acc: 0.9390\n",
            "Epoch 4/30\n",
            "32426/32426 [==============================] - 30s 939us/step - loss: 0.0413 - acc: 0.9849 - val_loss: 0.3034 - val_acc: 0.8957\n",
            "Epoch 5/30\n",
            "32426/32426 [==============================] - 31s 941us/step - loss: 0.0504 - acc: 0.9821 - val_loss: 0.1829 - val_acc: 0.9456\n",
            "Epoch 6/30\n",
            " 9472/32426 [=======>......................] - ETA: 19s - loss: 0.0344 - acc: 0.9863"
          ],
          "name": "stdout"
        },
        {
          "output_type": "stream",
          "text": [
            "32426/32426 [==============================] - 30s 938us/step - loss: 0.0485 - acc: 0.9835 - val_loss: 0.1532 - val_acc: 0.9513\n",
            "Epoch 7/30\n",
            "32426/32426 [==============================] - 30s 939us/step - loss: 0.0294 - acc: 0.9885 - val_loss: 0.1664 - val_acc: 0.9470\n",
            "Epoch 8/30\n",
            "32426/32426 [==============================] - 30s 938us/step - loss: 0.0210 - acc: 0.9907 - val_loss: 0.2324 - val_acc: 0.9403\n",
            "Epoch 9/30\n",
            " 8704/32426 [=======>......................] - ETA: 20s - loss: 0.0170 - acc: 0.9915"
          ],
          "name": "stdout"
        },
        {
          "output_type": "stream",
          "text": [
            "32426/32426 [==============================] - 30s 938us/step - loss: 0.1037 - acc: 0.9725 - val_loss: 0.1869 - val_acc: 0.9434\n",
            "Epoch 10/30\n",
            "32426/32426 [==============================] - 30s 937us/step - loss: 0.0174 - acc: 0.9917 - val_loss: 0.2022 - val_acc: 0.9496\n",
            "Epoch 11/30\n",
            "32426/32426 [==============================] - 30s 938us/step - loss: 0.0190 - acc: 0.9911 - val_loss: 0.1729 - val_acc: 0.9568\n",
            "Epoch 12/30\n",
            " 8192/32426 [======>.......................] - ETA: 20s - loss: 0.0156 - acc: 0.9917"
          ],
          "name": "stdout"
        },
        {
          "output_type": "stream",
          "text": [
            "32426/32426 [==============================] - 30s 936us/step - loss: 0.0152 - acc: 0.9922 - val_loss: 0.1765 - val_acc: 0.9520\n",
            "Epoch 13/30\n",
            "32426/32426 [==============================] - 30s 936us/step - loss: 0.0159 - acc: 0.9914 - val_loss: 0.1695 - val_acc: 0.9566\n",
            "Epoch 14/30\n",
            "32426/32426 [==============================] - 30s 936us/step - loss: 0.0177 - acc: 0.9909 - val_loss: 0.3203 - val_acc: 0.9375\n",
            "Epoch 15/30\n",
            " 8192/32426 [======>.......................] - ETA: 20s - loss: 0.0205 - acc: 0.9894"
          ],
          "name": "stdout"
        },
        {
          "output_type": "stream",
          "text": [
            "32426/32426 [==============================] - 30s 938us/step - loss: 0.0158 - acc: 0.9915 - val_loss: 0.1650 - val_acc: 0.9485\n",
            "Epoch 16/30\n",
            "32426/32426 [==============================] - 30s 936us/step - loss: 0.0141 - acc: 0.9923 - val_loss: 0.1702 - val_acc: 0.9571\n",
            "Epoch 17/30\n",
            "32426/32426 [==============================] - 30s 935us/step - loss: 0.0137 - acc: 0.9921 - val_loss: 0.2441 - val_acc: 0.9388\n",
            "Epoch 18/30\n",
            " 8192/32426 [======>.......................] - ETA: 20s - loss: 0.4526 - acc: 0.9309"
          ],
          "name": "stdout"
        },
        {
          "output_type": "stream",
          "text": [
            "32426/32426 [==============================] - 30s 935us/step - loss: 0.1968 - acc: 0.9628 - val_loss: 0.1973 - val_acc: 0.9414\n",
            "Epoch 19/30\n",
            "32426/32426 [==============================] - 30s 935us/step - loss: 0.0160 - acc: 0.9917 - val_loss: 0.2426 - val_acc: 0.9400\n",
            "Epoch 20/30\n",
            "32426/32426 [==============================] - 30s 936us/step - loss: 0.0154 - acc: 0.9916 - val_loss: 0.2071 - val_acc: 0.9534\n",
            "Epoch 21/30\n",
            " 8192/32426 [======>.......................] - ETA: 20s - loss: 0.0125 - acc: 0.9927"
          ],
          "name": "stdout"
        },
        {
          "output_type": "stream",
          "text": [
            "32426/32426 [==============================] - 30s 936us/step - loss: 0.0139 - acc: 0.9924 - val_loss: 0.2006 - val_acc: 0.9460\n",
            "Epoch 22/30\n",
            "32426/32426 [==============================] - 30s 934us/step - loss: 0.0138 - acc: 0.9922 - val_loss: 0.1926 - val_acc: 0.9529\n",
            "Epoch 23/30\n",
            "32426/32426 [==============================] - 30s 933us/step - loss: 0.0161 - acc: 0.9916 - val_loss: 0.2154 - val_acc: 0.9443\n",
            "Epoch 24/30\n",
            " 8192/32426 [======>.......................] - ETA: 20s - loss: 0.0128 - acc: 0.9924"
          ],
          "name": "stdout"
        },
        {
          "output_type": "stream",
          "text": [
            "32426/32426 [==============================] - 30s 934us/step - loss: 0.0119 - acc: 0.9932 - val_loss: 0.2001 - val_acc: 0.9497\n",
            "Epoch 25/30\n",
            "32426/32426 [==============================] - 30s 934us/step - loss: 0.0121 - acc: 0.9928 - val_loss: 0.2399 - val_acc: 0.9546\n",
            "Epoch 26/30\n",
            "32426/32426 [==============================] - 30s 932us/step - loss: 0.0133 - acc: 0.9918 - val_loss: 0.1992 - val_acc: 0.9543\n",
            "Epoch 27/30\n",
            " 8192/32426 [======>.......................] - ETA: 20s - loss: 0.0104 - acc: 0.9929"
          ],
          "name": "stdout"
        },
        {
          "output_type": "stream",
          "text": [
            "32426/32426 [==============================] - 30s 933us/step - loss: 0.0120 - acc: 0.9931 - val_loss: 0.2395 - val_acc: 0.9555\n",
            "Epoch 28/30\n",
            "32426/32426 [==============================] - 30s 934us/step - loss: 0.0124 - acc: 0.9921 - val_loss: 0.1671 - val_acc: 0.9586\n",
            "Epoch 29/30\n",
            "32426/32426 [==============================] - 30s 933us/step - loss: 0.0117 - acc: 0.9931 - val_loss: 0.1953 - val_acc: 0.9534\n",
            "Epoch 30/30\n",
            " 8192/32426 [======>.......................] - ETA: 20s - loss: 0.0108 - acc: 0.9924"
          ],
          "name": "stdout"
        },
        {
          "output_type": "stream",
          "text": [
            "32426/32426 [==============================] - 30s 934us/step - loss: 0.0127 - acc: 0.9923 - val_loss: 0.1880 - val_acc: 0.9591\n",
            "Test loss: 0.1879547352963785\n",
            "Test accuracy: 0.9590938273869577\n"
          ],
          "name": "stdout"
        }
      ]
    },
    {
      "metadata": {
        "id": "dGxO8PVtAnkH",
        "colab_type": "code",
        "colab": {
          "autoexec": {
            "startup": false,
            "wait_interval": 0
          },
          "base_uri": "https://localhost:8080/",
          "height": 1146
        },
        "outputId": "8cf7741e-bb87-49c5-e45c-0a003497b560",
        "executionInfo": {
          "status": "ok",
          "timestamp": 1529243892043,
          "user_tz": -420,
          "elapsed": 418374,
          "user": {
            "displayName": "Phạm Khánh",
            "photoUrl": "https://lh3.googleusercontent.com/a/default-user=s128",
            "userId": "108013420442388490411"
          }
        }
      },
      "cell_type": "code",
      "source": [
        "cnn(batch_size = 256, num_classes = 65, epochs = 30, numfilter1 = 32,\n",
        "        kernel_size1=(3, 3), numfilter2 = 32, kernel_size2=(3, 3), activation='relu', log_dir='log64')"
      ],
      "execution_count": 21,
      "outputs": [
        {
          "output_type": "stream",
          "text": [
            "x_train shape: (32426, 64, 64, 3)\n",
            "32426 train samples\n",
            "10903 test samples\n",
            "Train on 32426 samples, validate on 10903 samples\n",
            "Epoch 1/30\n",
            "32426/32426 [==============================] - 15s 449us/step - loss: 2.3359 - acc: 0.3848 - val_loss: 0.6952 - val_acc: 0.8026\n",
            "Epoch 2/30\n",
            "32426/32426 [==============================] - 14s 422us/step - loss: 0.3266 - acc: 0.9008 - val_loss: 0.2689 - val_acc: 0.8999\n",
            "Epoch 3/30\n",
            "13568/32426 [===========>..................] - ETA: 7s - loss: 0.1144 - acc: 0.9644"
          ],
          "name": "stdout"
        },
        {
          "output_type": "stream",
          "text": [
            "32426/32426 [==============================] - 14s 423us/step - loss: 0.0936 - acc: 0.9701 - val_loss: 0.1992 - val_acc: 0.9366\n",
            "Epoch 4/30\n",
            "32426/32426 [==============================] - 14s 421us/step - loss: 0.0883 - acc: 0.9729 - val_loss: 0.1770 - val_acc: 0.9440\n",
            "Epoch 5/30\n",
            "32426/32426 [==============================] - 14s 423us/step - loss: 0.0345 - acc: 0.9874 - val_loss: 0.1575 - val_acc: 0.9454\n",
            "Epoch 6/30\n",
            " 9728/32426 [========>.....................] - ETA: 8s - loss: 0.0410 - acc: 0.9857"
          ],
          "name": "stdout"
        },
        {
          "output_type": "stream",
          "text": [
            "32426/32426 [==============================] - 14s 423us/step - loss: 0.0330 - acc: 0.9871 - val_loss: 0.1682 - val_acc: 0.9418\n",
            "Epoch 7/30\n",
            "32426/32426 [==============================] - 14s 424us/step - loss: 0.0278 - acc: 0.9886 - val_loss: 0.1402 - val_acc: 0.9522\n",
            "Epoch 8/30\n",
            "32426/32426 [==============================] - 14s 424us/step - loss: 0.0206 - acc: 0.9903 - val_loss: 0.1507 - val_acc: 0.9476\n",
            "Epoch 9/30\n",
            " 8448/32426 [======>.......................] - ETA: 9s - loss: 0.0203 - acc: 0.9906"
          ],
          "name": "stdout"
        },
        {
          "output_type": "stream",
          "text": [
            "32426/32426 [==============================] - 14s 422us/step - loss: 0.0222 - acc: 0.9897 - val_loss: 0.1649 - val_acc: 0.9438\n",
            "Epoch 10/30\n",
            "32426/32426 [==============================] - 14s 424us/step - loss: 0.0198 - acc: 0.9908 - val_loss: 0.1610 - val_acc: 0.9510\n",
            "Epoch 11/30\n",
            "32426/32426 [==============================] - 14s 423us/step - loss: 0.0176 - acc: 0.9916 - val_loss: 0.1295 - val_acc: 0.9547\n",
            "Epoch 12/30\n",
            " 8192/32426 [======>.......................] - ETA: 9s - loss: 0.0208 - acc: 0.9904"
          ],
          "name": "stdout"
        },
        {
          "output_type": "stream",
          "text": [
            "32426/32426 [==============================] - 14s 424us/step - loss: 0.0179 - acc: 0.9908 - val_loss: 0.1761 - val_acc: 0.9510\n",
            "Epoch 13/30\n",
            "32426/32426 [==============================] - 14s 424us/step - loss: 0.0164 - acc: 0.9916 - val_loss: 0.1313 - val_acc: 0.9609\n",
            "Epoch 14/30\n",
            "32426/32426 [==============================] - 14s 421us/step - loss: 0.0162 - acc: 0.9915 - val_loss: 0.2254 - val_acc: 0.9484\n",
            "Epoch 15/30\n",
            " 8704/32426 [=======>......................] - ETA: 8s - loss: 0.0154 - acc: 0.9915"
          ],
          "name": "stdout"
        },
        {
          "output_type": "stream",
          "text": [
            "32426/32426 [==============================] - 14s 423us/step - loss: 0.0146 - acc: 0.9919 - val_loss: 0.1409 - val_acc: 0.9565\n",
            "Epoch 16/30\n",
            "32426/32426 [==============================] - 14s 422us/step - loss: 0.0144 - acc: 0.9919 - val_loss: 0.1361 - val_acc: 0.9582\n",
            "Epoch 17/30\n",
            "32426/32426 [==============================] - 14s 422us/step - loss: 0.0149 - acc: 0.9917 - val_loss: 0.1435 - val_acc: 0.9608\n",
            "Epoch 18/30\n",
            " 8448/32426 [======>.......................] - ETA: 9s - loss: 0.0140 - acc: 0.9918"
          ],
          "name": "stdout"
        },
        {
          "output_type": "stream",
          "text": [
            "32426/32426 [==============================] - 14s 424us/step - loss: 0.0139 - acc: 0.9922 - val_loss: 0.1609 - val_acc: 0.9649\n",
            "Epoch 19/30\n",
            "32426/32426 [==============================] - 14s 422us/step - loss: 0.0140 - acc: 0.9918 - val_loss: 0.1532 - val_acc: 0.9613\n",
            "Epoch 20/30\n",
            "32426/32426 [==============================] - 14s 425us/step - loss: 0.0138 - acc: 0.9923 - val_loss: 0.1518 - val_acc: 0.9596\n",
            "Epoch 21/30\n",
            " 6656/32426 [=====>........................] - ETA: 9s - loss: 0.0118 - acc: 0.9943"
          ],
          "name": "stdout"
        },
        {
          "output_type": "stream",
          "text": [
            "32426/32426 [==============================] - 14s 422us/step - loss: 0.0125 - acc: 0.9929 - val_loss: 0.1475 - val_acc: 0.9616\n",
            "Epoch 22/30\n",
            "32426/32426 [==============================] - 14s 422us/step - loss: 0.0149 - acc: 0.9920 - val_loss: 0.1685 - val_acc: 0.9653\n",
            "Epoch 23/30\n",
            "32426/32426 [==============================] - 14s 421us/step - loss: 0.0137 - acc: 0.9924 - val_loss: 0.1715 - val_acc: 0.9623\n",
            "Epoch 24/30\n",
            " 8192/32426 [======>.......................] - ETA: 9s - loss: 0.0125 - acc: 0.9935"
          ],
          "name": "stdout"
        },
        {
          "output_type": "stream",
          "text": [
            "32426/32426 [==============================] - 14s 423us/step - loss: 0.0131 - acc: 0.9928 - val_loss: 0.1458 - val_acc: 0.9568\n",
            "Epoch 25/30\n",
            "32426/32426 [==============================] - 14s 424us/step - loss: 0.0139 - acc: 0.9924 - val_loss: 0.1497 - val_acc: 0.9592\n",
            "Epoch 26/30\n",
            "32426/32426 [==============================] - 14s 423us/step - loss: 0.0129 - acc: 0.9924 - val_loss: 0.1982 - val_acc: 0.9599\n",
            "Epoch 27/30\n",
            " 7680/32426 [======>.......................] - ETA: 9s - loss: 0.0111 - acc: 0.9932"
          ],
          "name": "stdout"
        },
        {
          "output_type": "stream",
          "text": [
            "32426/32426 [==============================] - 14s 423us/step - loss: 0.0120 - acc: 0.9925 - val_loss: 0.1748 - val_acc: 0.9589\n",
            "Epoch 28/30\n",
            "32426/32426 [==============================] - 14s 422us/step - loss: 0.0136 - acc: 0.9919 - val_loss: 0.1454 - val_acc: 0.9626\n",
            "Epoch 29/30\n",
            "32426/32426 [==============================] - 14s 424us/step - loss: 0.0122 - acc: 0.9922 - val_loss: 0.1765 - val_acc: 0.9622\n",
            "Epoch 30/30\n",
            " 7936/32426 [======>.......................] - ETA: 9s - loss: 0.0307 - acc: 0.9887"
          ],
          "name": "stdout"
        },
        {
          "output_type": "stream",
          "text": [
            "32426/32426 [==============================] - 14s 423us/step - loss: 0.0174 - acc: 0.9915 - val_loss: 0.1701 - val_acc: 0.9628\n",
            "Test loss: 0.17007495958431634\n",
            "Test accuracy: 0.9627625424195175\n"
          ],
          "name": "stdout"
        }
      ]
    },
    {
      "metadata": {
        "id": "jYPSAyuHe8WG",
        "colab_type": "code",
        "colab": {
          "autoexec": {
            "startup": false,
            "wait_interval": 0
          },
          "base_uri": "https://localhost:8080/",
          "height": 50
        },
        "outputId": "c9261f06-83da-4098-ccf4-94d93249fbd8",
        "executionInfo": {
          "status": "ok",
          "timestamp": 1529227539185,
          "user_tz": -420,
          "elapsed": 1880,
          "user": {
            "displayName": "Phạm Khánh",
            "photoUrl": "https://lh3.googleusercontent.com/a/default-user=s128",
            "userId": "108013420442388490411"
          }
        }
      },
      "cell_type": "code",
      "source": [
        "!ls"
      ],
      "execution_count": 16,
      "outputs": [
        {
          "output_type": "stream",
          "text": [
            "data2\t fruits-360_dataset_2018_06_03.zip    logs\r\n",
            "datalab  fruits-360_dataset_2018_06_03.zip.1\r\n"
          ],
          "name": "stdout"
        }
      ]
    },
    {
      "metadata": {
        "id": "CpesIuH5fWK0",
        "colab_type": "code",
        "colab": {
          "autoexec": {
            "startup": false,
            "wait_interval": 0
          },
          "base_uri": "https://localhost:8080/",
          "height": 34
        },
        "outputId": "15df1163-bc58-48d1-c2b3-b2d88b8e04f3",
        "executionInfo": {
          "status": "ok",
          "timestamp": 1529230352190,
          "user_tz": -420,
          "elapsed": 721,
          "user": {
            "displayName": "Phạm Khánh",
            "photoUrl": "https://lh3.googleusercontent.com/a/default-user=s128",
            "userId": "108013420442388490411"
          }
        }
      },
      "cell_type": "code",
      "source": [
        "# import shutil\n",
        "# shutil.make_archive('logbatch256.zip', 'zip', 'logs4')"
      ],
      "execution_count": 27,
      "outputs": [
        {
          "output_type": "execute_result",
          "data": {
            "text/plain": [
              "'/content/logbatch256.zip.zip'"
            ]
          },
          "metadata": {
            "tags": []
          },
          "execution_count": 27
        }
      ]
    },
    {
      "metadata": {
        "id": "Za9GO4-Mfzx8",
        "colab_type": "code",
        "colab": {
          "autoexec": {
            "startup": false,
            "wait_interval": 0
          }
        }
      },
      "cell_type": "code",
      "source": [
        "# from google.colab import files\n",
        "# files.download('/content/logbatch256.zip.zip')  # from colab to browser download"
      ],
      "execution_count": 0,
      "outputs": []
    },
    {
      "metadata": {
        "id": "_rjiAXn8vI_u",
        "colab_type": "code",
        "colab": {
          "autoexec": {
            "startup": false,
            "wait_interval": 0
          }
        }
      },
      "cell_type": "code",
      "source": [
        "# from sklearn.ensemble import RandomForestClassifier\n",
        "# import numpy as np\n",
        "# import pandas as pd\n",
        "\n",
        "# rf = RandomForestClassifier(n_estimators=100)\n",
        "# rf.fit(x_train.reshape(x_train.shape[0],64*64*3), y_train)\n",
        "# pred = rf.predict(x_test.reshape(x_test.shape[0],64*64*3))\n",
        "\n",
        "\n",
        "# from sklearn.metrics import accuracy_score\n",
        "\n"
      ],
      "execution_count": 0,
      "outputs": []
    },
    {
      "metadata": {
        "id": "5OW13nTE2jWH",
        "colab_type": "code",
        "colab": {
          "autoexec": {
            "startup": false,
            "wait_interval": 0
          }
        }
      },
      "cell_type": "code",
      "source": [
        "# print(accuracy_score(y_test, pred))"
      ],
      "execution_count": 0,
      "outputs": []
    }
  ]
}